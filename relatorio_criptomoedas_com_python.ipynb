{
 "cells": [
  {
   "cell_type": "markdown",
   "metadata": {},
   "source": [
    "# Exportando um relatório em pdf do preço de criptomoedas utilizando python"
   ]
  },
  {
   "cell_type": "markdown",
   "metadata": {},
   "source": [
    "## Bibliotecas necessárias"
   ]
  },
  {
   "cell_type": "markdown",
   "metadata": {},
   "source": [
    "Para fazer este projeto, foram utilizadas as seguintes bibliotecas do Python,"
   ]
  },
  {
   "cell_type": "code",
   "execution_count": 1,
   "metadata": {},
   "outputs": [],
   "source": [
    "# libs de análise e manipulação dos dados\n",
    "import pandas as pd\n",
    "import numpy as np\n",
    "import pandas_datareader.data as web\n",
    "\n",
    "# libs de visualização dos dados e análises gráficas\n",
    "import matplotlib.pyplot as plt\n",
    "import plotly.graph_objects as go\n",
    "import plotly.express as px\n",
    "from plotly.subplots import make_subplots\n",
    "\n",
    "# lib para aquisição dos dados financeiros\n",
    "import yfinance as yf\n",
    "yf.pdr_override()   # função necessária para correta importação dos dados"
   ]
  },
  {
   "cell_type": "markdown",
   "metadata": {},
   "source": [
    "## Importando os dados utilizando API Yahoo Finance"
   ]
  },
  {
   "cell_type": "markdown",
   "metadata": {},
   "source": [
    "Para baixar os dados necessários do Bitcoin da API yfinance, é necessário definir alguns parâmetros. \n",
    "\n",
    "Primeiro, passar qual o \"símbolo\" da ação em questão. No caso, como o objetivo é analisar o variação do preço dos bitcoins em dólar, utiliza-se o código em formato de texto str 'BTC-USD'.\n",
    "\n",
    "Segundo, necessário passar o período do tempo em que se deseja acessar tais dados. Isto pode ser feito de duas formas, passando as datas de início e fim da análise, ou informando o período em q se deseja analisar (dias, meses ou anos). Neste projeto, utilizou-se os dados referentes a 6 meses."
   ]
  },
  {
   "cell_type": "code",
   "execution_count": 2,
   "metadata": {},
   "outputs": [],
   "source": [
    "# Definindo o símbolo da ação de interesse\n",
    "simbolo = 'BTC-USD'\n",
    "\n",
    "# definindo o período de tempo\n",
    "periodo = '6mo'"
   ]
  },
  {
   "cell_type": "markdown",
   "metadata": {},
   "source": [
    "Agora os dados podem ser coletados conforme segue abaixo,"
   ]
  },
  {
   "cell_type": "code",
   "execution_count": 3,
   "metadata": {},
   "outputs": [
    {
     "name": "stdout",
     "output_type": "stream",
     "text": [
      "[*********************100%%**********************]  1 of 1 completed\n"
     ]
    }
   ],
   "source": [
    "dados = web.get_data_yahoo(simbolo, period = periodo)"
   ]
  },
  {
   "cell_type": "markdown",
   "metadata": {},
   "source": [
    "Exibindo as primeiras 5 linhas do dataset importado,"
   ]
  },
  {
   "cell_type": "code",
   "execution_count": 4,
   "metadata": {},
   "outputs": [
    {
     "data": {
      "text/html": [
       "<div>\n",
       "<style scoped>\n",
       "    .dataframe tbody tr th:only-of-type {\n",
       "        vertical-align: middle;\n",
       "    }\n",
       "\n",
       "    .dataframe tbody tr th {\n",
       "        vertical-align: top;\n",
       "    }\n",
       "\n",
       "    .dataframe thead th {\n",
       "        text-align: right;\n",
       "    }\n",
       "</style>\n",
       "<table border=\"1\" class=\"dataframe\">\n",
       "  <thead>\n",
       "    <tr style=\"text-align: right;\">\n",
       "      <th></th>\n",
       "      <th>Open</th>\n",
       "      <th>High</th>\n",
       "      <th>Low</th>\n",
       "      <th>Close</th>\n",
       "      <th>Adj Close</th>\n",
       "      <th>Volume</th>\n",
       "    </tr>\n",
       "    <tr>\n",
       "      <th>Date</th>\n",
       "      <th></th>\n",
       "      <th></th>\n",
       "      <th></th>\n",
       "      <th></th>\n",
       "      <th></th>\n",
       "      <th></th>\n",
       "    </tr>\n",
       "  </thead>\n",
       "  <tbody>\n",
       "    <tr>\n",
       "      <th>2023-05-08</th>\n",
       "      <td>28450.457031</td>\n",
       "      <td>28663.271484</td>\n",
       "      <td>27310.134766</td>\n",
       "      <td>27694.273438</td>\n",
       "      <td>27694.273438</td>\n",
       "      <td>19122903752</td>\n",
       "    </tr>\n",
       "    <tr>\n",
       "      <th>2023-05-09</th>\n",
       "      <td>27695.068359</td>\n",
       "      <td>27821.400391</td>\n",
       "      <td>27375.601562</td>\n",
       "      <td>27658.775391</td>\n",
       "      <td>27658.775391</td>\n",
       "      <td>14128593256</td>\n",
       "    </tr>\n",
       "    <tr>\n",
       "      <th>2023-05-10</th>\n",
       "      <td>27654.636719</td>\n",
       "      <td>28322.687500</td>\n",
       "      <td>26883.669922</td>\n",
       "      <td>27621.755859</td>\n",
       "      <td>27621.755859</td>\n",
       "      <td>20656025026</td>\n",
       "    </tr>\n",
       "    <tr>\n",
       "      <th>2023-05-11</th>\n",
       "      <td>27621.085938</td>\n",
       "      <td>27621.941406</td>\n",
       "      <td>26781.826172</td>\n",
       "      <td>27000.789062</td>\n",
       "      <td>27000.789062</td>\n",
       "      <td>16724343943</td>\n",
       "    </tr>\n",
       "    <tr>\n",
       "      <th>2023-05-12</th>\n",
       "      <td>26987.662109</td>\n",
       "      <td>27055.646484</td>\n",
       "      <td>25878.429688</td>\n",
       "      <td>26804.990234</td>\n",
       "      <td>26804.990234</td>\n",
       "      <td>19313599897</td>\n",
       "    </tr>\n",
       "  </tbody>\n",
       "</table>\n",
       "</div>"
      ],
      "text/plain": [
       "                    Open          High           Low         Close  \\\n",
       "Date                                                                 \n",
       "2023-05-08  28450.457031  28663.271484  27310.134766  27694.273438   \n",
       "2023-05-09  27695.068359  27821.400391  27375.601562  27658.775391   \n",
       "2023-05-10  27654.636719  28322.687500  26883.669922  27621.755859   \n",
       "2023-05-11  27621.085938  27621.941406  26781.826172  27000.789062   \n",
       "2023-05-12  26987.662109  27055.646484  25878.429688  26804.990234   \n",
       "\n",
       "               Adj Close       Volume  \n",
       "Date                                   \n",
       "2023-05-08  27694.273438  19122903752  \n",
       "2023-05-09  27658.775391  14128593256  \n",
       "2023-05-10  27621.755859  20656025026  \n",
       "2023-05-11  27000.789062  16724343943  \n",
       "2023-05-12  26804.990234  19313599897  "
      ]
     },
     "execution_count": 4,
     "metadata": {},
     "output_type": "execute_result"
    }
   ],
   "source": [
    "dados.head()"
   ]
  },
  {
   "cell_type": "markdown",
   "metadata": {},
   "source": [
    "Acessando as estatísticas descritivas por coluna,"
   ]
  },
  {
   "cell_type": "code",
   "execution_count": 5,
   "metadata": {},
   "outputs": [
    {
     "data": {
      "text/html": [
       "<div>\n",
       "<style scoped>\n",
       "    .dataframe tbody tr th:only-of-type {\n",
       "        vertical-align: middle;\n",
       "    }\n",
       "\n",
       "    .dataframe tbody tr th {\n",
       "        vertical-align: top;\n",
       "    }\n",
       "\n",
       "    .dataframe thead th {\n",
       "        text-align: right;\n",
       "    }\n",
       "</style>\n",
       "<table border=\"1\" class=\"dataframe\">\n",
       "  <thead>\n",
       "    <tr style=\"text-align: right;\">\n",
       "      <th></th>\n",
       "      <th>Open</th>\n",
       "      <th>High</th>\n",
       "      <th>Low</th>\n",
       "      <th>Close</th>\n",
       "      <th>Adj Close</th>\n",
       "      <th>Volume</th>\n",
       "    </tr>\n",
       "  </thead>\n",
       "  <tbody>\n",
       "    <tr>\n",
       "      <th>count</th>\n",
       "      <td>185.000000</td>\n",
       "      <td>185.000000</td>\n",
       "      <td>185.000000</td>\n",
       "      <td>185.000000</td>\n",
       "      <td>185.000000</td>\n",
       "      <td>1.850000e+02</td>\n",
       "    </tr>\n",
       "    <tr>\n",
       "      <th>mean</th>\n",
       "      <td>28458.823459</td>\n",
       "      <td>28855.923342</td>\n",
       "      <td>28109.675834</td>\n",
       "      <td>28497.634692</td>\n",
       "      <td>28497.634692</td>\n",
       "      <td>1.391695e+10</td>\n",
       "    </tr>\n",
       "    <tr>\n",
       "      <th>std</th>\n",
       "      <td>2469.389398</td>\n",
       "      <td>2560.485913</td>\n",
       "      <td>2460.378677</td>\n",
       "      <td>2524.445371</td>\n",
       "      <td>2524.445371</td>\n",
       "      <td>5.782328e+09</td>\n",
       "    </tr>\n",
       "    <tr>\n",
       "      <th>min</th>\n",
       "      <td>25121.673828</td>\n",
       "      <td>25735.308594</td>\n",
       "      <td>24797.167969</td>\n",
       "      <td>25124.675781</td>\n",
       "      <td>25124.675781</td>\n",
       "      <td>5.331173e+09</td>\n",
       "    </tr>\n",
       "    <tr>\n",
       "      <th>25%</th>\n",
       "      <td>26564.056641</td>\n",
       "      <td>26888.882812</td>\n",
       "      <td>26240.701172</td>\n",
       "      <td>26567.632812</td>\n",
       "      <td>26567.632812</td>\n",
       "      <td>1.044652e+10</td>\n",
       "    </tr>\n",
       "    <tr>\n",
       "      <th>50%</th>\n",
       "      <td>27654.636719</td>\n",
       "      <td>28047.238281</td>\n",
       "      <td>27215.552734</td>\n",
       "      <td>27658.775391</td>\n",
       "      <td>27658.775391</td>\n",
       "      <td>1.282699e+10</td>\n",
       "    </tr>\n",
       "    <tr>\n",
       "      <th>75%</th>\n",
       "      <td>29907.998047</td>\n",
       "      <td>30233.656250</td>\n",
       "      <td>29664.121094</td>\n",
       "      <td>29912.281250</td>\n",
       "      <td>29912.281250</td>\n",
       "      <td>1.583738e+10</td>\n",
       "    </tr>\n",
       "    <tr>\n",
       "      <th>max</th>\n",
       "      <td>35441.578125</td>\n",
       "      <td>35919.843750</td>\n",
       "      <td>35159.812500</td>\n",
       "      <td>35652.761719</td>\n",
       "      <td>35652.761719</td>\n",
       "      <td>4.493500e+10</td>\n",
       "    </tr>\n",
       "  </tbody>\n",
       "</table>\n",
       "</div>"
      ],
      "text/plain": [
       "               Open          High           Low         Close     Adj Close  \\\n",
       "count    185.000000    185.000000    185.000000    185.000000    185.000000   \n",
       "mean   28458.823459  28855.923342  28109.675834  28497.634692  28497.634692   \n",
       "std     2469.389398   2560.485913   2460.378677   2524.445371   2524.445371   \n",
       "min    25121.673828  25735.308594  24797.167969  25124.675781  25124.675781   \n",
       "25%    26564.056641  26888.882812  26240.701172  26567.632812  26567.632812   \n",
       "50%    27654.636719  28047.238281  27215.552734  27658.775391  27658.775391   \n",
       "75%    29907.998047  30233.656250  29664.121094  29912.281250  29912.281250   \n",
       "max    35441.578125  35919.843750  35159.812500  35652.761719  35652.761719   \n",
       "\n",
       "             Volume  \n",
       "count  1.850000e+02  \n",
       "mean   1.391695e+10  \n",
       "std    5.782328e+09  \n",
       "min    5.331173e+09  \n",
       "25%    1.044652e+10  \n",
       "50%    1.282699e+10  \n",
       "75%    1.583738e+10  \n",
       "max    4.493500e+10  "
      ]
     },
     "execution_count": 5,
     "metadata": {},
     "output_type": "execute_result"
    }
   ],
   "source": [
    "dados.describe()"
   ]
  },
  {
   "cell_type": "markdown",
   "metadata": {},
   "source": [
    "Mais informações do dataset,"
   ]
  },
  {
   "cell_type": "code",
   "execution_count": 6,
   "metadata": {},
   "outputs": [
    {
     "name": "stdout",
     "output_type": "stream",
     "text": [
      "<class 'pandas.core.frame.DataFrame'>\n",
      "DatetimeIndex: 185 entries, 2023-05-08 to 2023-11-08\n",
      "Data columns (total 6 columns):\n",
      " #   Column     Non-Null Count  Dtype  \n",
      "---  ------     --------------  -----  \n",
      " 0   Open       185 non-null    float64\n",
      " 1   High       185 non-null    float64\n",
      " 2   Low        185 non-null    float64\n",
      " 3   Close      185 non-null    float64\n",
      " 4   Adj Close  185 non-null    float64\n",
      " 5   Volume     185 non-null    int64  \n",
      "dtypes: float64(5), int64(1)\n",
      "memory usage: 10.1 KB\n"
     ]
    }
   ],
   "source": [
    "dados.info()"
   ]
  },
  {
   "cell_type": "markdown",
   "metadata": {},
   "source": [
    "## Média móvel"
   ]
  },
  {
   "cell_type": "markdown",
   "metadata": {},
   "source": [
    "A fim de se visualizar os preços de fechamento do bitcoin ao longo de todo o período avaliado, plotou-se o gráfico abaixo. "
   ]
  },
  {
   "cell_type": "code",
   "execution_count": 7,
   "metadata": {},
   "outputs": [
    {
     "data": {
      "image/png": "[encoded data removed]",
      "text/plain": [
       "<Figure size 1200x800 with 1 Axes>"
      ]
     },
     "metadata": {},
     "output_type": "display_data"
    }
   ],
   "source": [
    "plt.figure(figsize=(12,8))\n",
    "plt.plot(dados['Close'])\n",
    "plt.title('Preço de fechamento');"
   ]
  },
  {
   "cell_type": "markdown",
   "metadata": {},
   "source": [
    "É muito comum em gráficos de variação de preços, ou até mesmo em gráficos de varejo, observar um comportamento oscilante dos dados ao longo do tempo. Para se avaliar melhor quais são as tendências dos dados, utiliza-se um gráfico plotando-se as médias móveis dos dados. Basicamente, a média móvel vai \"amenizar\" estes picos, suavizando a curva e permitindo melhores insights a partir das análises.\n",
    "\n",
    "Para fazer o cálculo da média móvel a respeito dos dados de fechamento do preço dos bitcoins, utilizou-se da função rolling( ), que permite calcular estatísticas em janelas predefinidas."
   ]
  },
  {
   "cell_type": "markdown",
   "metadata": {},
   "source": [
    "Calculando-se então as médias móveis, considerando uma janela de 5 dias,"
   ]
  },
  {
   "cell_type": "code",
   "execution_count": 8,
   "metadata": {},
   "outputs": [
    {
     "data": {
      "text/plain": [
       "Date\n",
       "2023-05-08             NaN\n",
       "2023-05-09             NaN\n",
       "2023-05-10             NaN\n",
       "2023-05-11             NaN\n",
       "2023-05-12    27356.116797\n",
       "                  ...     \n",
       "2023-11-04    34971.559375\n",
       "2023-11-05    35047.874219\n",
       "2023-11-06    34967.897656\n",
       "2023-11-07    35068.961719\n",
       "2023-11-08    35253.049219\n",
       "Name: Close, Length: 185, dtype: float64"
      ]
     },
     "execution_count": 8,
     "metadata": {},
     "output_type": "execute_result"
    }
   ],
   "source": [
    "window = 5\n",
    "dados['Close'].rolling(window = window).mean()"
   ]
  },
  {
   "cell_type": "markdown",
   "metadata": {},
   "source": [
    "Desta forma, plotou-se o gráfico de linhas abaixo, com os dados do preço de fechamento e os dados da média móvel considerando 5 dias e 25 dias."
   ]
  },
  {
   "cell_type": "code",
   "execution_count": 10,
   "metadata": {},
   "outputs": [
    {
     "data": {
      "image/png": "[encoded data removed]",
      "text/plain": [
       "<Figure size 1600x800 with 1 Axes>"
      ]
     },
     "metadata": {},
     "output_type": "display_data"
    }
   ],
   "source": [
    "# ajustando o tamanho do gráfico\n",
    "plt.figure(figsize = (16, 8))\n",
    "\n",
    "# definindo a janela para as médias móveis\n",
    "janela = 5\n",
    "\n",
    "# plots\n",
    "plt.plot(dados['Close'])                                        # preço de fechamento\n",
    "plt.plot(dados['Close'].rolling(window = janela).mean())        # média móvel de 5 dias\n",
    "plt.plot(dados['Close'].rolling(window = janela + 25).mean())   # média móvel de 25 dias\n",
    "\n",
    "# definindo a legenda para cada uma das curvas do gráfico\n",
    "plt.legend(['Fechamento', 'Média móvel 5 dias', 'Média móvel 25 dias'])\n",
    "\n",
    "# definindo o título do gráfico e os nomes dos eixos\n",
    "plt.ylabel('Valor de fechamento')\n",
    "plt.xlabel('Período')\n",
    "plt.title('Análise do preço de fechamento')\n",
    "\n",
    "plt.show()"
   ]
  },
  {
   "cell_type": "markdown",
   "metadata": {},
   "source": [
    "## Gráficos utilizando Plotly"
   ]
  },
  {
   "cell_type": "markdown",
   "metadata": {},
   "source": [
    "Antes de plotar os gráficos utilizando a biblioteca Plotly, criou-se uma nova coluna no dataset \"Media_movel\" com os dados de média móvel dos preços de fechamento, considerando uma janela de 5 dias."
   ]
  },
  {
   "cell_type": "code",
   "execution_count": 11,
   "metadata": {},
   "outputs": [],
   "source": [
    "janela = 5\n",
    "\n",
    "dados['Media_movel'] = dados['Close'].rolling(window = janela).mean()"
   ]
  },
  {
   "cell_type": "code",
   "execution_count": 12,
   "metadata": {},
   "outputs": [
    {
     "data": {
      "text/html": [
       "<div>\n",
       "<style scoped>\n",
       "    .dataframe tbody tr th:only-of-type {\n",
       "        vertical-align: middle;\n",
       "    }\n",
       "\n",
       "    .dataframe tbody tr th {\n",
       "        vertical-align: top;\n",
       "    }\n",
       "\n",
       "    .dataframe thead th {\n",
       "        text-align: right;\n",
       "    }\n",
       "</style>\n",
       "<table border=\"1\" class=\"dataframe\">\n",
       "  <thead>\n",
       "    <tr style=\"text-align: right;\">\n",
       "      <th></th>\n",
       "      <th>Open</th>\n",
       "      <th>High</th>\n",
       "      <th>Low</th>\n",
       "      <th>Close</th>\n",
       "      <th>Adj Close</th>\n",
       "      <th>Volume</th>\n",
       "      <th>Media_movel</th>\n",
       "    </tr>\n",
       "    <tr>\n",
       "      <th>Date</th>\n",
       "      <th></th>\n",
       "      <th></th>\n",
       "      <th></th>\n",
       "      <th></th>\n",
       "      <th></th>\n",
       "      <th></th>\n",
       "      <th></th>\n",
       "    </tr>\n",
       "  </thead>\n",
       "  <tbody>\n",
       "    <tr>\n",
       "      <th>2023-05-08</th>\n",
       "      <td>28450.457031</td>\n",
       "      <td>28663.271484</td>\n",
       "      <td>27310.134766</td>\n",
       "      <td>27694.273438</td>\n",
       "      <td>27694.273438</td>\n",
       "      <td>19122903752</td>\n",
       "      <td>NaN</td>\n",
       "    </tr>\n",
       "    <tr>\n",
       "      <th>2023-05-09</th>\n",
       "      <td>27695.068359</td>\n",
       "      <td>27821.400391</td>\n",
       "      <td>27375.601562</td>\n",
       "      <td>27658.775391</td>\n",
       "      <td>27658.775391</td>\n",
       "      <td>14128593256</td>\n",
       "      <td>NaN</td>\n",
       "    </tr>\n",
       "    <tr>\n",
       "      <th>2023-05-10</th>\n",
       "      <td>27654.636719</td>\n",
       "      <td>28322.687500</td>\n",
       "      <td>26883.669922</td>\n",
       "      <td>27621.755859</td>\n",
       "      <td>27621.755859</td>\n",
       "      <td>20656025026</td>\n",
       "      <td>NaN</td>\n",
       "    </tr>\n",
       "    <tr>\n",
       "      <th>2023-05-11</th>\n",
       "      <td>27621.085938</td>\n",
       "      <td>27621.941406</td>\n",
       "      <td>26781.826172</td>\n",
       "      <td>27000.789062</td>\n",
       "      <td>27000.789062</td>\n",
       "      <td>16724343943</td>\n",
       "      <td>NaN</td>\n",
       "    </tr>\n",
       "    <tr>\n",
       "      <th>2023-05-12</th>\n",
       "      <td>26987.662109</td>\n",
       "      <td>27055.646484</td>\n",
       "      <td>25878.429688</td>\n",
       "      <td>26804.990234</td>\n",
       "      <td>26804.990234</td>\n",
       "      <td>19313599897</td>\n",
       "      <td>27356.116797</td>\n",
       "    </tr>\n",
       "  </tbody>\n",
       "</table>\n",
       "</div>"
      ],
      "text/plain": [
       "                    Open          High           Low         Close  \\\n",
       "Date                                                                 \n",
       "2023-05-08  28450.457031  28663.271484  27310.134766  27694.273438   \n",
       "2023-05-09  27695.068359  27821.400391  27375.601562  27658.775391   \n",
       "2023-05-10  27654.636719  28322.687500  26883.669922  27621.755859   \n",
       "2023-05-11  27621.085938  27621.941406  26781.826172  27000.789062   \n",
       "2023-05-12  26987.662109  27055.646484  25878.429688  26804.990234   \n",
       "\n",
       "               Adj Close       Volume   Media_movel  \n",
       "Date                                                 \n",
       "2023-05-08  27694.273438  19122903752           NaN  \n",
       "2023-05-09  27658.775391  14128593256           NaN  \n",
       "2023-05-10  27621.755859  20656025026           NaN  \n",
       "2023-05-11  27000.789062  16724343943           NaN  \n",
       "2023-05-12  26804.990234  19313599897  27356.116797  "
      ]
     },
     "execution_count": 12,
     "metadata": {},
     "output_type": "execute_result"
    }
   ],
   "source": [
    "# visualizando o dataset com a nova coluna adicionada\n",
    "dados.head()"
   ]
  },
  {
   "cell_type": "markdown",
   "metadata": {},
   "source": [
    "### Gráficos de fechamento"
   ]
  },
  {
   "cell_type": "markdown",
   "metadata": {},
   "source": [
    "Plotou-se o mesmo gráfico de fechamento das médias móveis, porém utilizando o Plotly."
   ]
  },
  {
   "cell_type": "code",
   "execution_count": 13,
   "metadata": {},
   "outputs": [
    {
     "data": {
      "application/vnd.plotly.v1+json": {
       "config": {
        "plotlyServerURL": "https://plot.ly"
       },
       "data": [
        {
         "hovertemplate": "variable=Close<br>Date=%{x}<br>value=%{y}<extra></extra>",
         "legendgroup": "Close",
         "line": {
          "color": "#636efa",
          "dash": "solid"
         },
         "marker": {
          "symbol": "circle"
         },
         "mode": "lines",
         "name": "Close",
         "orientation": "v",
         "showlegend": true,
         "type": "scatter",
         "x": [
          "2023-05-08T00:00:00",
          "2023-05-09T00:00:00",
          "2023-05-10T00:00:00",
          "2023-05-11T00:00:00",
          "2023-05-12T00:00:00",
          "2023-05-13T00:00:00",
          "2023-05-14T00:00:00",
          "2023-05-15T00:00:00",
          "2023-05-16T00:00:00",
          "2023-05-17T00:00:00",
          "2023-05-18T00:00:00",
          "2023-05-19T00:00:00",
          "2023-05-20T00:00:00",
          "2023-05-21T00:00:00",
          "2023-05-22T00:00:00",
          "2023-05-23T00:00:00",
          "2023-05-24T00:00:00",
          "2023-05-25T00:00:00",
          "2023-05-26T00:00:00",
          "2023-05-27T00:00:00",
          "2023-05-28T00:00:00",
          "2023-05-29T00:00:00",
          "2023-05-30T00:00:00",
          "2023-05-31T00:00:00",
          "2023-06-01T00:00:00",
          "2023-06-02T00:00:00",
          "2023-06-03T00:00:00",
          "2023-06-04T00:00:00",
          "2023-06-05T00:00:00",
          "2023-06-06T00:00:00",
          "2023-06-07T00:00:00",
          "2023-06-08T00:00:00",
          "2023-06-09T00:00:00",
          "2023-06-10T00:00:00",
          "2023-06-11T00:00:00",
          "2023-06-12T00:00:00",
          "2023-06-13T00:00:00",
          "2023-06-14T00:00:00",
          "2023-06-15T00:00:00",
          "2023-06-16T00:00:00",
          "2023-06-17T00:00:00",
          "2023-06-18T00:00:00",
          "2023-06-19T00:00:00",
          "2023-06-20T00:00:00",
          "2023-06-21T00:00:00",
          "2023-06-22T00:00:00",
          "2023-06-23T00:00:00",
          "2023-06-24T00:00:00",
          "2023-06-25T00:00:00",
          "2023-06-26T00:00:00",
          "2023-06-27T00:00:00",
          "2023-06-28T00:00:00",
          "2023-06-29T00:00:00",
          "2023-06-30T00:00:00",
          "2023-07-01T00:00:00",
          "2023-07-02T00:00:00",
          "2023-07-03T00:00:00",
          "2023-07-04T00:00:00",
          "2023-07-05T00:00:00",
          "2023-07-06T00:00:00",
          "2023-07-07T00:00:00",
          "2023-07-08T00:00:00",
          "2023-07-09T00:00:00",
          "2023-07-10T00:00:00",
          "2023-07-11T00:00:00",
          "2023-07-12T00:00:00",
          "2023-07-13T00:00:00",
          "2023-07-14T00:00:00",
          "2023-07-15T00:00:00",
          "2023-07-16T00:00:00",
          "2023-07-17T00:00:00",
          "2023-07-18T00:00:00",
          "2023-07-19T00:00:00",
          "2023-07-20T00:00:00",
          "2023-07-21T00:00:00",
          "2023-07-22T00:00:00",
          "2023-07-23T00:00:00",
          "2023-07-24T00:00:00",
          "2023-07-25T00:00:00",
          "2023-07-26T00:00:00",
          "2023-07-27T00:00:00",
          "2023-07-28T00:00:00",
          "2023-07-29T00:00:00",
          "2023-07-30T00:00:00",
          "2023-07-31T00:00:00",
          "2023-08-01T00:00:00",
          "2023-08-02T00:00:00",
          "2023-08-03T00:00:00",
          "2023-08-04T00:00:00",
          "2023-08-05T00:00:00",
          "2023-08-06T00:00:00",
          "2023-08-07T00:00:00",
          "2023-08-08T00:00:00",
          "2023-08-09T00:00:00",
          "2023-08-10T00:00:00",
          "2023-08-11T00:00:00",
          "2023-08-12T00:00:00",
          "2023-08-13T00:00:00",
          "2023-08-14T00:00:00",
          "2023-08-15T00:00:00",
          "2023-08-16T00:00:00",
          "2023-08-17T00:00:00",
          "2023-08-18T00:00:00",
          "2023-08-19T00:00:00",
          "2023-08-20T00:00:00",
          "2023-08-21T00:00:00",
          "2023-08-22T00:00:00",
          "2023-08-23T00:00:00",
          "2023-08-24T00:00:00",
          "2023-08-25T00:00:00",
          "2023-08-26T00:00:00",
          "2023-08-27T00:00:00",
          "2023-08-28T00:00:00",
          "2023-08-29T00:00:00",
          "2023-08-30T00:00:00",
          "2023-08-31T00:00:00",
          "2023-09-01T00:00:00",
          "2023-09-02T00:00:00",
          "2023-09-03T00:00:00",
          "2023-09-04T00:00:00",
          "2023-09-05T00:00:00",
          "2023-09-06T00:00:00",
          "2023-09-07T00:00:00",
          "2023-09-08T00:00:00",
          "2023-09-09T00:00:00",
          "2023-09-10T00:00:00",
          "2023-09-11T00:00:00",
          "2023-09-12T00:00:00",
          "2023-09-13T00:00:00",
          "2023-09-14T00:00:00",
          "2023-09-15T00:00:00",
          "2023-09-16T00:00:00",
          "2023-09-17T00:00:00",
          "2023-09-18T00:00:00",
          "2023-09-19T00:00:00",
          "2023-09-20T00:00:00",
          "2023-09-21T00:00:00",
          "2023-09-22T00:00:00",
          "2023-09-23T00:00:00",
          "2023-09-24T00:00:00",
          "2023-09-25T00:00:00",
          "2023-09-26T00:00:00",
          "2023-09-27T00:00:00",
          "2023-09-28T00:00:00",
          "2023-09-29T00:00:00",
          "2023-09-30T00:00:00",
          "2023-10-01T00:00:00",
          "2023-10-02T00:00:00",
          "2023-10-03T00:00:00",
          "2023-10-04T00:00:00",
          "2023-10-05T00:00:00",
          "2023-10-06T00:00:00",
          "2023-10-07T00:00:00",
          "2023-10-08T00:00:00",
          "2023-10-09T00:00:00",
          "2023-10-10T00:00:00",
          "2023-10-11T00:00:00",
          "2023-10-12T00:00:00",
          "2023-10-13T00:00:00",
          "2023-10-14T00:00:00",
          "2023-10-15T00:00:00",
          "2023-10-16T00:00:00",
          "2023-10-17T00:00:00",
          "2023-10-18T00:00:00",
          "2023-10-19T00:00:00",
          "2023-10-20T00:00:00",
          "2023-10-21T00:00:00",
          "2023-10-22T00:00:00",
          "2023-10-23T00:00:00",
          "2023-10-24T00:00:00",
          "2023-10-25T00:00:00",
          "2023-10-26T00:00:00",
          "2023-10-27T00:00:00",
          "2023-10-28T00:00:00",
          "2023-10-29T00:00:00",
          "2023-10-30T00:00:00",
          "2023-10-31T00:00:00",
          "2023-11-01T00:00:00",
          "2023-11-02T00:00:00",
          "2023-11-03T00:00:00",
          "2023-11-04T00:00:00",
          "2023-11-05T00:00:00",
          "2023-11-06T00:00:00",
          "2023-11-07T00:00:00",
          "2023-11-08T00:00:00"
         ],
         "xaxis": "x",
         "y": [
          27694.2734375,
          27658.775390625,
          27621.755859375,
          27000.7890625,
          26804.990234375,
          26784.078125,
          26930.638671875,
          27192.693359375,
          27036.650390625,
          27398.802734375,
          26832.208984375,
          26890.12890625,
          27129.5859375,
          26753.826171875,
          26851.27734375,
          27225.7265625,
          26334.818359375,
          26476.20703125,
          26719.291015625,
          26868.353515625,
          28085.646484375,
          27745.884765625,
          27702.349609375,
          27219.658203125,
          26819.97265625,
          27249.58984375,
          27075.12890625,
          27119.06640625,
          25760.09765625,
          27238.783203125,
          26345.998046875,
          26508.216796875,
          26480.375,
          25851.240234375,
          25940.16796875,
          25902.5,
          25918.728515625,
          25124.67578125,
          25576.39453125,
          26327.462890625,
          26510.67578125,
          26336.212890625,
          26851.029296875,
          28327.48828125,
          30027.296875,
          29912.28125,
          30695.46875,
          30548.6953125,
          30480.26171875,
          30271.130859375,
          30688.1640625,
          30086.24609375,
          30445.3515625,
          30477.251953125,
          30590.078125,
          30620.76953125,
          31156.439453125,
          30777.58203125,
          30514.166015625,
          29909.337890625,
          30342.265625,
          30292.541015625,
          30171.234375,
          30414.470703125,
          30620.951171875,
          30391.646484375,
          31476.048828125,
          30334.068359375,
          30295.806640625,
          30249.1328125,
          30145.888671875,
          29856.5625,
          29913.923828125,
          29792.015625,
          29908.744140625,
          29771.802734375,
          30084.5390625,
          29176.916015625,
          29227.390625,
          29354.97265625,
          29210.689453125,
          29319.24609375,
          29356.91796875,
          29275.30859375,
          29230.111328125,
          29675.732421875,
          29151.958984375,
          29178.6796875,
          29074.091796875,
          29042.126953125,
          29041.85546875,
          29180.578125,
          29765.4921875,
          29561.494140625,
          29429.591796875,
          29397.71484375,
          29415.96484375,
          29282.9140625,
          29408.443359375,
          29170.34765625,
          28701.779296875,
          26664.55078125,
          26049.556640625,
          26096.205078125,
          26189.583984375,
          26124.140625,
          26031.65625,
          26431.640625,
          26162.373046875,
          26047.66796875,
          26008.462890625,
          26089.693359375,
          26106.150390625,
          27727.392578125,
          27297.265625,
          25931.47265625,
          25800.724609375,
          25868.798828125,
          25969.56640625,
          25812.416015625,
          25779.982421875,
          25753.236328125,
          26240.1953125,
          25905.654296875,
          25895.677734375,
          25832.2265625,
          25162.654296875,
          25833.34375,
          26228.32421875,
          26539.673828125,
          26608.693359375,
          26568.28125,
          26534.1875,
          26754.28125,
          27211.1171875,
          27132.0078125,
          26567.6328125,
          26579.568359375,
          26579.390625,
          26256.826171875,
          26298.48046875,
          26217.25,
          26352.716796875,
          27021.546875,
          26911.720703125,
          26967.916015625,
          27983.75,
          27530.78515625,
          27429.978515625,
          27799.39453125,
          27415.912109375,
          27946.59765625,
          27968.83984375,
          27935.08984375,
          27583.677734375,
          27391.01953125,
          26873.3203125,
          26756.798828125,
          26862.375,
          26861.70703125,
          27159.65234375,
          28519.466796875,
          28415.748046875,
          28328.341796875,
          28719.806640625,
          29682.94921875,
          29918.412109375,
          29993.896484375,
          33086.234375,
          33901.52734375,
          34502.8203125,
          34156.6484375,
          33909.80078125,
          34089.57421875,
          34538.48046875,
          34502.36328125,
          34667.78125,
          35437.25390625,
          34938.2421875,
          34732.32421875,
          35082.1953125,
          35049.35546875,
          35037.37109375,
          35443.5625,
          35652.76171875
         ],
         "yaxis": "y"
        },
        {
         "hovertemplate": "variable=Media_movel<br>Date=%{x}<br>value=%{y}<extra></extra>",
         "legendgroup": "Media_movel",
         "line": {
          "color": "#EF553B",
          "dash": "solid"
         },
         "marker": {
          "symbol": "circle"
         },
         "mode": "lines",
         "name": "Media_movel",
         "orientation": "v",
         "showlegend": true,
         "type": "scatter",
         "x": [
          "2023-05-08T00:00:00",
          "2023-05-09T00:00:00",
          "2023-05-10T00:00:00",
          "2023-05-11T00:00:00",
          "2023-05-12T00:00:00",
          "2023-05-13T00:00:00",
          "2023-05-14T00:00:00",
          "2023-05-15T00:00:00",
          "2023-05-16T00:00:00",
          "2023-05-17T00:00:00",
          "2023-05-18T00:00:00",
          "2023-05-19T00:00:00",
          "2023-05-20T00:00:00",
          "2023-05-21T00:00:00",
          "2023-05-22T00:00:00",
          "2023-05-23T00:00:00",
          "2023-05-24T00:00:00",
          "2023-05-25T00:00:00",
          "2023-05-26T00:00:00",
          "2023-05-27T00:00:00",
          "2023-05-28T00:00:00",
          "2023-05-29T00:00:00",
          "2023-05-30T00:00:00",
          "2023-05-31T00:00:00",
          "2023-06-01T00:00:00",
          "2023-06-02T00:00:00",
          "2023-06-03T00:00:00",
          "2023-06-04T00:00:00",
          "2023-06-05T00:00:00",
          "2023-06-06T00:00:00",
          "2023-06-07T00:00:00",
          "2023-06-08T00:00:00",
          "2023-06-09T00:00:00",
          "2023-06-10T00:00:00",
          "2023-06-11T00:00:00",
          "2023-06-12T00:00:00",
          "2023-06-13T00:00:00",
          "2023-06-14T00:00:00",
          "2023-06-15T00:00:00",
          "2023-06-16T00:00:00",
          "2023-06-17T00:00:00",
          "2023-06-18T00:00:00",
          "2023-06-19T00:00:00",
          "2023-06-20T00:00:00",
          "2023-06-21T00:00:00",
          "2023-06-22T00:00:00",
          "2023-06-23T00:00:00",
          "2023-06-24T00:00:00",
          "2023-06-25T00:00:00",
          "2023-06-26T00:00:00",
          "2023-06-27T00:00:00",
          "2023-06-28T00:00:00",
          "2023-06-29T00:00:00",
          "2023-06-30T00:00:00",
          "2023-07-01T00:00:00",
          "2023-07-02T00:00:00",
          "2023-07-03T00:00:00",
          "2023-07-04T00:00:00",
          "2023-07-05T00:00:00",
          "2023-07-06T00:00:00",
          "2023-07-07T00:00:00",
          "2023-07-08T00:00:00",
          "2023-07-09T00:00:00",
          "2023-07-10T00:00:00",
          "2023-07-11T00:00:00",
          "2023-07-12T00:00:00",
          "2023-07-13T00:00:00",
          "2023-07-14T00:00:00",
          "2023-07-15T00:00:00",
          "2023-07-16T00:00:00",
          "2023-07-17T00:00:00",
          "2023-07-18T00:00:00",
          "2023-07-19T00:00:00",
          "2023-07-20T00:00:00",
          "2023-07-21T00:00:00",
          "2023-07-22T00:00:00",
          "2023-07-23T00:00:00",
          "2023-07-24T00:00:00",
          "2023-07-25T00:00:00",
          "2023-07-26T00:00:00",
          "2023-07-27T00:00:00",
          "2023-07-28T00:00:00",
          "2023-07-29T00:00:00",
          "2023-07-30T00:00:00",
          "2023-07-31T00:00:00",
          "2023-08-01T00:00:00",
          "2023-08-02T00:00:00",
          "2023-08-03T00:00:00",
          "2023-08-04T00:00:00",
          "2023-08-05T00:00:00",
          "2023-08-06T00:00:00",
          "2023-08-07T00:00:00",
          "2023-08-08T00:00:00",
          "2023-08-09T00:00:00",
          "2023-08-10T00:00:00",
          "2023-08-11T00:00:00",
          "2023-08-12T00:00:00",
          "2023-08-13T00:00:00",
          "2023-08-14T00:00:00",
          "2023-08-15T00:00:00",
          "2023-08-16T00:00:00",
          "2023-08-17T00:00:00",
          "2023-08-18T00:00:00",
          "2023-08-19T00:00:00",
          "2023-08-20T00:00:00",
          "2023-08-21T00:00:00",
          "2023-08-22T00:00:00",
          "2023-08-23T00:00:00",
          "2023-08-24T00:00:00",
          "2023-08-25T00:00:00",
          "2023-08-26T00:00:00",
          "2023-08-27T00:00:00",
          "2023-08-28T00:00:00",
          "2023-08-29T00:00:00",
          "2023-08-30T00:00:00",
          "2023-08-31T00:00:00",
          "2023-09-01T00:00:00",
          "2023-09-02T00:00:00",
          "2023-09-03T00:00:00",
          "2023-09-04T00:00:00",
          "2023-09-05T00:00:00",
          "2023-09-06T00:00:00",
          "2023-09-07T00:00:00",
          "2023-09-08T00:00:00",
          "2023-09-09T00:00:00",
          "2023-09-10T00:00:00",
          "2023-09-11T00:00:00",
          "2023-09-12T00:00:00",
          "2023-09-13T00:00:00",
          "2023-09-14T00:00:00",
          "2023-09-15T00:00:00",
          "2023-09-16T00:00:00",
          "2023-09-17T00:00:00",
          "2023-09-18T00:00:00",
          "2023-09-19T00:00:00",
          "2023-09-20T00:00:00",
          "2023-09-21T00:00:00",
          "2023-09-22T00:00:00",
          "2023-09-23T00:00:00",
          "2023-09-24T00:00:00",
          "2023-09-25T00:00:00",
          "2023-09-26T00:00:00",
          "2023-09-27T00:00:00",
          "2023-09-28T00:00:00",
          "2023-09-29T00:00:00",
          "2023-09-30T00:00:00",
          "2023-10-01T00:00:00",
          "2023-10-02T00:00:00",
          "2023-10-03T00:00:00",
          "2023-10-04T00:00:00",
          "2023-10-05T00:00:00",
          "2023-10-06T00:00:00",
          "2023-10-07T00:00:00",
          "2023-10-08T00:00:00",
          "2023-10-09T00:00:00",
          "2023-10-10T00:00:00",
          "2023-10-11T00:00:00",
          "2023-10-12T00:00:00",
          "2023-10-13T00:00:00",
          "2023-10-14T00:00:00",
          "2023-10-15T00:00:00",
          "2023-10-16T00:00:00",
          "2023-10-17T00:00:00",
          "2023-10-18T00:00:00",
          "2023-10-19T00:00:00",
          "2023-10-20T00:00:00",
          "2023-10-21T00:00:00",
          "2023-10-22T00:00:00",
          "2023-10-23T00:00:00",
          "2023-10-24T00:00:00",
          "2023-10-25T00:00:00",
          "2023-10-26T00:00:00",
          "2023-10-27T00:00:00",
          "2023-10-28T00:00:00",
          "2023-10-29T00:00:00",
          "2023-10-30T00:00:00",
          "2023-10-31T00:00:00",
          "2023-11-01T00:00:00",
          "2023-11-02T00:00:00",
          "2023-11-03T00:00:00",
          "2023-11-04T00:00:00",
          "2023-11-05T00:00:00",
          "2023-11-06T00:00:00",
          "2023-11-07T00:00:00",
          "2023-11-08T00:00:00"
         ],
         "xaxis": "x",
         "y": [
          null,
          null,
          null,
          null,
          27356.116796875,
          27174.077734375,
          27028.450390625,
          26942.637890625,
          26949.81015625,
          27068.57265625,
          27078.198828125,
          27070.096875,
          27057.475390625,
          27000.910546875,
          26891.40546875,
          26970.108984375,
          26859.046875,
          26728.37109375,
          26721.4640625,
          26724.879296875,
          26896.86328125,
          27179.0765625,
          27424.305078125,
          27524.378515625,
          27514.70234375,
          27347.491015625,
          27213.33984375,
          27096.683203125,
          26804.77109375,
          26888.533203125,
          26707.81484375,
          26594.432421875,
          26466.694140625,
          26484.92265625,
          26225.199609375,
          26136.5,
          26018.60234375,
          25747.4625,
          25692.493359375,
          25769.95234375,
          25891.5875,
          25975.084375,
          26320.355078125,
          26870.573828125,
          27610.540625,
          28290.86171875,
          29162.712890625,
          29902.24609375,
          30332.80078125,
          30381.567578125,
          30536.744140625,
          30414.899609375,
          30394.230859375,
          30393.62890625,
          30457.418359375,
          30443.939453125,
          30657.978125,
          30724.42421875,
          30731.80703125,
          30595.658984375,
          30539.958203125,
          30367.178515625,
          30245.908984375,
          30225.969921875,
          30368.292578125,
          30378.16875,
          30614.8703125,
          30647.437109375,
          30623.704296875,
          30549.340625,
          30500.1890625,
          30176.291796875,
          30092.262890625,
          29991.5046875,
          29923.426953125,
          29848.609765625,
          29894.205078125,
          29746.803515625,
          29633.878515625,
          29523.12421875,
          29410.9015625,
          29257.84296875,
          29293.843359375,
          29303.426953125,
          29278.4546875,
          29371.46328125,
          29338.005859375,
          29302.358203125,
          29262.11484375,
          29224.51796875,
          29097.742578125,
          29103.46640625,
          29220.82890625,
          29318.309375,
          29395.80234375,
          29466.97421875,
          29514.0515625,
          29417.5359375,
          29386.92578125,
          29335.076953125,
          29195.88984375,
          28645.60703125,
          27998.935546875,
          27336.487890625,
          26740.33515625,
          26224.807421875,
          26098.228515625,
          26174.6453125,
          26187.87890625,
          26159.495703125,
          26136.36015625,
          26147.967578125,
          26082.86953125,
          26395.8734375,
          26645.79296875,
          26630.394921875,
          26572.601171875,
          26525.130859375,
          26173.565625,
          25876.595703125,
          25846.29765625,
          25836.8,
          25911.079296875,
          25898.296875,
          25914.94921875,
          25925.398046875,
          25807.281640625,
          25725.911328125,
          25790.4453125,
          25919.24453125,
          26074.537890625,
          26355.66328125,
          26495.83203125,
          26601.0234375,
          26735.312109375,
          26839.975,
          26839.8453125,
          26848.921484375,
          26813.943359375,
          26623.08515625,
          26456.3796875,
          26386.303125,
          26340.9328125,
          26429.3640625,
          26560.34296875,
          26694.230078125,
          27047.530078125,
          27283.14375,
          27364.830078125,
          27542.36484375,
          27631.9640625,
          27624.53359375,
          27712.14453125,
          27813.166796875,
          27770.0234375,
          27765.044921875,
          27550.389453125,
          27307.98125,
          27093.43828125,
          26949.044140625,
          26902.770703125,
          27232,
          27563.78984375,
          27856.983203125,
          28228.603125,
          28733.2625,
          29013.0515625,
          29328.68125,
          30280.259765625,
          31316.60390625,
          32280.578125,
          33128.225390625,
          33911.40625,
          34112.07421875,
          34239.46484375,
          34239.3734375,
          34341.6,
          34647.090625,
          34816.82421875,
          34855.59296875,
          34971.559375,
          35047.87421875,
          34967.89765625,
          35068.96171875,
          35253.04921875
         ],
         "yaxis": "y"
        }
       ],
       "layout": {
        "legend": {
         "title": {
          "text": "variable"
         },
         "tracegroupgap": 0
        },
        "template": {
         "data": {
          "bar": [
           {
            "error_x": {
             "color": "#2a3f5f"
            },
            "error_y": {
             "color": "#2a3f5f"
            },
            "marker": {
             "line": {
              "color": "#E5ECF6",
              "width": 0.5
             },
             "pattern": {
              "fillmode": "overlay",
              "size": 10,
              "solidity": 0.2
             }
            },
            "type": "bar"
           }
          ],
          "barpolar": [
           {
            "marker": {
             "line": {
              "color": "#E5ECF6",
              "width": 0.5
             },
             "pattern": {
              "fillmode": "overlay",
              "size": 10,
              "solidity": 0.2
             }
            },
            "type": "barpolar"
           }
          ],
          "carpet": [
           {
            "aaxis": {
             "endlinecolor": "#2a3f5f",
             "gridcolor": "white",
             "linecolor": "white",
             "minorgridcolor": "white",
             "startlinecolor": "#2a3f5f"
            },
            "baxis": {
             "endlinecolor": "#2a3f5f",
             "gridcolor": "white",
             "linecolor": "white",
             "minorgridcolor": "white",
             "startlinecolor": "#2a3f5f"
            },
            "type": "carpet"
           }
          ],
          "choropleth": [
           {
            "colorbar": {
             "outlinewidth": 0,
             "ticks": ""
            },
            "type": "choropleth"
           }
          ],
          "contour": [
           {
            "colorbar": {
             "outlinewidth": 0,
             "ticks": ""
            },
            "colorscale": [
             [
              0,
              "#0d0887"
             ],
             [
              0.1111111111111111,
              "#46039f"
             ],
             [
              0.2222222222222222,
              "#7201a8"
             ],
             [
              0.3333333333333333,
              "#9c179e"
             ],
             [
              0.4444444444444444,
              "#bd3786"
             ],
             [
              0.5555555555555556,
              "#d8576b"
             ],
             [
              0.6666666666666666,
              "#ed7953"
             ],
             [
              0.7777777777777778,
              "#fb9f3a"
             ],
             [
              0.8888888888888888,
              "#fdca26"
             ],
             [
              1,
              "#f0f921"
             ]
            ],
            "type": "contour"
           }
          ],
          "contourcarpet": [
           {
            "colorbar": {
             "outlinewidth": 0,
             "ticks": ""
            },
            "type": "contourcarpet"
           }
          ],
          "heatmap": [
           {
            "colorbar": {
             "outlinewidth": 0,
             "ticks": ""
            },
            "colorscale": [
             [
              0,
              "#0d0887"
             ],
             [
              0.1111111111111111,
              "#46039f"
             ],
             [
              0.2222222222222222,
              "#7201a8"
             ],
             [
              0.3333333333333333,
              "#9c179e"
             ],
             [
              0.4444444444444444,
              "#bd3786"
             ],
             [
              0.5555555555555556,
              "#d8576b"
             ],
             [
              0.6666666666666666,
              "#ed7953"
             ],
             [
              0.7777777777777778,
              "#fb9f3a"
             ],
             [
              0.8888888888888888,
              "#fdca26"
             ],
             [
              1,
              "#f0f921"
             ]
            ],
            "type": "heatmap"
           }
          ],
          "heatmapgl": [
           {
            "colorbar": {
             "outlinewidth": 0,
             "ticks": ""
            },
            "colorscale": [
             [
              0,
              "#0d0887"
             ],
             [
              0.1111111111111111,
              "#46039f"
             ],
             [
              0.2222222222222222,
              "#7201a8"
             ],
             [
              0.3333333333333333,
              "#9c179e"
             ],
             [
              0.4444444444444444,
              "#bd3786"
             ],
             [
              0.5555555555555556,
              "#d8576b"
             ],
             [
              0.6666666666666666,
              "#ed7953"
             ],
             [
              0.7777777777777778,
              "#fb9f3a"
             ],
             [
              0.8888888888888888,
              "#fdca26"
             ],
             [
              1,
              "#f0f921"
             ]
            ],
            "type": "heatmapgl"
           }
          ],
          "histogram": [
           {
            "marker": {
             "pattern": {
              "fillmode": "overlay",
              "size": 10,
              "solidity": 0.2
             }
            },
            "type": "histogram"
           }
          ],
          "histogram2d": [
           {
            "colorbar": {
             "outlinewidth": 0,
             "ticks": ""
            },
            "colorscale": [
             [
              0,
              "#0d0887"
             ],
             [
              0.1111111111111111,
              "#46039f"
             ],
             [
              0.2222222222222222,
              "#7201a8"
             ],
             [
              0.3333333333333333,
              "#9c179e"
             ],
             [
              0.4444444444444444,
              "#bd3786"
             ],
             [
              0.5555555555555556,
              "#d8576b"
             ],
             [
              0.6666666666666666,
              "#ed7953"
             ],
             [
              0.7777777777777778,
              "#fb9f3a"
             ],
             [
              0.8888888888888888,
              "#fdca26"
             ],
             [
              1,
              "#f0f921"
             ]
            ],
            "type": "histogram2d"
           }
          ],
          "histogram2dcontour": [
           {
            "colorbar": {
             "outlinewidth": 0,
             "ticks": ""
            },
            "colorscale": [
             [
              0,
              "#0d0887"
             ],
             [
              0.1111111111111111,
              "#46039f"
             ],
             [
              0.2222222222222222,
              "#7201a8"
             ],
             [
              0.3333333333333333,
              "#9c179e"
             ],
             [
              0.4444444444444444,
              "#bd3786"
             ],
             [
              0.5555555555555556,
              "#d8576b"
             ],
             [
              0.6666666666666666,
              "#ed7953"
             ],
             [
              0.7777777777777778,
              "#fb9f3a"
             ],
             [
              0.8888888888888888,
              "#fdca26"
             ],
             [
              1,
              "#f0f921"
             ]
            ],
            "type": "histogram2dcontour"
           }
          ],
          "mesh3d": [
           {
            "colorbar": {
             "outlinewidth": 0,
             "ticks": ""
            },
            "type": "mesh3d"
           }
          ],
          "parcoords": [
           {
            "line": {
             "colorbar": {
              "outlinewidth": 0,
              "ticks": ""
             }
            },
            "type": "parcoords"
           }
          ],
          "pie": [
           {
            "automargin": true,
            "type": "pie"
           }
          ],
          "scatter": [
           {
            "fillpattern": {
             "fillmode": "overlay",
             "size": 10,
             "solidity": 0.2
            },
            "type": "scatter"
           }
          ],
          "scatter3d": [
           {
            "line": {
             "colorbar": {
              "outlinewidth": 0,
              "ticks": ""
             }
            },
            "marker": {
             "colorbar": {
              "outlinewidth": 0,
              "ticks": ""
             }
            },
            "type": "scatter3d"
           }
          ],
          "scattercarpet": [
           {
            "marker": {
             "colorbar": {
              "outlinewidth": 0,
              "ticks": ""
             }
            },
            "type": "scattercarpet"
           }
          ],
          "scattergeo": [
           {
            "marker": {
             "colorbar": {
              "outlinewidth": 0,
              "ticks": ""
             }
            },
            "type": "scattergeo"
           }
          ],
          "scattergl": [
           {
            "marker": {
             "colorbar": {
              "outlinewidth": 0,
              "ticks": ""
             }
            },
            "type": "scattergl"
           }
          ],
          "scattermapbox": [
           {
            "marker": {
             "colorbar": {
              "outlinewidth": 0,
              "ticks": ""
             }
            },
            "type": "scattermapbox"
           }
          ],
          "scatterpolar": [
           {
            "marker": {
             "colorbar": {
              "outlinewidth": 0,
              "ticks": ""
             }
            },
            "type": "scatterpolar"
           }
          ],
          "scatterpolargl": [
           {
            "marker": {
             "colorbar": {
              "outlinewidth": 0,
              "ticks": ""
             }
            },
            "type": "scatterpolargl"
           }
          ],
          "scatterternary": [
           {
            "marker": {
             "colorbar": {
              "outlinewidth": 0,
              "ticks": ""
             }
            },
            "type": "scatterternary"
           }
          ],
          "surface": [
           {
            "colorbar": {
             "outlinewidth": 0,
             "ticks": ""
            },
            "colorscale": [
             [
              0,
              "#0d0887"
             ],
             [
              0.1111111111111111,
              "#46039f"
             ],
             [
              0.2222222222222222,
              "#7201a8"
             ],
             [
              0.3333333333333333,
              "#9c179e"
             ],
             [
              0.4444444444444444,
              "#bd3786"
             ],
             [
              0.5555555555555556,
              "#d8576b"
             ],
             [
              0.6666666666666666,
              "#ed7953"
             ],
             [
              0.7777777777777778,
              "#fb9f3a"
             ],
             [
              0.8888888888888888,
              "#fdca26"
             ],
             [
              1,
              "#f0f921"
             ]
            ],
            "type": "surface"
           }
          ],
          "table": [
           {
            "cells": {
             "fill": {
              "color": "#EBF0F8"
             },
             "line": {
              "color": "white"
             }
            },
            "header": {
             "fill": {
              "color": "#C8D4E3"
             },
             "line": {
              "color": "white"
             }
            },
            "type": "table"
           }
          ]
         },
         "layout": {
          "annotationdefaults": {
           "arrowcolor": "#2a3f5f",
           "arrowhead": 0,
           "arrowwidth": 1
          },
          "autotypenumbers": "strict",
          "coloraxis": {
           "colorbar": {
            "outlinewidth": 0,
            "ticks": ""
           }
          },
          "colorscale": {
           "diverging": [
            [
             0,
             "#8e0152"
            ],
            [
             0.1,
             "#c51b7d"
            ],
            [
             0.2,
             "#de77ae"
            ],
            [
             0.3,
             "#f1b6da"
            ],
            [
             0.4,
             "#fde0ef"
            ],
            [
             0.5,
             "#f7f7f7"
            ],
            [
             0.6,
             "#e6f5d0"
            ],
            [
             0.7,
             "#b8e186"
            ],
            [
             0.8,
             "#7fbc41"
            ],
            [
             0.9,
             "#4d9221"
            ],
            [
             1,
             "#276419"
            ]
           ],
           "sequential": [
            [
             0,
             "#0d0887"
            ],
            [
             0.1111111111111111,
             "#46039f"
            ],
            [
             0.2222222222222222,
             "#7201a8"
            ],
            [
             0.3333333333333333,
             "#9c179e"
            ],
            [
             0.4444444444444444,
             "#bd3786"
            ],
            [
             0.5555555555555556,
             "#d8576b"
            ],
            [
             0.6666666666666666,
             "#ed7953"
            ],
            [
             0.7777777777777778,
             "#fb9f3a"
            ],
            [
             0.8888888888888888,
             "#fdca26"
            ],
            [
             1,
             "#f0f921"
            ]
           ],
           "sequentialminus": [
            [
             0,
             "#0d0887"
            ],
            [
             0.1111111111111111,
             "#46039f"
            ],
            [
             0.2222222222222222,
             "#7201a8"
            ],
            [
             0.3333333333333333,
             "#9c179e"
            ],
            [
             0.4444444444444444,
             "#bd3786"
            ],
            [
             0.5555555555555556,
             "#d8576b"
            ],
            [
             0.6666666666666666,
             "#ed7953"
            ],
            [
             0.7777777777777778,
             "#fb9f3a"
            ],
            [
             0.8888888888888888,
             "#fdca26"
            ],
            [
             1,
             "#f0f921"
            ]
           ]
          },
          "colorway": [
           "#636efa",
           "#EF553B",
           "#00cc96",
           "#ab63fa",
           "#FFA15A",
           "#19d3f3",
           "#FF6692",
           "#B6E880",
           "#FF97FF",
           "#FECB52"
          ],
          "font": {
           "color": "#2a3f5f"
          },
          "geo": {
           "bgcolor": "white",
           "lakecolor": "white",
           "landcolor": "#E5ECF6",
           "showlakes": true,
           "showland": true,
           "subunitcolor": "white"
          },
          "hoverlabel": {
           "align": "left"
          },
          "hovermode": "closest",
          "mapbox": {
           "style": "light"
          },
          "paper_bgcolor": "white",
          "plot_bgcolor": "#E5ECF6",
          "polar": {
           "angularaxis": {
            "gridcolor": "white",
            "linecolor": "white",
            "ticks": ""
           },
           "bgcolor": "#E5ECF6",
           "radialaxis": {
            "gridcolor": "white",
            "linecolor": "white",
            "ticks": ""
           }
          },
          "scene": {
           "xaxis": {
            "backgroundcolor": "#E5ECF6",
            "gridcolor": "white",
            "gridwidth": 2,
            "linecolor": "white",
            "showbackground": true,
            "ticks": "",
            "zerolinecolor": "white"
           },
           "yaxis": {
            "backgroundcolor": "#E5ECF6",
            "gridcolor": "white",
            "gridwidth": 2,
            "linecolor": "white",
            "showbackground": true,
            "ticks": "",
            "zerolinecolor": "white"
           },
           "zaxis": {
            "backgroundcolor": "#E5ECF6",
            "gridcolor": "white",
            "gridwidth": 2,
            "linecolor": "white",
            "showbackground": true,
            "ticks": "",
            "zerolinecolor": "white"
           }
          },
          "shapedefaults": {
           "line": {
            "color": "#2a3f5f"
           }
          },
          "ternary": {
           "aaxis": {
            "gridcolor": "white",
            "linecolor": "white",
            "ticks": ""
           },
           "baxis": {
            "gridcolor": "white",
            "linecolor": "white",
            "ticks": ""
           },
           "bgcolor": "#E5ECF6",
           "caxis": {
            "gridcolor": "white",
            "linecolor": "white",
            "ticks": ""
           }
          },
          "title": {
           "x": 0.05
          },
          "xaxis": {
           "automargin": true,
           "gridcolor": "white",
           "linecolor": "white",
           "ticks": "",
           "title": {
            "standoff": 15
           },
           "zerolinecolor": "white",
           "zerolinewidth": 2
          },
          "yaxis": {
           "automargin": true,
           "gridcolor": "white",
           "linecolor": "white",
           "ticks": "",
           "title": {
            "standoff": 15
           },
           "zerolinecolor": "white",
           "zerolinewidth": 2
          }
         }
        },
        "title": {
         "text": "Análise de fechamento"
        },
        "xaxis": {
         "anchor": "y",
         "domain": [
          0,
          1
         ],
         "title": {
          "text": "Date"
         }
        },
        "yaxis": {
         "anchor": "x",
         "domain": [
          0,
          1
         ],
         "title": {
          "text": "value"
         }
        }
       }
      }
     },
     "metadata": {},
     "output_type": "display_data"
    }
   ],
   "source": [
    "# utilizando o ploty.express (px)\n",
    "px.line(\n",
    "    data_frame = dados,\n",
    "    x = dados.index,\n",
    "    y = ['Close', 'Media_movel'],\n",
    "    title = 'Análise de fechamento'\n",
    ")"
   ]
  },
  {
   "cell_type": "code",
   "execution_count": 14,
   "metadata": {},
   "outputs": [
    {
     "data": {
      "application/vnd.plotly.v1+json": {
       "config": {
        "plotlyServerURL": "https://plot.ly"
       },
       "data": [
        {
         "name": "Fechamento",
         "type": "scatter",
         "x": [
          "2023-05-08T00:00:00",
          "2023-05-09T00:00:00",
          "2023-05-10T00:00:00",
          "2023-05-11T00:00:00",
          "2023-05-12T00:00:00",
          "2023-05-13T00:00:00",
          "2023-05-14T00:00:00",
          "2023-05-15T00:00:00",
          "2023-05-16T00:00:00",
          "2023-05-17T00:00:00",
          "2023-05-18T00:00:00",
          "2023-05-19T00:00:00",
          "2023-05-20T00:00:00",
          "2023-05-21T00:00:00",
          "2023-05-22T00:00:00",
          "2023-05-23T00:00:00",
          "2023-05-24T00:00:00",
          "2023-05-25T00:00:00",
          "2023-05-26T00:00:00",
          "2023-05-27T00:00:00",
          "2023-05-28T00:00:00",
          "2023-05-29T00:00:00",
          "2023-05-30T00:00:00",
          "2023-05-31T00:00:00",
          "2023-06-01T00:00:00",
          "2023-06-02T00:00:00",
          "2023-06-03T00:00:00",
          "2023-06-04T00:00:00",
          "2023-06-05T00:00:00",
          "2023-06-06T00:00:00",
          "2023-06-07T00:00:00",
          "2023-06-08T00:00:00",
          "2023-06-09T00:00:00",
          "2023-06-10T00:00:00",
          "2023-06-11T00:00:00",
          "2023-06-12T00:00:00",
          "2023-06-13T00:00:00",
          "2023-06-14T00:00:00",
          "2023-06-15T00:00:00",
          "2023-06-16T00:00:00",
          "2023-06-17T00:00:00",
          "2023-06-18T00:00:00",
          "2023-06-19T00:00:00",
          "2023-06-20T00:00:00",
          "2023-06-21T00:00:00",
          "2023-06-22T00:00:00",
          "2023-06-23T00:00:00",
          "2023-06-24T00:00:00",
          "2023-06-25T00:00:00",
          "2023-06-26T00:00:00",
          "2023-06-27T00:00:00",
          "2023-06-28T00:00:00",
          "2023-06-29T00:00:00",
          "2023-06-30T00:00:00",
          "2023-07-01T00:00:00",
          "2023-07-02T00:00:00",
          "2023-07-03T00:00:00",
          "2023-07-04T00:00:00",
          "2023-07-05T00:00:00",
          "2023-07-06T00:00:00",
          "2023-07-07T00:00:00",
          "2023-07-08T00:00:00",
          "2023-07-09T00:00:00",
          "2023-07-10T00:00:00",
          "2023-07-11T00:00:00",
          "2023-07-12T00:00:00",
          "2023-07-13T00:00:00",
          "2023-07-14T00:00:00",
          "2023-07-15T00:00:00",
          "2023-07-16T00:00:00",
          "2023-07-17T00:00:00",
          "2023-07-18T00:00:00",
          "2023-07-19T00:00:00",
          "2023-07-20T00:00:00",
          "2023-07-21T00:00:00",
          "2023-07-22T00:00:00",
          "2023-07-23T00:00:00",
          "2023-07-24T00:00:00",
          "2023-07-25T00:00:00",
          "2023-07-26T00:00:00",
          "2023-07-27T00:00:00",
          "2023-07-28T00:00:00",
          "2023-07-29T00:00:00",
          "2023-07-30T00:00:00",
          "2023-07-31T00:00:00",
          "2023-08-01T00:00:00",
          "2023-08-02T00:00:00",
          "2023-08-03T00:00:00",
          "2023-08-04T00:00:00",
          "2023-08-05T00:00:00",
          "2023-08-06T00:00:00",
          "2023-08-07T00:00:00",
          "2023-08-08T00:00:00",
          "2023-08-09T00:00:00",
          "2023-08-10T00:00:00",
          "2023-08-11T00:00:00",
          "2023-08-12T00:00:00",
          "2023-08-13T00:00:00",
          "2023-08-14T00:00:00",
          "2023-08-15T00:00:00",
          "2023-08-16T00:00:00",
          "2023-08-17T00:00:00",
          "2023-08-18T00:00:00",
          "2023-08-19T00:00:00",
          "2023-08-20T00:00:00",
          "2023-08-21T00:00:00",
          "2023-08-22T00:00:00",
          "2023-08-23T00:00:00",
          "2023-08-24T00:00:00",
          "2023-08-25T00:00:00",
          "2023-08-26T00:00:00",
          "2023-08-27T00:00:00",
          "2023-08-28T00:00:00",
          "2023-08-29T00:00:00",
          "2023-08-30T00:00:00",
          "2023-08-31T00:00:00",
          "2023-09-01T00:00:00",
          "2023-09-02T00:00:00",
          "2023-09-03T00:00:00",
          "2023-09-04T00:00:00",
          "2023-09-05T00:00:00",
          "2023-09-06T00:00:00",
          "2023-09-07T00:00:00",
          "2023-09-08T00:00:00",
          "2023-09-09T00:00:00",
          "2023-09-10T00:00:00",
          "2023-09-11T00:00:00",
          "2023-09-12T00:00:00",
          "2023-09-13T00:00:00",
          "2023-09-14T00:00:00",
          "2023-09-15T00:00:00",
          "2023-09-16T00:00:00",
          "2023-09-17T00:00:00",
          "2023-09-18T00:00:00",
          "2023-09-19T00:00:00",
          "2023-09-20T00:00:00",
          "2023-09-21T00:00:00",
          "2023-09-22T00:00:00",
          "2023-09-23T00:00:00",
          "2023-09-24T00:00:00",
          "2023-09-25T00:00:00",
          "2023-09-26T00:00:00",
          "2023-09-27T00:00:00",
          "2023-09-28T00:00:00",
          "2023-09-29T00:00:00",
          "2023-09-30T00:00:00",
          "2023-10-01T00:00:00",
          "2023-10-02T00:00:00",
          "2023-10-03T00:00:00",
          "2023-10-04T00:00:00",
          "2023-10-05T00:00:00",
          "2023-10-06T00:00:00",
          "2023-10-07T00:00:00",
          "2023-10-08T00:00:00",
          "2023-10-09T00:00:00",
          "2023-10-10T00:00:00",
          "2023-10-11T00:00:00",
          "2023-10-12T00:00:00",
          "2023-10-13T00:00:00",
          "2023-10-14T00:00:00",
          "2023-10-15T00:00:00",
          "2023-10-16T00:00:00",
          "2023-10-17T00:00:00",
          "2023-10-18T00:00:00",
          "2023-10-19T00:00:00",
          "2023-10-20T00:00:00",
          "2023-10-21T00:00:00",
          "2023-10-22T00:00:00",
          "2023-10-23T00:00:00",
          "2023-10-24T00:00:00",
          "2023-10-25T00:00:00",
          "2023-10-26T00:00:00",
          "2023-10-27T00:00:00",
          "2023-10-28T00:00:00",
          "2023-10-29T00:00:00",
          "2023-10-30T00:00:00",
          "2023-10-31T00:00:00",
          "2023-11-01T00:00:00",
          "2023-11-02T00:00:00",
          "2023-11-03T00:00:00",
          "2023-11-04T00:00:00",
          "2023-11-05T00:00:00",
          "2023-11-06T00:00:00",
          "2023-11-07T00:00:00",
          "2023-11-08T00:00:00"
         ],
         "y": [
          27694.2734375,
          27658.775390625,
          27621.755859375,
          27000.7890625,
          26804.990234375,
          26784.078125,
          26930.638671875,
          27192.693359375,
          27036.650390625,
          27398.802734375,
          26832.208984375,
          26890.12890625,
          27129.5859375,
          26753.826171875,
          26851.27734375,
          27225.7265625,
          26334.818359375,
          26476.20703125,
          26719.291015625,
          26868.353515625,
          28085.646484375,
          27745.884765625,
          27702.349609375,
          27219.658203125,
          26819.97265625,
          27249.58984375,
          27075.12890625,
          27119.06640625,
          25760.09765625,
          27238.783203125,
          26345.998046875,
          26508.216796875,
          26480.375,
          25851.240234375,
          25940.16796875,
          25902.5,
          25918.728515625,
          25124.67578125,
          25576.39453125,
          26327.462890625,
          26510.67578125,
          26336.212890625,
          26851.029296875,
          28327.48828125,
          30027.296875,
          29912.28125,
          30695.46875,
          30548.6953125,
          30480.26171875,
          30271.130859375,
          30688.1640625,
          30086.24609375,
          30445.3515625,
          30477.251953125,
          30590.078125,
          30620.76953125,
          31156.439453125,
          30777.58203125,
          30514.166015625,
          29909.337890625,
          30342.265625,
          30292.541015625,
          30171.234375,
          30414.470703125,
          30620.951171875,
          30391.646484375,
          31476.048828125,
          30334.068359375,
          30295.806640625,
          30249.1328125,
          30145.888671875,
          29856.5625,
          29913.923828125,
          29792.015625,
          29908.744140625,
          29771.802734375,
          30084.5390625,
          29176.916015625,
          29227.390625,
          29354.97265625,
          29210.689453125,
          29319.24609375,
          29356.91796875,
          29275.30859375,
          29230.111328125,
          29675.732421875,
          29151.958984375,
          29178.6796875,
          29074.091796875,
          29042.126953125,
          29041.85546875,
          29180.578125,
          29765.4921875,
          29561.494140625,
          29429.591796875,
          29397.71484375,
          29415.96484375,
          29282.9140625,
          29408.443359375,
          29170.34765625,
          28701.779296875,
          26664.55078125,
          26049.556640625,
          26096.205078125,
          26189.583984375,
          26124.140625,
          26031.65625,
          26431.640625,
          26162.373046875,
          26047.66796875,
          26008.462890625,
          26089.693359375,
          26106.150390625,
          27727.392578125,
          27297.265625,
          25931.47265625,
          25800.724609375,
          25868.798828125,
          25969.56640625,
          25812.416015625,
          25779.982421875,
          25753.236328125,
          26240.1953125,
          25905.654296875,
          25895.677734375,
          25832.2265625,
          25162.654296875,
          25833.34375,
          26228.32421875,
          26539.673828125,
          26608.693359375,
          26568.28125,
          26534.1875,
          26754.28125,
          27211.1171875,
          27132.0078125,
          26567.6328125,
          26579.568359375,
          26579.390625,
          26256.826171875,
          26298.48046875,
          26217.25,
          26352.716796875,
          27021.546875,
          26911.720703125,
          26967.916015625,
          27983.75,
          27530.78515625,
          27429.978515625,
          27799.39453125,
          27415.912109375,
          27946.59765625,
          27968.83984375,
          27935.08984375,
          27583.677734375,
          27391.01953125,
          26873.3203125,
          26756.798828125,
          26862.375,
          26861.70703125,
          27159.65234375,
          28519.466796875,
          28415.748046875,
          28328.341796875,
          28719.806640625,
          29682.94921875,
          29918.412109375,
          29993.896484375,
          33086.234375,
          33901.52734375,
          34502.8203125,
          34156.6484375,
          33909.80078125,
          34089.57421875,
          34538.48046875,
          34502.36328125,
          34667.78125,
          35437.25390625,
          34938.2421875,
          34732.32421875,
          35082.1953125,
          35049.35546875,
          35037.37109375,
          35443.5625,
          35652.76171875
         ]
        },
        {
         "name": "Média movel",
         "type": "scatter",
         "x": [
          "2023-05-08T00:00:00",
          "2023-05-09T00:00:00",
          "2023-05-10T00:00:00",
          "2023-05-11T00:00:00",
          "2023-05-12T00:00:00",
          "2023-05-13T00:00:00",
          "2023-05-14T00:00:00",
          "2023-05-15T00:00:00",
          "2023-05-16T00:00:00",
          "2023-05-17T00:00:00",
          "2023-05-18T00:00:00",
          "2023-05-19T00:00:00",
          "2023-05-20T00:00:00",
          "2023-05-21T00:00:00",
          "2023-05-22T00:00:00",
          "2023-05-23T00:00:00",
          "2023-05-24T00:00:00",
          "2023-05-25T00:00:00",
          "2023-05-26T00:00:00",
          "2023-05-27T00:00:00",
          "2023-05-28T00:00:00",
          "2023-05-29T00:00:00",
          "2023-05-30T00:00:00",
          "2023-05-31T00:00:00",
          "2023-06-01T00:00:00",
          "2023-06-02T00:00:00",
          "2023-06-03T00:00:00",
          "2023-06-04T00:00:00",
          "2023-06-05T00:00:00",
          "2023-06-06T00:00:00",
          "2023-06-07T00:00:00",
          "2023-06-08T00:00:00",
          "2023-06-09T00:00:00",
          "2023-06-10T00:00:00",
          "2023-06-11T00:00:00",
          "2023-06-12T00:00:00",
          "2023-06-13T00:00:00",
          "2023-06-14T00:00:00",
          "2023-06-15T00:00:00",
          "2023-06-16T00:00:00",
          "2023-06-17T00:00:00",
          "2023-06-18T00:00:00",
          "2023-06-19T00:00:00",
          "2023-06-20T00:00:00",
          "2023-06-21T00:00:00",
          "2023-06-22T00:00:00",
          "2023-06-23T00:00:00",
          "2023-06-24T00:00:00",
          "2023-06-25T00:00:00",
          "2023-06-26T00:00:00",
          "2023-06-27T00:00:00",
          "2023-06-28T00:00:00",
          "2023-06-29T00:00:00",
          "2023-06-30T00:00:00",
          "2023-07-01T00:00:00",
          "2023-07-02T00:00:00",
          "2023-07-03T00:00:00",
          "2023-07-04T00:00:00",
          "2023-07-05T00:00:00",
          "2023-07-06T00:00:00",
          "2023-07-07T00:00:00",
          "2023-07-08T00:00:00",
          "2023-07-09T00:00:00",
          "2023-07-10T00:00:00",
          "2023-07-11T00:00:00",
          "2023-07-12T00:00:00",
          "2023-07-13T00:00:00",
          "2023-07-14T00:00:00",
          "2023-07-15T00:00:00",
          "2023-07-16T00:00:00",
          "2023-07-17T00:00:00",
          "2023-07-18T00:00:00",
          "2023-07-19T00:00:00",
          "2023-07-20T00:00:00",
          "2023-07-21T00:00:00",
          "2023-07-22T00:00:00",
          "2023-07-23T00:00:00",
          "2023-07-24T00:00:00",
          "2023-07-25T00:00:00",
          "2023-07-26T00:00:00",
          "2023-07-27T00:00:00",
          "2023-07-28T00:00:00",
          "2023-07-29T00:00:00",
          "2023-07-30T00:00:00",
          "2023-07-31T00:00:00",
          "2023-08-01T00:00:00",
          "2023-08-02T00:00:00",
          "2023-08-03T00:00:00",
          "2023-08-04T00:00:00",
          "2023-08-05T00:00:00",
          "2023-08-06T00:00:00",
          "2023-08-07T00:00:00",
          "2023-08-08T00:00:00",
          "2023-08-09T00:00:00",
          "2023-08-10T00:00:00",
          "2023-08-11T00:00:00",
          "2023-08-12T00:00:00",
          "2023-08-13T00:00:00",
          "2023-08-14T00:00:00",
          "2023-08-15T00:00:00",
          "2023-08-16T00:00:00",
          "2023-08-17T00:00:00",
          "2023-08-18T00:00:00",
          "2023-08-19T00:00:00",
          "2023-08-20T00:00:00",
          "2023-08-21T00:00:00",
          "2023-08-22T00:00:00",
          "2023-08-23T00:00:00",
          "2023-08-24T00:00:00",
          "2023-08-25T00:00:00",
          "2023-08-26T00:00:00",
          "2023-08-27T00:00:00",
          "2023-08-28T00:00:00",
          "2023-08-29T00:00:00",
          "2023-08-30T00:00:00",
          "2023-08-31T00:00:00",
          "2023-09-01T00:00:00",
          "2023-09-02T00:00:00",
          "2023-09-03T00:00:00",
          "2023-09-04T00:00:00",
          "2023-09-05T00:00:00",
          "2023-09-06T00:00:00",
          "2023-09-07T00:00:00",
          "2023-09-08T00:00:00",
          "2023-09-09T00:00:00",
          "2023-09-10T00:00:00",
          "2023-09-11T00:00:00",
          "2023-09-12T00:00:00",
          "2023-09-13T00:00:00",
          "2023-09-14T00:00:00",
          "2023-09-15T00:00:00",
          "2023-09-16T00:00:00",
          "2023-09-17T00:00:00",
          "2023-09-18T00:00:00",
          "2023-09-19T00:00:00",
          "2023-09-20T00:00:00",
          "2023-09-21T00:00:00",
          "2023-09-22T00:00:00",
          "2023-09-23T00:00:00",
          "2023-09-24T00:00:00",
          "2023-09-25T00:00:00",
          "2023-09-26T00:00:00",
          "2023-09-27T00:00:00",
          "2023-09-28T00:00:00",
          "2023-09-29T00:00:00",
          "2023-09-30T00:00:00",
          "2023-10-01T00:00:00",
          "2023-10-02T00:00:00",
          "2023-10-03T00:00:00",
          "2023-10-04T00:00:00",
          "2023-10-05T00:00:00",
          "2023-10-06T00:00:00",
          "2023-10-07T00:00:00",
          "2023-10-08T00:00:00",
          "2023-10-09T00:00:00",
          "2023-10-10T00:00:00",
          "2023-10-11T00:00:00",
          "2023-10-12T00:00:00",
          "2023-10-13T00:00:00",
          "2023-10-14T00:00:00",
          "2023-10-15T00:00:00",
          "2023-10-16T00:00:00",
          "2023-10-17T00:00:00",
          "2023-10-18T00:00:00",
          "2023-10-19T00:00:00",
          "2023-10-20T00:00:00",
          "2023-10-21T00:00:00",
          "2023-10-22T00:00:00",
          "2023-10-23T00:00:00",
          "2023-10-24T00:00:00",
          "2023-10-25T00:00:00",
          "2023-10-26T00:00:00",
          "2023-10-27T00:00:00",
          "2023-10-28T00:00:00",
          "2023-10-29T00:00:00",
          "2023-10-30T00:00:00",
          "2023-10-31T00:00:00",
          "2023-11-01T00:00:00",
          "2023-11-02T00:00:00",
          "2023-11-03T00:00:00",
          "2023-11-04T00:00:00",
          "2023-11-05T00:00:00",
          "2023-11-06T00:00:00",
          "2023-11-07T00:00:00",
          "2023-11-08T00:00:00"
         ],
         "y": [
          null,
          null,
          null,
          null,
          27356.116796875,
          27174.077734375,
          27028.450390625,
          26942.637890625,
          26949.81015625,
          27068.57265625,
          27078.198828125,
          27070.096875,
          27057.475390625,
          27000.910546875,
          26891.40546875,
          26970.108984375,
          26859.046875,
          26728.37109375,
          26721.4640625,
          26724.879296875,
          26896.86328125,
          27179.0765625,
          27424.305078125,
          27524.378515625,
          27514.70234375,
          27347.491015625,
          27213.33984375,
          27096.683203125,
          26804.77109375,
          26888.533203125,
          26707.81484375,
          26594.432421875,
          26466.694140625,
          26484.92265625,
          26225.199609375,
          26136.5,
          26018.60234375,
          25747.4625,
          25692.493359375,
          25769.95234375,
          25891.5875,
          25975.084375,
          26320.355078125,
          26870.573828125,
          27610.540625,
          28290.86171875,
          29162.712890625,
          29902.24609375,
          30332.80078125,
          30381.567578125,
          30536.744140625,
          30414.899609375,
          30394.230859375,
          30393.62890625,
          30457.418359375,
          30443.939453125,
          30657.978125,
          30724.42421875,
          30731.80703125,
          30595.658984375,
          30539.958203125,
          30367.178515625,
          30245.908984375,
          30225.969921875,
          30368.292578125,
          30378.16875,
          30614.8703125,
          30647.437109375,
          30623.704296875,
          30549.340625,
          30500.1890625,
          30176.291796875,
          30092.262890625,
          29991.5046875,
          29923.426953125,
          29848.609765625,
          29894.205078125,
          29746.803515625,
          29633.878515625,
          29523.12421875,
          29410.9015625,
          29257.84296875,
          29293.843359375,
          29303.426953125,
          29278.4546875,
          29371.46328125,
          29338.005859375,
          29302.358203125,
          29262.11484375,
          29224.51796875,
          29097.742578125,
          29103.46640625,
          29220.82890625,
          29318.309375,
          29395.80234375,
          29466.97421875,
          29514.0515625,
          29417.5359375,
          29386.92578125,
          29335.076953125,
          29195.88984375,
          28645.60703125,
          27998.935546875,
          27336.487890625,
          26740.33515625,
          26224.807421875,
          26098.228515625,
          26174.6453125,
          26187.87890625,
          26159.495703125,
          26136.36015625,
          26147.967578125,
          26082.86953125,
          26395.8734375,
          26645.79296875,
          26630.394921875,
          26572.601171875,
          26525.130859375,
          26173.565625,
          25876.595703125,
          25846.29765625,
          25836.8,
          25911.079296875,
          25898.296875,
          25914.94921875,
          25925.398046875,
          25807.281640625,
          25725.911328125,
          25790.4453125,
          25919.24453125,
          26074.537890625,
          26355.66328125,
          26495.83203125,
          26601.0234375,
          26735.312109375,
          26839.975,
          26839.8453125,
          26848.921484375,
          26813.943359375,
          26623.08515625,
          26456.3796875,
          26386.303125,
          26340.9328125,
          26429.3640625,
          26560.34296875,
          26694.230078125,
          27047.530078125,
          27283.14375,
          27364.830078125,
          27542.36484375,
          27631.9640625,
          27624.53359375,
          27712.14453125,
          27813.166796875,
          27770.0234375,
          27765.044921875,
          27550.389453125,
          27307.98125,
          27093.43828125,
          26949.044140625,
          26902.770703125,
          27232,
          27563.78984375,
          27856.983203125,
          28228.603125,
          28733.2625,
          29013.0515625,
          29328.68125,
          30280.259765625,
          31316.60390625,
          32280.578125,
          33128.225390625,
          33911.40625,
          34112.07421875,
          34239.46484375,
          34239.3734375,
          34341.6,
          34647.090625,
          34816.82421875,
          34855.59296875,
          34971.559375,
          35047.87421875,
          34967.89765625,
          35068.96171875,
          35253.04921875
         ]
        }
       ],
       "layout": {
        "template": {
         "data": {
          "bar": [
           {
            "error_x": {
             "color": "#2a3f5f"
            },
            "error_y": {
             "color": "#2a3f5f"
            },
            "marker": {
             "line": {
              "color": "#E5ECF6",
              "width": 0.5
             },
             "pattern": {
              "fillmode": "overlay",
              "size": 10,
              "solidity": 0.2
             }
            },
            "type": "bar"
           }
          ],
          "barpolar": [
           {
            "marker": {
             "line": {
              "color": "#E5ECF6",
              "width": 0.5
             },
             "pattern": {
              "fillmode": "overlay",
              "size": 10,
              "solidity": 0.2
             }
            },
            "type": "barpolar"
           }
          ],
          "carpet": [
           {
            "aaxis": {
             "endlinecolor": "#2a3f5f",
             "gridcolor": "white",
             "linecolor": "white",
             "minorgridcolor": "white",
             "startlinecolor": "#2a3f5f"
            },
            "baxis": {
             "endlinecolor": "#2a3f5f",
             "gridcolor": "white",
             "linecolor": "white",
             "minorgridcolor": "white",
             "startlinecolor": "#2a3f5f"
            },
            "type": "carpet"
           }
          ],
          "choropleth": [
           {
            "colorbar": {
             "outlinewidth": 0,
             "ticks": ""
            },
            "type": "choropleth"
           }
          ],
          "contour": [
           {
            "colorbar": {
             "outlinewidth": 0,
             "ticks": ""
            },
            "colorscale": [
             [
              0,
              "#0d0887"
             ],
             [
              0.1111111111111111,
              "#46039f"
             ],
             [
              0.2222222222222222,
              "#7201a8"
             ],
             [
              0.3333333333333333,
              "#9c179e"
             ],
             [
              0.4444444444444444,
              "#bd3786"
             ],
             [
              0.5555555555555556,
              "#d8576b"
             ],
             [
              0.6666666666666666,
              "#ed7953"
             ],
             [
              0.7777777777777778,
              "#fb9f3a"
             ],
             [
              0.8888888888888888,
              "#fdca26"
             ],
             [
              1,
              "#f0f921"
             ]
            ],
            "type": "contour"
           }
          ],
          "contourcarpet": [
           {
            "colorbar": {
             "outlinewidth": 0,
             "ticks": ""
            },
            "type": "contourcarpet"
           }
          ],
          "heatmap": [
           {
            "colorbar": {
             "outlinewidth": 0,
             "ticks": ""
            },
            "colorscale": [
             [
              0,
              "#0d0887"
             ],
             [
              0.1111111111111111,
              "#46039f"
             ],
             [
              0.2222222222222222,
              "#7201a8"
             ],
             [
              0.3333333333333333,
              "#9c179e"
             ],
             [
              0.4444444444444444,
              "#bd3786"
             ],
             [
              0.5555555555555556,
              "#d8576b"
             ],
             [
              0.6666666666666666,
              "#ed7953"
             ],
             [
              0.7777777777777778,
              "#fb9f3a"
             ],
             [
              0.8888888888888888,
              "#fdca26"
             ],
             [
              1,
              "#f0f921"
             ]
            ],
            "type": "heatmap"
           }
          ],
          "heatmapgl": [
           {
            "colorbar": {
             "outlinewidth": 0,
             "ticks": ""
            },
            "colorscale": [
             [
              0,
              "#0d0887"
             ],
             [
              0.1111111111111111,
              "#46039f"
             ],
             [
              0.2222222222222222,
              "#7201a8"
             ],
             [
              0.3333333333333333,
              "#9c179e"
             ],
             [
              0.4444444444444444,
              "#bd3786"
             ],
             [
              0.5555555555555556,
              "#d8576b"
             ],
             [
              0.6666666666666666,
              "#ed7953"
             ],
             [
              0.7777777777777778,
              "#fb9f3a"
             ],
             [
              0.8888888888888888,
              "#fdca26"
             ],
             [
              1,
              "#f0f921"
             ]
            ],
            "type": "heatmapgl"
           }
          ],
          "histogram": [
           {
            "marker": {
             "pattern": {
              "fillmode": "overlay",
              "size": 10,
              "solidity": 0.2
             }
            },
            "type": "histogram"
           }
          ],
          "histogram2d": [
           {
            "colorbar": {
             "outlinewidth": 0,
             "ticks": ""
            },
            "colorscale": [
             [
              0,
              "#0d0887"
             ],
             [
              0.1111111111111111,
              "#46039f"
             ],
             [
              0.2222222222222222,
              "#7201a8"
             ],
             [
              0.3333333333333333,
              "#9c179e"
             ],
             [
              0.4444444444444444,
              "#bd3786"
             ],
             [
              0.5555555555555556,
              "#d8576b"
             ],
             [
              0.6666666666666666,
              "#ed7953"
             ],
             [
              0.7777777777777778,
              "#fb9f3a"
             ],
             [
              0.8888888888888888,
              "#fdca26"
             ],
             [
              1,
              "#f0f921"
             ]
            ],
            "type": "histogram2d"
           }
          ],
          "histogram2dcontour": [
           {
            "colorbar": {
             "outlinewidth": 0,
             "ticks": ""
            },
            "colorscale": [
             [
              0,
              "#0d0887"
             ],
             [
              0.1111111111111111,
              "#46039f"
             ],
             [
              0.2222222222222222,
              "#7201a8"
             ],
             [
              0.3333333333333333,
              "#9c179e"
             ],
             [
              0.4444444444444444,
              "#bd3786"
             ],
             [
              0.5555555555555556,
              "#d8576b"
             ],
             [
              0.6666666666666666,
              "#ed7953"
             ],
             [
              0.7777777777777778,
              "#fb9f3a"
             ],
             [
              0.8888888888888888,
              "#fdca26"
             ],
             [
              1,
              "#f0f921"
             ]
            ],
            "type": "histogram2dcontour"
           }
          ],
          "mesh3d": [
           {
            "colorbar": {
             "outlinewidth": 0,
             "ticks": ""
            },
            "type": "mesh3d"
           }
          ],
          "parcoords": [
           {
            "line": {
             "colorbar": {
              "outlinewidth": 0,
              "ticks": ""
             }
            },
            "type": "parcoords"
           }
          ],
          "pie": [
           {
            "automargin": true,
            "type": "pie"
           }
          ],
          "scatter": [
           {
            "fillpattern": {
             "fillmode": "overlay",
             "size": 10,
             "solidity": 0.2
            },
            "type": "scatter"
           }
          ],
          "scatter3d": [
           {
            "line": {
             "colorbar": {
              "outlinewidth": 0,
              "ticks": ""
             }
            },
            "marker": {
             "colorbar": {
              "outlinewidth": 0,
              "ticks": ""
             }
            },
            "type": "scatter3d"
           }
          ],
          "scattercarpet": [
           {
            "marker": {
             "colorbar": {
              "outlinewidth": 0,
              "ticks": ""
             }
            },
            "type": "scattercarpet"
           }
          ],
          "scattergeo": [
           {
            "marker": {
             "colorbar": {
              "outlinewidth": 0,
              "ticks": ""
             }
            },
            "type": "scattergeo"
           }
          ],
          "scattergl": [
           {
            "marker": {
             "colorbar": {
              "outlinewidth": 0,
              "ticks": ""
             }
            },
            "type": "scattergl"
           }
          ],
          "scattermapbox": [
           {
            "marker": {
             "colorbar": {
              "outlinewidth": 0,
              "ticks": ""
             }
            },
            "type": "scattermapbox"
           }
          ],
          "scatterpolar": [
           {
            "marker": {
             "colorbar": {
              "outlinewidth": 0,
              "ticks": ""
             }
            },
            "type": "scatterpolar"
           }
          ],
          "scatterpolargl": [
           {
            "marker": {
             "colorbar": {
              "outlinewidth": 0,
              "ticks": ""
             }
            },
            "type": "scatterpolargl"
           }
          ],
          "scatterternary": [
           {
            "marker": {
             "colorbar": {
              "outlinewidth": 0,
              "ticks": ""
             }
            },
            "type": "scatterternary"
           }
          ],
          "surface": [
           {
            "colorbar": {
             "outlinewidth": 0,
             "ticks": ""
            },
            "colorscale": [
             [
              0,
              "#0d0887"
             ],
             [
              0.1111111111111111,
              "#46039f"
             ],
             [
              0.2222222222222222,
              "#7201a8"
             ],
             [
              0.3333333333333333,
              "#9c179e"
             ],
             [
              0.4444444444444444,
              "#bd3786"
             ],
             [
              0.5555555555555556,
              "#d8576b"
             ],
             [
              0.6666666666666666,
              "#ed7953"
             ],
             [
              0.7777777777777778,
              "#fb9f3a"
             ],
             [
              0.8888888888888888,
              "#fdca26"
             ],
             [
              1,
              "#f0f921"
             ]
            ],
            "type": "surface"
           }
          ],
          "table": [
           {
            "cells": {
             "fill": {
              "color": "#EBF0F8"
             },
             "line": {
              "color": "white"
             }
            },
            "header": {
             "fill": {
              "color": "#C8D4E3"
             },
             "line": {
              "color": "white"
             }
            },
            "type": "table"
           }
          ]
         },
         "layout": {
          "annotationdefaults": {
           "arrowcolor": "#2a3f5f",
           "arrowhead": 0,
           "arrowwidth": 1
          },
          "autotypenumbers": "strict",
          "coloraxis": {
           "colorbar": {
            "outlinewidth": 0,
            "ticks": ""
           }
          },
          "colorscale": {
           "diverging": [
            [
             0,
             "#8e0152"
            ],
            [
             0.1,
             "#c51b7d"
            ],
            [
             0.2,
             "#de77ae"
            ],
            [
             0.3,
             "#f1b6da"
            ],
            [
             0.4,
             "#fde0ef"
            ],
            [
             0.5,
             "#f7f7f7"
            ],
            [
             0.6,
             "#e6f5d0"
            ],
            [
             0.7,
             "#b8e186"
            ],
            [
             0.8,
             "#7fbc41"
            ],
            [
             0.9,
             "#4d9221"
            ],
            [
             1,
             "#276419"
            ]
           ],
           "sequential": [
            [
             0,
             "#0d0887"
            ],
            [
             0.1111111111111111,
             "#46039f"
            ],
            [
             0.2222222222222222,
             "#7201a8"
            ],
            [
             0.3333333333333333,
             "#9c179e"
            ],
            [
             0.4444444444444444,
             "#bd3786"
            ],
            [
             0.5555555555555556,
             "#d8576b"
            ],
            [
             0.6666666666666666,
             "#ed7953"
            ],
            [
             0.7777777777777778,
             "#fb9f3a"
            ],
            [
             0.8888888888888888,
             "#fdca26"
            ],
            [
             1,
             "#f0f921"
            ]
           ],
           "sequentialminus": [
            [
             0,
             "#0d0887"
            ],
            [
             0.1111111111111111,
             "#46039f"
            ],
            [
             0.2222222222222222,
             "#7201a8"
            ],
            [
             0.3333333333333333,
             "#9c179e"
            ],
            [
             0.4444444444444444,
             "#bd3786"
            ],
            [
             0.5555555555555556,
             "#d8576b"
            ],
            [
             0.6666666666666666,
             "#ed7953"
            ],
            [
             0.7777777777777778,
             "#fb9f3a"
            ],
            [
             0.8888888888888888,
             "#fdca26"
            ],
            [
             1,
             "#f0f921"
            ]
           ]
          },
          "colorway": [
           "#636efa",
           "#EF553B",
           "#00cc96",
           "#ab63fa",
           "#FFA15A",
           "#19d3f3",
           "#FF6692",
           "#B6E880",
           "#FF97FF",
           "#FECB52"
          ],
          "font": {
           "color": "#2a3f5f"
          },
          "geo": {
           "bgcolor": "white",
           "lakecolor": "white",
           "landcolor": "#E5ECF6",
           "showlakes": true,
           "showland": true,
           "subunitcolor": "white"
          },
          "hoverlabel": {
           "align": "left"
          },
          "hovermode": "closest",
          "mapbox": {
           "style": "light"
          },
          "paper_bgcolor": "white",
          "plot_bgcolor": "#E5ECF6",
          "polar": {
           "angularaxis": {
            "gridcolor": "white",
            "linecolor": "white",
            "ticks": ""
           },
           "bgcolor": "#E5ECF6",
           "radialaxis": {
            "gridcolor": "white",
            "linecolor": "white",
            "ticks": ""
           }
          },
          "scene": {
           "xaxis": {
            "backgroundcolor": "#E5ECF6",
            "gridcolor": "white",
            "gridwidth": 2,
            "linecolor": "white",
            "showbackground": true,
            "ticks": "",
            "zerolinecolor": "white"
           },
           "yaxis": {
            "backgroundcolor": "#E5ECF6",
            "gridcolor": "white",
            "gridwidth": 2,
            "linecolor": "white",
            "showbackground": true,
            "ticks": "",
            "zerolinecolor": "white"
           },
           "zaxis": {
            "backgroundcolor": "#E5ECF6",
            "gridcolor": "white",
            "gridwidth": 2,
            "linecolor": "white",
            "showbackground": true,
            "ticks": "",
            "zerolinecolor": "white"
           }
          },
          "shapedefaults": {
           "line": {
            "color": "#2a3f5f"
           }
          },
          "ternary": {
           "aaxis": {
            "gridcolor": "white",
            "linecolor": "white",
            "ticks": ""
           },
           "baxis": {
            "gridcolor": "white",
            "linecolor": "white",
            "ticks": ""
           },
           "bgcolor": "#E5ECF6",
           "caxis": {
            "gridcolor": "white",
            "linecolor": "white",
            "ticks": ""
           }
          },
          "title": {
           "x": 0.05
          },
          "xaxis": {
           "automargin": true,
           "gridcolor": "white",
           "linecolor": "white",
           "ticks": "",
           "title": {
            "standoff": 15
           },
           "zerolinecolor": "white",
           "zerolinewidth": 2
          },
          "yaxis": {
           "automargin": true,
           "gridcolor": "white",
           "linecolor": "white",
           "ticks": "",
           "title": {
            "standoff": 15
           },
           "zerolinecolor": "white",
           "zerolinewidth": 2
          }
         }
        },
        "title": {
         "text": "Análise de fechamento"
        },
        "xaxis": {
         "title": {
          "text": "Período"
         }
        },
        "yaxis": {
         "title": {
          "text": "Preço de fechamento"
         }
        }
       }
      }
     },
     "metadata": {},
     "output_type": "display_data"
    }
   ],
   "source": [
    "# utilizando o plotly.graph_objects (go)\n",
    "\n",
    "# criando o gráfico dos preços de fechamento\n",
    "fig = go.Figure(\n",
    "    data = go.Scatter(\n",
    "        x = dados.index,\n",
    "        y = dados['Close'],\n",
    "        name = 'Fechamento'\n",
    "    )\n",
    ")\n",
    "\n",
    "# adicionando no gráfico de fechamento a linha com os dados das médias móveis de fechamento\n",
    "fig.add_trace(\n",
    "    go.Scatter(\n",
    "        x = dados.index,\n",
    "        y = dados['Media_movel'],\n",
    "        name = 'Média movel'\n",
    "    )\n",
    ")\n",
    "\n",
    "# editando o título do gráfico e os eixos\n",
    "fig.update_layout(\n",
    "    title = 'Análise de fechamento',\n",
    "    xaxis_title = 'Período',\n",
    "    yaxis_title = 'Preço de fechamento'\n",
    ")\n",
    "\n",
    "# exibindo o gráfico\n",
    "fig.show()"
   ]
  },
  {
   "cell_type": "markdown",
   "metadata": {},
   "source": [
    "### Gráfico Candlestick"
   ]
  },
  {
   "cell_type": "markdown",
   "metadata": {},
   "source": [
    "Além dos gráficos de fechamento acima, um gráfico muito comum no mundo financeiro chamado \"Candlestick\" Este tipo de gráfico permite avaliar a dispersão entre os valores de abertura e fechamento de bolsas de valores, além do comparativo entre o maior e menor preço atingido por determinada ação em alguma data em específico. Por padrão, as velas crescentes são desenhadas em verde, enquanto que as decrescentes são representadas em vermelho.\n",
    "\n",
    "Segue abaixo um exemplo de gráfico candlestick com Plotly, utilizando os dados de abertura, fechamento, high e low do bitcoin."
   ]
  },
  {
   "cell_type": "code",
   "execution_count": 15,
   "metadata": {},
   "outputs": [
    {
     "data": {
      "application/vnd.plotly.v1+json": {
       "config": {
        "plotlyServerURL": "https://plot.ly"
       },
       "data": [
        {
         "close": [
          27694.2734375,
          27658.775390625,
          27621.755859375,
          27000.7890625,
          26804.990234375,
          26784.078125,
          26930.638671875,
          27192.693359375,
          27036.650390625,
          27398.802734375,
          26832.208984375,
          26890.12890625,
          27129.5859375,
          26753.826171875,
          26851.27734375,
          27225.7265625,
          26334.818359375,
          26476.20703125,
          26719.291015625,
          26868.353515625,
          28085.646484375,
          27745.884765625,
          27702.349609375,
          27219.658203125,
          26819.97265625,
          27249.58984375,
          27075.12890625,
          27119.06640625,
          25760.09765625,
          27238.783203125,
          26345.998046875,
          26508.216796875,
          26480.375,
          25851.240234375,
          25940.16796875,
          25902.5,
          25918.728515625,
          25124.67578125,
          25576.39453125,
          26327.462890625,
          26510.67578125,
          26336.212890625,
          26851.029296875,
          28327.48828125,
          30027.296875,
          29912.28125,
          30695.46875,
          30548.6953125,
          30480.26171875,
          30271.130859375,
          30688.1640625,
          30086.24609375,
          30445.3515625,
          30477.251953125,
          30590.078125,
          30620.76953125,
          31156.439453125,
          30777.58203125,
          30514.166015625,
          29909.337890625,
          30342.265625,
          30292.541015625,
          30171.234375,
          30414.470703125,
          30620.951171875,
          30391.646484375,
          31476.048828125,
          30334.068359375,
          30295.806640625,
          30249.1328125,
          30145.888671875,
          29856.5625,
          29913.923828125,
          29792.015625,
          29908.744140625,
          29771.802734375,
          30084.5390625,
          29176.916015625,
          29227.390625,
          29354.97265625,
          29210.689453125,
          29319.24609375,
          29356.91796875,
          29275.30859375,
          29230.111328125,
          29675.732421875,
          29151.958984375,
          29178.6796875,
          29074.091796875,
          29042.126953125,
          29041.85546875,
          29180.578125,
          29765.4921875,
          29561.494140625,
          29429.591796875,
          29397.71484375,
          29415.96484375,
          29282.9140625,
          29408.443359375,
          29170.34765625,
          28701.779296875,
          26664.55078125,
          26049.556640625,
          26096.205078125,
          26189.583984375,
          26124.140625,
          26031.65625,
          26431.640625,
          26162.373046875,
          26047.66796875,
          26008.462890625,
          26089.693359375,
          26106.150390625,
          27727.392578125,
          27297.265625,
          25931.47265625,
          25800.724609375,
          25868.798828125,
          25969.56640625,
          25812.416015625,
          25779.982421875,
          25753.236328125,
          26240.1953125,
          25905.654296875,
          25895.677734375,
          25832.2265625,
          25162.654296875,
          25833.34375,
          26228.32421875,
          26539.673828125,
          26608.693359375,
          26568.28125,
          26534.1875,
          26754.28125,
          27211.1171875,
          27132.0078125,
          26567.6328125,
          26579.568359375,
          26579.390625,
          26256.826171875,
          26298.48046875,
          26217.25,
          26352.716796875,
          27021.546875,
          26911.720703125,
          26967.916015625,
          27983.75,
          27530.78515625,
          27429.978515625,
          27799.39453125,
          27415.912109375,
          27946.59765625,
          27968.83984375,
          27935.08984375,
          27583.677734375,
          27391.01953125,
          26873.3203125,
          26756.798828125,
          26862.375,
          26861.70703125,
          27159.65234375,
          28519.466796875,
          28415.748046875,
          28328.341796875,
          28719.806640625,
          29682.94921875,
          29918.412109375,
          29993.896484375,
          33086.234375,
          33901.52734375,
          34502.8203125,
          34156.6484375,
          33909.80078125,
          34089.57421875,
          34538.48046875,
          34502.36328125,
          34667.78125,
          35437.25390625,
          34938.2421875,
          34732.32421875,
          35082.1953125,
          35049.35546875,
          35037.37109375,
          35443.5625,
          35652.76171875
         ],
         "high": [
          28663.271484375,
          27821.400390625,
          28322.6875,
          27621.94140625,
          27055.646484375,
          27030.482421875,
          27150.9765625,
          27646.34765625,
          27299.3046875,
          27465.927734375,
          27466.52734375,
          27128.619140625,
          27155.158203125,
          27265.91796875,
          27045.734375,
          27434.68359375,
          27224.603515625,
          26591.51953125,
          26916.669921875,
          26888.8828125,
          28193.44921875,
          28432.0390625,
          28044.759765625,
          27831.677734375,
          27346.10546875,
          27303.861328125,
          27317.052734375,
          27407.01953125,
          27129.982421875,
          27313.8203125,
          27332.181640625,
          26797.513671875,
          26770.2890625,
          26531.044921875,
          26203.439453125,
          26087.919921875,
          26376.3515625,
          26041.80078125,
          25735.30859375,
          26463.173828125,
          26769.39453125,
          26675.92578125,
          26984.611328125,
          28388.96875,
          30737.330078125,
          30495.998046875,
          31389.5390625,
          30804.1484375,
          31041.271484375,
          30636.029296875,
          31006.787109375,
          30703.279296875,
          30796.25,
          31256.86328125,
          30641.2890625,
          30766.140625,
          31375.61328125,
          31325.197265625,
          30877.330078125,
          31460.052734375,
          30434.64453125,
          30374.4375,
          30427.58984375,
          31026.083984375,
          30788.314453125,
          30959.96484375,
          31814.515625,
          31582.25390625,
          30407.78125,
          30437.560546875,
          30336.400390625,
          30233.65625,
          30184.181640625,
          30195.53125,
          30045.998046875,
          29991.615234375,
          30330.640625,
          30093.39453125,
          29353.16015625,
          29675.552734375,
          29560.966796875,
          29521.513671875,
          29396.84375,
          29443.169921875,
          29489.873046875,
          29675.732421875,
          29987.998046875,
          29375.70703125,
          29302.078125,
          29102.46484375,
          29160.822265625,
          29244.28125,
          30176.796875,
          30093.435546875,
          29688.564453125,
          29517.7734375,
          29465.11328125,
          29441.43359375,
          29660.25390625,
          29439.12109375,
          29221.9765625,
          28745.947265625,
          26808.1953125,
          26249.44921875,
          26260.681640625,
          26220.201171875,
          26135.5078125,
          26786.8984375,
          26554.91015625,
          26248.103515625,
          26107.384765625,
          26165.373046875,
          26198.578125,
          28089.337890625,
          27760.16015625,
          27456.078125,
          26125.869140625,
          25970.28515625,
          26087.1484375,
          26081.525390625,
          25858.375,
          25953.015625,
          26409.302734375,
          26414.005859375,
          25921.9765625,
          25978.130859375,
          25883.947265625,
          26451.939453125,
          26376.11328125,
          26774.623046875,
          26840.498046875,
          26754.76953125,
          26617.998046875,
          27414.734375,
          27488.763671875,
          27379.505859375,
          27152.939453125,
          26726.078125,
          26634.185546875,
          26716.05859375,
          26421.5078125,
          26389.884765625,
          26817.841796875,
          27259.5,
          27225.9375,
          27091.794921875,
          28047.23828125,
          28494.458984375,
          27667.19140625,
          27826.658203125,
          28091.861328125,
          28252.537109375,
          28028.091796875,
          28102.169921875,
          27989.470703125,
          27715.84765625,
          27474.115234375,
          26921.439453125,
          27092.697265625,
          26969,
          27289.169921875,
          29448.138671875,
          28618.751953125,
          28889.009765625,
          28892.474609375,
          30104.0859375,
          30287.482421875,
          30199.43359375,
          34370.4375,
          35150.43359375,
          35133.7578125,
          34832.91015625,
          34238.2109375,
          34399.390625,
          34743.26171875,
          34843.93359375,
          34719.25390625,
          35527.9296875,
          35919.84375,
          34942.47265625,
          35256.03125,
          35340.33984375,
          35286.02734375,
          35892.41796875,
          35696.46875
         ],
         "low": [
          27310.134765625,
          27375.6015625,
          26883.669921875,
          26781.826171875,
          25878.4296875,
          26710.873046875,
          26661.35546875,
          26766.09765625,
          26878.947265625,
          26600.14453125,
          26415.1015625,
          26700.2109375,
          26843.27734375,
          26706.921875,
          26549.734375,
          26816.1796875,
          26106.576171875,
          25890.59375,
          26343.94921875,
          26621.140625,
          26802.751953125,
          27563.876953125,
          27588.501953125,
          26866.453125,
          26671.720703125,
          26574.64453125,
          26958.00390625,
          26968.224609375,
          25445.16796875,
          25434.8671875,
          26146.98828125,
          26246.6640625,
          26339.314453125,
          25501.8359375,
          25668.986328125,
          25675.197265625,
          25728.365234375,
          24902.15234375,
          24797.16796875,
          25245.357421875,
          26174.4921875,
          26325.890625,
          26312.83203125,
          26668.791015625,
          28283.41015625,
          29679.158203125,
          29845.21484375,
          30290.146484375,
          30327.943359375,
          29955.744140625,
          30236.650390625,
          29921.822265625,
          30057.203125,
          29600.275390625,
          30328.865234375,
          30264.01953125,
          30586.513671875,
          30659.35546875,
          30225.61328125,
          29892.2265625,
          29777.28515625,
          30080.16015625,
          30085.591796875,
          29985.39453125,
          30358.09765625,
          30228.8359375,
          30268.3515625,
          29966.38671875,
          30263.462890625,
          30089.669921875,
          29685.783203125,
          29556.427734375,
          29794.26953125,
          29638.095703125,
          29733.8515625,
          29664.12109375,
          29741.52734375,
          28934.294921875,
          29062.43359375,
          29113.912109375,
          29099.3515625,
          29125.845703125,
          29264.166015625,
          29059.501953125,
          29131.578125,
          28657.0234375,
          28946.509765625,
          28959.48828125,
          28885.3359375,
          28957.796875,
          28963.833984375,
          28724.140625,
          29113.814453125,
          29376.80078125,
          29354.447265625,
          29253.517578125,
          29357.587890625,
          29265.806640625,
          29124.10546875,
          29088.853515625,
          28701.779296875,
          25409.111328125,
          25668.921875,
          25802.408203125,
          26004.314453125,
          25846.087890625,
          25520.728515625,
          25804.998046875,
          25914.92578125,
          25786.8125,
          25983.87890625,
          25965.09765625,
          25880.599609375,
          25912.62890625,
          27069.20703125,
          25752.9296875,
          25362.609375,
          25753.09375,
          25817.03125,
          25657.025390625,
          25589.98828125,
          25404.359375,
          25608.201171875,
          25677.48046875,
          25810.494140625,
          25640.26171875,
          24930.296875,
          25133.078125,
          25781.123046875,
          26171.451171875,
          26240.701171875,
          26473.890625,
          26445.07421875,
          26415.515625,
          26681.60546875,
          26864.08203125,
          26389.30078125,
          26495.533203125,
          26520.51953125,
          26221.05078125,
          26011.46875,
          26090.712890625,
          26111.46484375,
          26327.322265625,
          26721.763671875,
          26888.96875,
          26965.09375,
          27347.787109375,
          27216.001953125,
          27248.10546875,
          27375.6015625,
          27215.552734375,
          27870.423828125,
          27740.662109375,
          27302.5625,
          27301.654296875,
          26561.099609375,
          26558.3203125,
          26686.322265625,
          26814.5859375,
          26817.89453125,
          27130.47265625,
          28110.185546875,
          28174.251953125,
          28177.98828125,
          28601.669921875,
          29481.751953125,
          29720.3125,
          30097.828125,
          32880.76171875,
          33709.109375,
          33762.32421875,
          33416.88671875,
          33874.8046875,
          33947.56640625,
          34110.97265625,
          34083.30859375,
          34170.69140625,
          34401.57421875,
          34133.44140625,
          34616.69140625,
          34594.2421875,
          34765.36328125,
          34545.81640625,
          35159.8125
         ],
         "open": [
          28450.45703125,
          27695.068359375,
          27654.63671875,
          27621.0859375,
          26987.662109375,
          26807.76953125,
          26788.974609375,
          26931.384765625,
          27171.513671875,
          27035.470703125,
          27401.650390625,
          26826.75390625,
          26888.841796875,
          27118.423828125,
          26749.892578125,
          26855.9609375,
          27224.603515625,
          26329.4609375,
          26474.181640625,
          26720.181640625,
          26871.158203125,
          28075.591796875,
          27745.123046875,
          27700.529296875,
          27218.412109375,
          26824.556640625,
          27252.32421875,
          27075.123046875,
          27123.109375,
          25732.109375,
          27235.650390625,
          26347.654296875,
          26505.923828125,
          26481.76171875,
          25854.03125,
          25934.28515625,
          25902.94140625,
          25920.2578125,
          25121.673828125,
          25575.283203125,
          26328.6796875,
          26510.45703125,
          26335.44140625,
          26841.6640625,
          28311.310546875,
          29995.935546875,
          29896.3828125,
          30708.73828125,
          30545.150390625,
          30480.5234375,
          30274.3203125,
          30696.560546875,
          30086.1875,
          30441.353515625,
          30471.84765625,
          30587.26953125,
          30624.515625,
          31156.865234375,
          30778.724609375,
          30507.150390625,
          29907.998046875,
          30346.921875,
          30291.611328125,
          30172.423828125,
          30417.6328125,
          30622.24609375,
          30387.48828125,
          31474.720703125,
          30331.783203125,
          30297.47265625,
          30249.626953125,
          30147.0703125,
          29862.046875,
          29915.25,
          29805.111328125,
          29908.697265625,
          29790.111328125,
          30081.662109375,
          29178.970703125,
          29225.759765625,
          29353.798828125,
          29212.1640625,
          29319.4453125,
          29357.09375,
          29278.314453125,
          29230.873046875,
          29704.146484375,
          29161.8125,
          29174.3828125,
          29075.388671875,
          29043.701171875,
          29038.513671875,
          29180.01953125,
          29766.6953125,
          29563.97265625,
          29424.90234375,
          29399.787109375,
          29416.59375,
          29283.263671875,
          29408.048828125,
          29169.07421875,
          28699.802734375,
          26636.078125,
          26047.83203125,
          26096.861328125,
          26188.69140625,
          26130.748046875,
          26040.474609375,
          26431.51953125,
          26163.6796875,
          26047.234375,
          26008.2421875,
          26089.615234375,
          26102.486328125,
          27726.083984375,
          27301.9296875,
          25934.021484375,
          25800.91015625,
          25869.47265625,
          25968.169921875,
          25814.95703125,
          25783.931640625,
          25748.3125,
          26245.208984375,
          25905.42578125,
          25895.2109375,
          25831.71484375,
          25160.658203125,
          25837.5546875,
          26228.27734375,
          26533.818359375,
          26606.19921875,
          26567.927734375,
          26532.994140625,
          26760.8515625,
          27210.228515625,
          27129.83984375,
          26564.056640625,
          26578.556640625,
          26579.373046875,
          26253.775390625,
          26294.7578125,
          26209.498046875,
          26355.8125,
          27024.841796875,
          26911.689453125,
          26967.396484375,
          27976.798828125,
          27508.251953125,
          27429.07421875,
          27798.646484375,
          27412.123046875,
          27946.78125,
          27971.677734375,
          27934.47265625,
          27589.201171875,
          27392.076171875,
          26873.29296875,
          26752.87890625,
          26866.203125,
          26858.01171875,
          27162.62890625,
          28522.09765625,
          28413.53125,
          28332.416015625,
          28732.8125,
          29683.380859375,
          29918.654296875,
          30140.685546875,
          33077.3046875,
          33916.04296875,
          34504.2890625,
          34156.5,
          33907.72265625,
          34089.37109375,
          34531.7421875,
          34500.078125,
          34657.2734375,
          35441.578125,
          34942.47265625,
          34736.32421875,
          35090.01171875,
          35044.7890625,
          35047.79296875,
          35419.4765625
         ],
         "type": "candlestick",
         "x": [
          "2023-05-08T00:00:00",
          "2023-05-09T00:00:00",
          "2023-05-10T00:00:00",
          "2023-05-11T00:00:00",
          "2023-05-12T00:00:00",
          "2023-05-13T00:00:00",
          "2023-05-14T00:00:00",
          "2023-05-15T00:00:00",
          "2023-05-16T00:00:00",
          "2023-05-17T00:00:00",
          "2023-05-18T00:00:00",
          "2023-05-19T00:00:00",
          "2023-05-20T00:00:00",
          "2023-05-21T00:00:00",
          "2023-05-22T00:00:00",
          "2023-05-23T00:00:00",
          "2023-05-24T00:00:00",
          "2023-05-25T00:00:00",
          "2023-05-26T00:00:00",
          "2023-05-27T00:00:00",
          "2023-05-28T00:00:00",
          "2023-05-29T00:00:00",
          "2023-05-30T00:00:00",
          "2023-05-31T00:00:00",
          "2023-06-01T00:00:00",
          "2023-06-02T00:00:00",
          "2023-06-03T00:00:00",
          "2023-06-04T00:00:00",
          "2023-06-05T00:00:00",
          "2023-06-06T00:00:00",
          "2023-06-07T00:00:00",
          "2023-06-08T00:00:00",
          "2023-06-09T00:00:00",
          "2023-06-10T00:00:00",
          "2023-06-11T00:00:00",
          "2023-06-12T00:00:00",
          "2023-06-13T00:00:00",
          "2023-06-14T00:00:00",
          "2023-06-15T00:00:00",
          "2023-06-16T00:00:00",
          "2023-06-17T00:00:00",
          "2023-06-18T00:00:00",
          "2023-06-19T00:00:00",
          "2023-06-20T00:00:00",
          "2023-06-21T00:00:00",
          "2023-06-22T00:00:00",
          "2023-06-23T00:00:00",
          "2023-06-24T00:00:00",
          "2023-06-25T00:00:00",
          "2023-06-26T00:00:00",
          "2023-06-27T00:00:00",
          "2023-06-28T00:00:00",
          "2023-06-29T00:00:00",
          "2023-06-30T00:00:00",
          "2023-07-01T00:00:00",
          "2023-07-02T00:00:00",
          "2023-07-03T00:00:00",
          "2023-07-04T00:00:00",
          "2023-07-05T00:00:00",
          "2023-07-06T00:00:00",
          "2023-07-07T00:00:00",
          "2023-07-08T00:00:00",
          "2023-07-09T00:00:00",
          "2023-07-10T00:00:00",
          "2023-07-11T00:00:00",
          "2023-07-12T00:00:00",
          "2023-07-13T00:00:00",
          "2023-07-14T00:00:00",
          "2023-07-15T00:00:00",
          "2023-07-16T00:00:00",
          "2023-07-17T00:00:00",
          "2023-07-18T00:00:00",
          "2023-07-19T00:00:00",
          "2023-07-20T00:00:00",
          "2023-07-21T00:00:00",
          "2023-07-22T00:00:00",
          "2023-07-23T00:00:00",
          "2023-07-24T00:00:00",
          "2023-07-25T00:00:00",
          "2023-07-26T00:00:00",
          "2023-07-27T00:00:00",
          "2023-07-28T00:00:00",
          "2023-07-29T00:00:00",
          "2023-07-30T00:00:00",
          "2023-07-31T00:00:00",
          "2023-08-01T00:00:00",
          "2023-08-02T00:00:00",
          "2023-08-03T00:00:00",
          "2023-08-04T00:00:00",
          "2023-08-05T00:00:00",
          "2023-08-06T00:00:00",
          "2023-08-07T00:00:00",
          "2023-08-08T00:00:00",
          "2023-08-09T00:00:00",
          "2023-08-10T00:00:00",
          "2023-08-11T00:00:00",
          "2023-08-12T00:00:00",
          "2023-08-13T00:00:00",
          "2023-08-14T00:00:00",
          "2023-08-15T00:00:00",
          "2023-08-16T00:00:00",
          "2023-08-17T00:00:00",
          "2023-08-18T00:00:00",
          "2023-08-19T00:00:00",
          "2023-08-20T00:00:00",
          "2023-08-21T00:00:00",
          "2023-08-22T00:00:00",
          "2023-08-23T00:00:00",
          "2023-08-24T00:00:00",
          "2023-08-25T00:00:00",
          "2023-08-26T00:00:00",
          "2023-08-27T00:00:00",
          "2023-08-28T00:00:00",
          "2023-08-29T00:00:00",
          "2023-08-30T00:00:00",
          "2023-08-31T00:00:00",
          "2023-09-01T00:00:00",
          "2023-09-02T00:00:00",
          "2023-09-03T00:00:00",
          "2023-09-04T00:00:00",
          "2023-09-05T00:00:00",
          "2023-09-06T00:00:00",
          "2023-09-07T00:00:00",
          "2023-09-08T00:00:00",
          "2023-09-09T00:00:00",
          "2023-09-10T00:00:00",
          "2023-09-11T00:00:00",
          "2023-09-12T00:00:00",
          "2023-09-13T00:00:00",
          "2023-09-14T00:00:00",
          "2023-09-15T00:00:00",
          "2023-09-16T00:00:00",
          "2023-09-17T00:00:00",
          "2023-09-18T00:00:00",
          "2023-09-19T00:00:00",
          "2023-09-20T00:00:00",
          "2023-09-21T00:00:00",
          "2023-09-22T00:00:00",
          "2023-09-23T00:00:00",
          "2023-09-24T00:00:00",
          "2023-09-25T00:00:00",
          "2023-09-26T00:00:00",
          "2023-09-27T00:00:00",
          "2023-09-28T00:00:00",
          "2023-09-29T00:00:00",
          "2023-09-30T00:00:00",
          "2023-10-01T00:00:00",
          "2023-10-02T00:00:00",
          "2023-10-03T00:00:00",
          "2023-10-04T00:00:00",
          "2023-10-05T00:00:00",
          "2023-10-06T00:00:00",
          "2023-10-07T00:00:00",
          "2023-10-08T00:00:00",
          "2023-10-09T00:00:00",
          "2023-10-10T00:00:00",
          "2023-10-11T00:00:00",
          "2023-10-12T00:00:00",
          "2023-10-13T00:00:00",
          "2023-10-14T00:00:00",
          "2023-10-15T00:00:00",
          "2023-10-16T00:00:00",
          "2023-10-17T00:00:00",
          "2023-10-18T00:00:00",
          "2023-10-19T00:00:00",
          "2023-10-20T00:00:00",
          "2023-10-21T00:00:00",
          "2023-10-22T00:00:00",
          "2023-10-23T00:00:00",
          "2023-10-24T00:00:00",
          "2023-10-25T00:00:00",
          "2023-10-26T00:00:00",
          "2023-10-27T00:00:00",
          "2023-10-28T00:00:00",
          "2023-10-29T00:00:00",
          "2023-10-30T00:00:00",
          "2023-10-31T00:00:00",
          "2023-11-01T00:00:00",
          "2023-11-02T00:00:00",
          "2023-11-03T00:00:00",
          "2023-11-04T00:00:00",
          "2023-11-05T00:00:00",
          "2023-11-06T00:00:00",
          "2023-11-07T00:00:00",
          "2023-11-08T00:00:00"
         ]
        }
       ],
       "layout": {
        "template": {
         "data": {
          "bar": [
           {
            "error_x": {
             "color": "#2a3f5f"
            },
            "error_y": {
             "color": "#2a3f5f"
            },
            "marker": {
             "line": {
              "color": "#E5ECF6",
              "width": 0.5
             },
             "pattern": {
              "fillmode": "overlay",
              "size": 10,
              "solidity": 0.2
             }
            },
            "type": "bar"
           }
          ],
          "barpolar": [
           {
            "marker": {
             "line": {
              "color": "#E5ECF6",
              "width": 0.5
             },
             "pattern": {
              "fillmode": "overlay",
              "size": 10,
              "solidity": 0.2
             }
            },
            "type": "barpolar"
           }
          ],
          "carpet": [
           {
            "aaxis": {
             "endlinecolor": "#2a3f5f",
             "gridcolor": "white",
             "linecolor": "white",
             "minorgridcolor": "white",
             "startlinecolor": "#2a3f5f"
            },
            "baxis": {
             "endlinecolor": "#2a3f5f",
             "gridcolor": "white",
             "linecolor": "white",
             "minorgridcolor": "white",
             "startlinecolor": "#2a3f5f"
            },
            "type": "carpet"
           }
          ],
          "choropleth": [
           {
            "colorbar": {
             "outlinewidth": 0,
             "ticks": ""
            },
            "type": "choropleth"
           }
          ],
          "contour": [
           {
            "colorbar": {
             "outlinewidth": 0,
             "ticks": ""
            },
            "colorscale": [
             [
              0,
              "#0d0887"
             ],
             [
              0.1111111111111111,
              "#46039f"
             ],
             [
              0.2222222222222222,
              "#7201a8"
             ],
             [
              0.3333333333333333,
              "#9c179e"
             ],
             [
              0.4444444444444444,
              "#bd3786"
             ],
             [
              0.5555555555555556,
              "#d8576b"
             ],
             [
              0.6666666666666666,
              "#ed7953"
             ],
             [
              0.7777777777777778,
              "#fb9f3a"
             ],
             [
              0.8888888888888888,
              "#fdca26"
             ],
             [
              1,
              "#f0f921"
             ]
            ],
            "type": "contour"
           }
          ],
          "contourcarpet": [
           {
            "colorbar": {
             "outlinewidth": 0,
             "ticks": ""
            },
            "type": "contourcarpet"
           }
          ],
          "heatmap": [
           {
            "colorbar": {
             "outlinewidth": 0,
             "ticks": ""
            },
            "colorscale": [
             [
              0,
              "#0d0887"
             ],
             [
              0.1111111111111111,
              "#46039f"
             ],
             [
              0.2222222222222222,
              "#7201a8"
             ],
             [
              0.3333333333333333,
              "#9c179e"
             ],
             [
              0.4444444444444444,
              "#bd3786"
             ],
             [
              0.5555555555555556,
              "#d8576b"
             ],
             [
              0.6666666666666666,
              "#ed7953"
             ],
             [
              0.7777777777777778,
              "#fb9f3a"
             ],
             [
              0.8888888888888888,
              "#fdca26"
             ],
             [
              1,
              "#f0f921"
             ]
            ],
            "type": "heatmap"
           }
          ],
          "heatmapgl": [
           {
            "colorbar": {
             "outlinewidth": 0,
             "ticks": ""
            },
            "colorscale": [
             [
              0,
              "#0d0887"
             ],
             [
              0.1111111111111111,
              "#46039f"
             ],
             [
              0.2222222222222222,
              "#7201a8"
             ],
             [
              0.3333333333333333,
              "#9c179e"
             ],
             [
              0.4444444444444444,
              "#bd3786"
             ],
             [
              0.5555555555555556,
              "#d8576b"
             ],
             [
              0.6666666666666666,
              "#ed7953"
             ],
             [
              0.7777777777777778,
              "#fb9f3a"
             ],
             [
              0.8888888888888888,
              "#fdca26"
             ],
             [
              1,
              "#f0f921"
             ]
            ],
            "type": "heatmapgl"
           }
          ],
          "histogram": [
           {
            "marker": {
             "pattern": {
              "fillmode": "overlay",
              "size": 10,
              "solidity": 0.2
             }
            },
            "type": "histogram"
           }
          ],
          "histogram2d": [
           {
            "colorbar": {
             "outlinewidth": 0,
             "ticks": ""
            },
            "colorscale": [
             [
              0,
              "#0d0887"
             ],
             [
              0.1111111111111111,
              "#46039f"
             ],
             [
              0.2222222222222222,
              "#7201a8"
             ],
             [
              0.3333333333333333,
              "#9c179e"
             ],
             [
              0.4444444444444444,
              "#bd3786"
             ],
             [
              0.5555555555555556,
              "#d8576b"
             ],
             [
              0.6666666666666666,
              "#ed7953"
             ],
             [
              0.7777777777777778,
              "#fb9f3a"
             ],
             [
              0.8888888888888888,
              "#fdca26"
             ],
             [
              1,
              "#f0f921"
             ]
            ],
            "type": "histogram2d"
           }
          ],
          "histogram2dcontour": [
           {
            "colorbar": {
             "outlinewidth": 0,
             "ticks": ""
            },
            "colorscale": [
             [
              0,
              "#0d0887"
             ],
             [
              0.1111111111111111,
              "#46039f"
             ],
             [
              0.2222222222222222,
              "#7201a8"
             ],
             [
              0.3333333333333333,
              "#9c179e"
             ],
             [
              0.4444444444444444,
              "#bd3786"
             ],
             [
              0.5555555555555556,
              "#d8576b"
             ],
             [
              0.6666666666666666,
              "#ed7953"
             ],
             [
              0.7777777777777778,
              "#fb9f3a"
             ],
             [
              0.8888888888888888,
              "#fdca26"
             ],
             [
              1,
              "#f0f921"
             ]
            ],
            "type": "histogram2dcontour"
           }
          ],
          "mesh3d": [
           {
            "colorbar": {
             "outlinewidth": 0,
             "ticks": ""
            },
            "type": "mesh3d"
           }
          ],
          "parcoords": [
           {
            "line": {
             "colorbar": {
              "outlinewidth": 0,
              "ticks": ""
             }
            },
            "type": "parcoords"
           }
          ],
          "pie": [
           {
            "automargin": true,
            "type": "pie"
           }
          ],
          "scatter": [
           {
            "fillpattern": {
             "fillmode": "overlay",
             "size": 10,
             "solidity": 0.2
            },
            "type": "scatter"
           }
          ],
          "scatter3d": [
           {
            "line": {
             "colorbar": {
              "outlinewidth": 0,
              "ticks": ""
             }
            },
            "marker": {
             "colorbar": {
              "outlinewidth": 0,
              "ticks": ""
             }
            },
            "type": "scatter3d"
           }
          ],
          "scattercarpet": [
           {
            "marker": {
             "colorbar": {
              "outlinewidth": 0,
              "ticks": ""
             }
            },
            "type": "scattercarpet"
           }
          ],
          "scattergeo": [
           {
            "marker": {
             "colorbar": {
              "outlinewidth": 0,
              "ticks": ""
             }
            },
            "type": "scattergeo"
           }
          ],
          "scattergl": [
           {
            "marker": {
             "colorbar": {
              "outlinewidth": 0,
              "ticks": ""
             }
            },
            "type": "scattergl"
           }
          ],
          "scattermapbox": [
           {
            "marker": {
             "colorbar": {
              "outlinewidth": 0,
              "ticks": ""
             }
            },
            "type": "scattermapbox"
           }
          ],
          "scatterpolar": [
           {
            "marker": {
             "colorbar": {
              "outlinewidth": 0,
              "ticks": ""
             }
            },
            "type": "scatterpolar"
           }
          ],
          "scatterpolargl": [
           {
            "marker": {
             "colorbar": {
              "outlinewidth": 0,
              "ticks": ""
             }
            },
            "type": "scatterpolargl"
           }
          ],
          "scatterternary": [
           {
            "marker": {
             "colorbar": {
              "outlinewidth": 0,
              "ticks": ""
             }
            },
            "type": "scatterternary"
           }
          ],
          "surface": [
           {
            "colorbar": {
             "outlinewidth": 0,
             "ticks": ""
            },
            "colorscale": [
             [
              0,
              "#0d0887"
             ],
             [
              0.1111111111111111,
              "#46039f"
             ],
             [
              0.2222222222222222,
              "#7201a8"
             ],
             [
              0.3333333333333333,
              "#9c179e"
             ],
             [
              0.4444444444444444,
              "#bd3786"
             ],
             [
              0.5555555555555556,
              "#d8576b"
             ],
             [
              0.6666666666666666,
              "#ed7953"
             ],
             [
              0.7777777777777778,
              "#fb9f3a"
             ],
             [
              0.8888888888888888,
              "#fdca26"
             ],
             [
              1,
              "#f0f921"
             ]
            ],
            "type": "surface"
           }
          ],
          "table": [
           {
            "cells": {
             "fill": {
              "color": "#EBF0F8"
             },
             "line": {
              "color": "white"
             }
            },
            "header": {
             "fill": {
              "color": "#C8D4E3"
             },
             "line": {
              "color": "white"
             }
            },
            "type": "table"
           }
          ]
         },
         "layout": {
          "annotationdefaults": {
           "arrowcolor": "#2a3f5f",
           "arrowhead": 0,
           "arrowwidth": 1
          },
          "autotypenumbers": "strict",
          "coloraxis": {
           "colorbar": {
            "outlinewidth": 0,
            "ticks": ""
           }
          },
          "colorscale": {
           "diverging": [
            [
             0,
             "#8e0152"
            ],
            [
             0.1,
             "#c51b7d"
            ],
            [
             0.2,
             "#de77ae"
            ],
            [
             0.3,
             "#f1b6da"
            ],
            [
             0.4,
             "#fde0ef"
            ],
            [
             0.5,
             "#f7f7f7"
            ],
            [
             0.6,
             "#e6f5d0"
            ],
            [
             0.7,
             "#b8e186"
            ],
            [
             0.8,
             "#7fbc41"
            ],
            [
             0.9,
             "#4d9221"
            ],
            [
             1,
             "#276419"
            ]
           ],
           "sequential": [
            [
             0,
             "#0d0887"
            ],
            [
             0.1111111111111111,
             "#46039f"
            ],
            [
             0.2222222222222222,
             "#7201a8"
            ],
            [
             0.3333333333333333,
             "#9c179e"
            ],
            [
             0.4444444444444444,
             "#bd3786"
            ],
            [
             0.5555555555555556,
             "#d8576b"
            ],
            [
             0.6666666666666666,
             "#ed7953"
            ],
            [
             0.7777777777777778,
             "#fb9f3a"
            ],
            [
             0.8888888888888888,
             "#fdca26"
            ],
            [
             1,
             "#f0f921"
            ]
           ],
           "sequentialminus": [
            [
             0,
             "#0d0887"
            ],
            [
             0.1111111111111111,
             "#46039f"
            ],
            [
             0.2222222222222222,
             "#7201a8"
            ],
            [
             0.3333333333333333,
             "#9c179e"
            ],
            [
             0.4444444444444444,
             "#bd3786"
            ],
            [
             0.5555555555555556,
             "#d8576b"
            ],
            [
             0.6666666666666666,
             "#ed7953"
            ],
            [
             0.7777777777777778,
             "#fb9f3a"
            ],
            [
             0.8888888888888888,
             "#fdca26"
            ],
            [
             1,
             "#f0f921"
            ]
           ]
          },
          "colorway": [
           "#636efa",
           "#EF553B",
           "#00cc96",
           "#ab63fa",
           "#FFA15A",
           "#19d3f3",
           "#FF6692",
           "#B6E880",
           "#FF97FF",
           "#FECB52"
          ],
          "font": {
           "color": "#2a3f5f"
          },
          "geo": {
           "bgcolor": "white",
           "lakecolor": "white",
           "landcolor": "#E5ECF6",
           "showlakes": true,
           "showland": true,
           "subunitcolor": "white"
          },
          "hoverlabel": {
           "align": "left"
          },
          "hovermode": "closest",
          "mapbox": {
           "style": "light"
          },
          "paper_bgcolor": "white",
          "plot_bgcolor": "#E5ECF6",
          "polar": {
           "angularaxis": {
            "gridcolor": "white",
            "linecolor": "white",
            "ticks": ""
           },
           "bgcolor": "#E5ECF6",
           "radialaxis": {
            "gridcolor": "white",
            "linecolor": "white",
            "ticks": ""
           }
          },
          "scene": {
           "xaxis": {
            "backgroundcolor": "#E5ECF6",
            "gridcolor": "white",
            "gridwidth": 2,
            "linecolor": "white",
            "showbackground": true,
            "ticks": "",
            "zerolinecolor": "white"
           },
           "yaxis": {
            "backgroundcolor": "#E5ECF6",
            "gridcolor": "white",
            "gridwidth": 2,
            "linecolor": "white",
            "showbackground": true,
            "ticks": "",
            "zerolinecolor": "white"
           },
           "zaxis": {
            "backgroundcolor": "#E5ECF6",
            "gridcolor": "white",
            "gridwidth": 2,
            "linecolor": "white",
            "showbackground": true,
            "ticks": "",
            "zerolinecolor": "white"
           }
          },
          "shapedefaults": {
           "line": {
            "color": "#2a3f5f"
           }
          },
          "ternary": {
           "aaxis": {
            "gridcolor": "white",
            "linecolor": "white",
            "ticks": ""
           },
           "baxis": {
            "gridcolor": "white",
            "linecolor": "white",
            "ticks": ""
           },
           "bgcolor": "#E5ECF6",
           "caxis": {
            "gridcolor": "white",
            "linecolor": "white",
            "ticks": ""
           }
          },
          "title": {
           "x": 0.05
          },
          "xaxis": {
           "automargin": true,
           "gridcolor": "white",
           "linecolor": "white",
           "ticks": "",
           "title": {
            "standoff": 15
           },
           "zerolinecolor": "white",
           "zerolinewidth": 2
          },
          "yaxis": {
           "automargin": true,
           "gridcolor": "white",
           "linecolor": "white",
           "ticks": "",
           "title": {
            "standoff": 15
           },
           "zerolinecolor": "white",
           "zerolinewidth": 2
          }
         }
        },
        "title": {
         "text": "Gráfico Candlestick de preços do bitcoin"
        },
        "xaxis": {
         "title": {
          "text": "Período"
         }
        },
        "yaxis": {
         "title": {
          "text": "Preço de fechamento"
         }
        }
       }
      }
     },
     "metadata": {},
     "output_type": "display_data"
    }
   ],
   "source": [
    "# criando o gráfico clandestick\n",
    "candlestick = go.Figure(\n",
    "    data = go.Candlestick(\n",
    "        x = dados.index,\n",
    "        open = dados['Open'],\n",
    "        high = dados['High'],\n",
    "        low = dados['Low'],\n",
    "        close = dados['Close'],\n",
    "    )\n",
    ")\n",
    "\n",
    "# editando os eixos do gráfico\n",
    "candlestick.update_layout(\n",
    "    title = 'Gráfico Candlestick de preços do bitcoin',\n",
    "    xaxis_title = 'Período',\n",
    "    yaxis_title = 'Preço de fechamento'\n",
    ")\n",
    "\n",
    "# exibindo o gráfico\n",
    "candlestick.show()"
   ]
  },
  {
   "cell_type": "markdown",
   "metadata": {},
   "source": [
    "## Relatório final"
   ]
  },
  {
   "cell_type": "markdown",
   "metadata": {},
   "source": [
    "Neste relatório final, foi criado um dashboard utilizando os gráficos em plotly, tanto candlestick mostrando a oscilação da cotação do bitcoin ao longo dos 6 meses, quanto o gráfico de fechamento com as médias móveis.\n",
    "\n",
    "Para tal, utilizou-se da função make_subplots( ) da biblioteca Plotly, onde por meio desta é possível fazer mais de um gráfico no mesmo objeto, definindo-se o número de linhas e colunas necessárias, os títulos e etc.\n",
    "\n"
   ]
  },
  {
   "cell_type": "markdown",
   "metadata": {},
   "source": [
    "### Construção do relatório"
   ]
  },
  {
   "cell_type": "code",
   "execution_count": 16,
   "metadata": {},
   "outputs": [
    {
     "data": {
      "application/vnd.plotly.v1+json": {
       "config": {
        "plotlyServerURL": "https://plot.ly"
       },
       "data": [
        {
         "close": [
          27694.2734375,
          27658.775390625,
          27621.755859375,
          27000.7890625,
          26804.990234375,
          26784.078125,
          26930.638671875,
          27192.693359375,
          27036.650390625,
          27398.802734375,
          26832.208984375,
          26890.12890625,
          27129.5859375,
          26753.826171875,
          26851.27734375,
          27225.7265625,
          26334.818359375,
          26476.20703125,
          26719.291015625,
          26868.353515625,
          28085.646484375,
          27745.884765625,
          27702.349609375,
          27219.658203125,
          26819.97265625,
          27249.58984375,
          27075.12890625,
          27119.06640625,
          25760.09765625,
          27238.783203125,
          26345.998046875,
          26508.216796875,
          26480.375,
          25851.240234375,
          25940.16796875,
          25902.5,
          25918.728515625,
          25124.67578125,
          25576.39453125,
          26327.462890625,
          26510.67578125,
          26336.212890625,
          26851.029296875,
          28327.48828125,
          30027.296875,
          29912.28125,
          30695.46875,
          30548.6953125,
          30480.26171875,
          30271.130859375,
          30688.1640625,
          30086.24609375,
          30445.3515625,
          30477.251953125,
          30590.078125,
          30620.76953125,
          31156.439453125,
          30777.58203125,
          30514.166015625,
          29909.337890625,
          30342.265625,
          30292.541015625,
          30171.234375,
          30414.470703125,
          30620.951171875,
          30391.646484375,
          31476.048828125,
          30334.068359375,
          30295.806640625,
          30249.1328125,
          30145.888671875,
          29856.5625,
          29913.923828125,
          29792.015625,
          29908.744140625,
          29771.802734375,
          30084.5390625,
          29176.916015625,
          29227.390625,
          29354.97265625,
          29210.689453125,
          29319.24609375,
          29356.91796875,
          29275.30859375,
          29230.111328125,
          29675.732421875,
          29151.958984375,
          29178.6796875,
          29074.091796875,
          29042.126953125,
          29041.85546875,
          29180.578125,
          29765.4921875,
          29561.494140625,
          29429.591796875,
          29397.71484375,
          29415.96484375,
          29282.9140625,
          29408.443359375,
          29170.34765625,
          28701.779296875,
          26664.55078125,
          26049.556640625,
          26096.205078125,
          26189.583984375,
          26124.140625,
          26031.65625,
          26431.640625,
          26162.373046875,
          26047.66796875,
          26008.462890625,
          26089.693359375,
          26106.150390625,
          27727.392578125,
          27297.265625,
          25931.47265625,
          25800.724609375,
          25868.798828125,
          25969.56640625,
          25812.416015625,
          25779.982421875,
          25753.236328125,
          26240.1953125,
          25905.654296875,
          25895.677734375,
          25832.2265625,
          25162.654296875,
          25833.34375,
          26228.32421875,
          26539.673828125,
          26608.693359375,
          26568.28125,
          26534.1875,
          26754.28125,
          27211.1171875,
          27132.0078125,
          26567.6328125,
          26579.568359375,
          26579.390625,
          26256.826171875,
          26298.48046875,
          26217.25,
          26352.716796875,
          27021.546875,
          26911.720703125,
          26967.916015625,
          27983.75,
          27530.78515625,
          27429.978515625,
          27799.39453125,
          27415.912109375,
          27946.59765625,
          27968.83984375,
          27935.08984375,
          27583.677734375,
          27391.01953125,
          26873.3203125,
          26756.798828125,
          26862.375,
          26861.70703125,
          27159.65234375,
          28519.466796875,
          28415.748046875,
          28328.341796875,
          28719.806640625,
          29682.94921875,
          29918.412109375,
          29993.896484375,
          33086.234375,
          33901.52734375,
          34502.8203125,
          34156.6484375,
          33909.80078125,
          34089.57421875,
          34538.48046875,
          34502.36328125,
          34667.78125,
          35437.25390625,
          34938.2421875,
          34732.32421875,
          35082.1953125,
          35049.35546875,
          35037.37109375,
          35443.5625,
          35652.76171875
         ],
         "high": [
          28663.271484375,
          27821.400390625,
          28322.6875,
          27621.94140625,
          27055.646484375,
          27030.482421875,
          27150.9765625,
          27646.34765625,
          27299.3046875,
          27465.927734375,
          27466.52734375,
          27128.619140625,
          27155.158203125,
          27265.91796875,
          27045.734375,
          27434.68359375,
          27224.603515625,
          26591.51953125,
          26916.669921875,
          26888.8828125,
          28193.44921875,
          28432.0390625,
          28044.759765625,
          27831.677734375,
          27346.10546875,
          27303.861328125,
          27317.052734375,
          27407.01953125,
          27129.982421875,
          27313.8203125,
          27332.181640625,
          26797.513671875,
          26770.2890625,
          26531.044921875,
          26203.439453125,
          26087.919921875,
          26376.3515625,
          26041.80078125,
          25735.30859375,
          26463.173828125,
          26769.39453125,
          26675.92578125,
          26984.611328125,
          28388.96875,
          30737.330078125,
          30495.998046875,
          31389.5390625,
          30804.1484375,
          31041.271484375,
          30636.029296875,
          31006.787109375,
          30703.279296875,
          30796.25,
          31256.86328125,
          30641.2890625,
          30766.140625,
          31375.61328125,
          31325.197265625,
          30877.330078125,
          31460.052734375,
          30434.64453125,
          30374.4375,
          30427.58984375,
          31026.083984375,
          30788.314453125,
          30959.96484375,
          31814.515625,
          31582.25390625,
          30407.78125,
          30437.560546875,
          30336.400390625,
          30233.65625,
          30184.181640625,
          30195.53125,
          30045.998046875,
          29991.615234375,
          30330.640625,
          30093.39453125,
          29353.16015625,
          29675.552734375,
          29560.966796875,
          29521.513671875,
          29396.84375,
          29443.169921875,
          29489.873046875,
          29675.732421875,
          29987.998046875,
          29375.70703125,
          29302.078125,
          29102.46484375,
          29160.822265625,
          29244.28125,
          30176.796875,
          30093.435546875,
          29688.564453125,
          29517.7734375,
          29465.11328125,
          29441.43359375,
          29660.25390625,
          29439.12109375,
          29221.9765625,
          28745.947265625,
          26808.1953125,
          26249.44921875,
          26260.681640625,
          26220.201171875,
          26135.5078125,
          26786.8984375,
          26554.91015625,
          26248.103515625,
          26107.384765625,
          26165.373046875,
          26198.578125,
          28089.337890625,
          27760.16015625,
          27456.078125,
          26125.869140625,
          25970.28515625,
          26087.1484375,
          26081.525390625,
          25858.375,
          25953.015625,
          26409.302734375,
          26414.005859375,
          25921.9765625,
          25978.130859375,
          25883.947265625,
          26451.939453125,
          26376.11328125,
          26774.623046875,
          26840.498046875,
          26754.76953125,
          26617.998046875,
          27414.734375,
          27488.763671875,
          27379.505859375,
          27152.939453125,
          26726.078125,
          26634.185546875,
          26716.05859375,
          26421.5078125,
          26389.884765625,
          26817.841796875,
          27259.5,
          27225.9375,
          27091.794921875,
          28047.23828125,
          28494.458984375,
          27667.19140625,
          27826.658203125,
          28091.861328125,
          28252.537109375,
          28028.091796875,
          28102.169921875,
          27989.470703125,
          27715.84765625,
          27474.115234375,
          26921.439453125,
          27092.697265625,
          26969,
          27289.169921875,
          29448.138671875,
          28618.751953125,
          28889.009765625,
          28892.474609375,
          30104.0859375,
          30287.482421875,
          30199.43359375,
          34370.4375,
          35150.43359375,
          35133.7578125,
          34832.91015625,
          34238.2109375,
          34399.390625,
          34743.26171875,
          34843.93359375,
          34719.25390625,
          35527.9296875,
          35919.84375,
          34942.47265625,
          35256.03125,
          35340.33984375,
          35286.02734375,
          35892.41796875,
          35696.46875
         ],
         "low": [
          27310.134765625,
          27375.6015625,
          26883.669921875,
          26781.826171875,
          25878.4296875,
          26710.873046875,
          26661.35546875,
          26766.09765625,
          26878.947265625,
          26600.14453125,
          26415.1015625,
          26700.2109375,
          26843.27734375,
          26706.921875,
          26549.734375,
          26816.1796875,
          26106.576171875,
          25890.59375,
          26343.94921875,
          26621.140625,
          26802.751953125,
          27563.876953125,
          27588.501953125,
          26866.453125,
          26671.720703125,
          26574.64453125,
          26958.00390625,
          26968.224609375,
          25445.16796875,
          25434.8671875,
          26146.98828125,
          26246.6640625,
          26339.314453125,
          25501.8359375,
          25668.986328125,
          25675.197265625,
          25728.365234375,
          24902.15234375,
          24797.16796875,
          25245.357421875,
          26174.4921875,
          26325.890625,
          26312.83203125,
          26668.791015625,
          28283.41015625,
          29679.158203125,
          29845.21484375,
          30290.146484375,
          30327.943359375,
          29955.744140625,
          30236.650390625,
          29921.822265625,
          30057.203125,
          29600.275390625,
          30328.865234375,
          30264.01953125,
          30586.513671875,
          30659.35546875,
          30225.61328125,
          29892.2265625,
          29777.28515625,
          30080.16015625,
          30085.591796875,
          29985.39453125,
          30358.09765625,
          30228.8359375,
          30268.3515625,
          29966.38671875,
          30263.462890625,
          30089.669921875,
          29685.783203125,
          29556.427734375,
          29794.26953125,
          29638.095703125,
          29733.8515625,
          29664.12109375,
          29741.52734375,
          28934.294921875,
          29062.43359375,
          29113.912109375,
          29099.3515625,
          29125.845703125,
          29264.166015625,
          29059.501953125,
          29131.578125,
          28657.0234375,
          28946.509765625,
          28959.48828125,
          28885.3359375,
          28957.796875,
          28963.833984375,
          28724.140625,
          29113.814453125,
          29376.80078125,
          29354.447265625,
          29253.517578125,
          29357.587890625,
          29265.806640625,
          29124.10546875,
          29088.853515625,
          28701.779296875,
          25409.111328125,
          25668.921875,
          25802.408203125,
          26004.314453125,
          25846.087890625,
          25520.728515625,
          25804.998046875,
          25914.92578125,
          25786.8125,
          25983.87890625,
          25965.09765625,
          25880.599609375,
          25912.62890625,
          27069.20703125,
          25752.9296875,
          25362.609375,
          25753.09375,
          25817.03125,
          25657.025390625,
          25589.98828125,
          25404.359375,
          25608.201171875,
          25677.48046875,
          25810.494140625,
          25640.26171875,
          24930.296875,
          25133.078125,
          25781.123046875,
          26171.451171875,
          26240.701171875,
          26473.890625,
          26445.07421875,
          26415.515625,
          26681.60546875,
          26864.08203125,
          26389.30078125,
          26495.533203125,
          26520.51953125,
          26221.05078125,
          26011.46875,
          26090.712890625,
          26111.46484375,
          26327.322265625,
          26721.763671875,
          26888.96875,
          26965.09375,
          27347.787109375,
          27216.001953125,
          27248.10546875,
          27375.6015625,
          27215.552734375,
          27870.423828125,
          27740.662109375,
          27302.5625,
          27301.654296875,
          26561.099609375,
          26558.3203125,
          26686.322265625,
          26814.5859375,
          26817.89453125,
          27130.47265625,
          28110.185546875,
          28174.251953125,
          28177.98828125,
          28601.669921875,
          29481.751953125,
          29720.3125,
          30097.828125,
          32880.76171875,
          33709.109375,
          33762.32421875,
          33416.88671875,
          33874.8046875,
          33947.56640625,
          34110.97265625,
          34083.30859375,
          34170.69140625,
          34401.57421875,
          34133.44140625,
          34616.69140625,
          34594.2421875,
          34765.36328125,
          34545.81640625,
          35159.8125
         ],
         "open": [
          28450.45703125,
          27695.068359375,
          27654.63671875,
          27621.0859375,
          26987.662109375,
          26807.76953125,
          26788.974609375,
          26931.384765625,
          27171.513671875,
          27035.470703125,
          27401.650390625,
          26826.75390625,
          26888.841796875,
          27118.423828125,
          26749.892578125,
          26855.9609375,
          27224.603515625,
          26329.4609375,
          26474.181640625,
          26720.181640625,
          26871.158203125,
          28075.591796875,
          27745.123046875,
          27700.529296875,
          27218.412109375,
          26824.556640625,
          27252.32421875,
          27075.123046875,
          27123.109375,
          25732.109375,
          27235.650390625,
          26347.654296875,
          26505.923828125,
          26481.76171875,
          25854.03125,
          25934.28515625,
          25902.94140625,
          25920.2578125,
          25121.673828125,
          25575.283203125,
          26328.6796875,
          26510.45703125,
          26335.44140625,
          26841.6640625,
          28311.310546875,
          29995.935546875,
          29896.3828125,
          30708.73828125,
          30545.150390625,
          30480.5234375,
          30274.3203125,
          30696.560546875,
          30086.1875,
          30441.353515625,
          30471.84765625,
          30587.26953125,
          30624.515625,
          31156.865234375,
          30778.724609375,
          30507.150390625,
          29907.998046875,
          30346.921875,
          30291.611328125,
          30172.423828125,
          30417.6328125,
          30622.24609375,
          30387.48828125,
          31474.720703125,
          30331.783203125,
          30297.47265625,
          30249.626953125,
          30147.0703125,
          29862.046875,
          29915.25,
          29805.111328125,
          29908.697265625,
          29790.111328125,
          30081.662109375,
          29178.970703125,
          29225.759765625,
          29353.798828125,
          29212.1640625,
          29319.4453125,
          29357.09375,
          29278.314453125,
          29230.873046875,
          29704.146484375,
          29161.8125,
          29174.3828125,
          29075.388671875,
          29043.701171875,
          29038.513671875,
          29180.01953125,
          29766.6953125,
          29563.97265625,
          29424.90234375,
          29399.787109375,
          29416.59375,
          29283.263671875,
          29408.048828125,
          29169.07421875,
          28699.802734375,
          26636.078125,
          26047.83203125,
          26096.861328125,
          26188.69140625,
          26130.748046875,
          26040.474609375,
          26431.51953125,
          26163.6796875,
          26047.234375,
          26008.2421875,
          26089.615234375,
          26102.486328125,
          27726.083984375,
          27301.9296875,
          25934.021484375,
          25800.91015625,
          25869.47265625,
          25968.169921875,
          25814.95703125,
          25783.931640625,
          25748.3125,
          26245.208984375,
          25905.42578125,
          25895.2109375,
          25831.71484375,
          25160.658203125,
          25837.5546875,
          26228.27734375,
          26533.818359375,
          26606.19921875,
          26567.927734375,
          26532.994140625,
          26760.8515625,
          27210.228515625,
          27129.83984375,
          26564.056640625,
          26578.556640625,
          26579.373046875,
          26253.775390625,
          26294.7578125,
          26209.498046875,
          26355.8125,
          27024.841796875,
          26911.689453125,
          26967.396484375,
          27976.798828125,
          27508.251953125,
          27429.07421875,
          27798.646484375,
          27412.123046875,
          27946.78125,
          27971.677734375,
          27934.47265625,
          27589.201171875,
          27392.076171875,
          26873.29296875,
          26752.87890625,
          26866.203125,
          26858.01171875,
          27162.62890625,
          28522.09765625,
          28413.53125,
          28332.416015625,
          28732.8125,
          29683.380859375,
          29918.654296875,
          30140.685546875,
          33077.3046875,
          33916.04296875,
          34504.2890625,
          34156.5,
          33907.72265625,
          34089.37109375,
          34531.7421875,
          34500.078125,
          34657.2734375,
          35441.578125,
          34942.47265625,
          34736.32421875,
          35090.01171875,
          35044.7890625,
          35047.79296875,
          35419.4765625
         ],
         "type": "candlestick",
         "x": [
          "2023-05-08T00:00:00",
          "2023-05-09T00:00:00",
          "2023-05-10T00:00:00",
          "2023-05-11T00:00:00",
          "2023-05-12T00:00:00",
          "2023-05-13T00:00:00",
          "2023-05-14T00:00:00",
          "2023-05-15T00:00:00",
          "2023-05-16T00:00:00",
          "2023-05-17T00:00:00",
          "2023-05-18T00:00:00",
          "2023-05-19T00:00:00",
          "2023-05-20T00:00:00",
          "2023-05-21T00:00:00",
          "2023-05-22T00:00:00",
          "2023-05-23T00:00:00",
          "2023-05-24T00:00:00",
          "2023-05-25T00:00:00",
          "2023-05-26T00:00:00",
          "2023-05-27T00:00:00",
          "2023-05-28T00:00:00",
          "2023-05-29T00:00:00",
          "2023-05-30T00:00:00",
          "2023-05-31T00:00:00",
          "2023-06-01T00:00:00",
          "2023-06-02T00:00:00",
          "2023-06-03T00:00:00",
          "2023-06-04T00:00:00",
          "2023-06-05T00:00:00",
          "2023-06-06T00:00:00",
          "2023-06-07T00:00:00",
          "2023-06-08T00:00:00",
          "2023-06-09T00:00:00",
          "2023-06-10T00:00:00",
          "2023-06-11T00:00:00",
          "2023-06-12T00:00:00",
          "2023-06-13T00:00:00",
          "2023-06-14T00:00:00",
          "2023-06-15T00:00:00",
          "2023-06-16T00:00:00",
          "2023-06-17T00:00:00",
          "2023-06-18T00:00:00",
          "2023-06-19T00:00:00",
          "2023-06-20T00:00:00",
          "2023-06-21T00:00:00",
          "2023-06-22T00:00:00",
          "2023-06-23T00:00:00",
          "2023-06-24T00:00:00",
          "2023-06-25T00:00:00",
          "2023-06-26T00:00:00",
          "2023-06-27T00:00:00",
          "2023-06-28T00:00:00",
          "2023-06-29T00:00:00",
          "2023-06-30T00:00:00",
          "2023-07-01T00:00:00",
          "2023-07-02T00:00:00",
          "2023-07-03T00:00:00",
          "2023-07-04T00:00:00",
          "2023-07-05T00:00:00",
          "2023-07-06T00:00:00",
          "2023-07-07T00:00:00",
          "2023-07-08T00:00:00",
          "2023-07-09T00:00:00",
          "2023-07-10T00:00:00",
          "2023-07-11T00:00:00",
          "2023-07-12T00:00:00",
          "2023-07-13T00:00:00",
          "2023-07-14T00:00:00",
          "2023-07-15T00:00:00",
          "2023-07-16T00:00:00",
          "2023-07-17T00:00:00",
          "2023-07-18T00:00:00",
          "2023-07-19T00:00:00",
          "2023-07-20T00:00:00",
          "2023-07-21T00:00:00",
          "2023-07-22T00:00:00",
          "2023-07-23T00:00:00",
          "2023-07-24T00:00:00",
          "2023-07-25T00:00:00",
          "2023-07-26T00:00:00",
          "2023-07-27T00:00:00",
          "2023-07-28T00:00:00",
          "2023-07-29T00:00:00",
          "2023-07-30T00:00:00",
          "2023-07-31T00:00:00",
          "2023-08-01T00:00:00",
          "2023-08-02T00:00:00",
          "2023-08-03T00:00:00",
          "2023-08-04T00:00:00",
          "2023-08-05T00:00:00",
          "2023-08-06T00:00:00",
          "2023-08-07T00:00:00",
          "2023-08-08T00:00:00",
          "2023-08-09T00:00:00",
          "2023-08-10T00:00:00",
          "2023-08-11T00:00:00",
          "2023-08-12T00:00:00",
          "2023-08-13T00:00:00",
          "2023-08-14T00:00:00",
          "2023-08-15T00:00:00",
          "2023-08-16T00:00:00",
          "2023-08-17T00:00:00",
          "2023-08-18T00:00:00",
          "2023-08-19T00:00:00",
          "2023-08-20T00:00:00",
          "2023-08-21T00:00:00",
          "2023-08-22T00:00:00",
          "2023-08-23T00:00:00",
          "2023-08-24T00:00:00",
          "2023-08-25T00:00:00",
          "2023-08-26T00:00:00",
          "2023-08-27T00:00:00",
          "2023-08-28T00:00:00",
          "2023-08-29T00:00:00",
          "2023-08-30T00:00:00",
          "2023-08-31T00:00:00",
          "2023-09-01T00:00:00",
          "2023-09-02T00:00:00",
          "2023-09-03T00:00:00",
          "2023-09-04T00:00:00",
          "2023-09-05T00:00:00",
          "2023-09-06T00:00:00",
          "2023-09-07T00:00:00",
          "2023-09-08T00:00:00",
          "2023-09-09T00:00:00",
          "2023-09-10T00:00:00",
          "2023-09-11T00:00:00",
          "2023-09-12T00:00:00",
          "2023-09-13T00:00:00",
          "2023-09-14T00:00:00",
          "2023-09-15T00:00:00",
          "2023-09-16T00:00:00",
          "2023-09-17T00:00:00",
          "2023-09-18T00:00:00",
          "2023-09-19T00:00:00",
          "2023-09-20T00:00:00",
          "2023-09-21T00:00:00",
          "2023-09-22T00:00:00",
          "2023-09-23T00:00:00",
          "2023-09-24T00:00:00",
          "2023-09-25T00:00:00",
          "2023-09-26T00:00:00",
          "2023-09-27T00:00:00",
          "2023-09-28T00:00:00",
          "2023-09-29T00:00:00",
          "2023-09-30T00:00:00",
          "2023-10-01T00:00:00",
          "2023-10-02T00:00:00",
          "2023-10-03T00:00:00",
          "2023-10-04T00:00:00",
          "2023-10-05T00:00:00",
          "2023-10-06T00:00:00",
          "2023-10-07T00:00:00",
          "2023-10-08T00:00:00",
          "2023-10-09T00:00:00",
          "2023-10-10T00:00:00",
          "2023-10-11T00:00:00",
          "2023-10-12T00:00:00",
          "2023-10-13T00:00:00",
          "2023-10-14T00:00:00",
          "2023-10-15T00:00:00",
          "2023-10-16T00:00:00",
          "2023-10-17T00:00:00",
          "2023-10-18T00:00:00",
          "2023-10-19T00:00:00",
          "2023-10-20T00:00:00",
          "2023-10-21T00:00:00",
          "2023-10-22T00:00:00",
          "2023-10-23T00:00:00",
          "2023-10-24T00:00:00",
          "2023-10-25T00:00:00",
          "2023-10-26T00:00:00",
          "2023-10-27T00:00:00",
          "2023-10-28T00:00:00",
          "2023-10-29T00:00:00",
          "2023-10-30T00:00:00",
          "2023-10-31T00:00:00",
          "2023-11-01T00:00:00",
          "2023-11-02T00:00:00",
          "2023-11-03T00:00:00",
          "2023-11-04T00:00:00",
          "2023-11-05T00:00:00",
          "2023-11-06T00:00:00",
          "2023-11-07T00:00:00",
          "2023-11-08T00:00:00"
         ],
         "xaxis": "x",
         "yaxis": "y"
        },
        {
         "line": {
          "color": "green"
         },
         "name": "Fechamento",
         "type": "scatter",
         "x": [
          "2023-05-08T00:00:00",
          "2023-05-09T00:00:00",
          "2023-05-10T00:00:00",
          "2023-05-11T00:00:00",
          "2023-05-12T00:00:00",
          "2023-05-13T00:00:00",
          "2023-05-14T00:00:00",
          "2023-05-15T00:00:00",
          "2023-05-16T00:00:00",
          "2023-05-17T00:00:00",
          "2023-05-18T00:00:00",
          "2023-05-19T00:00:00",
          "2023-05-20T00:00:00",
          "2023-05-21T00:00:00",
          "2023-05-22T00:00:00",
          "2023-05-23T00:00:00",
          "2023-05-24T00:00:00",
          "2023-05-25T00:00:00",
          "2023-05-26T00:00:00",
          "2023-05-27T00:00:00",
          "2023-05-28T00:00:00",
          "2023-05-29T00:00:00",
          "2023-05-30T00:00:00",
          "2023-05-31T00:00:00",
          "2023-06-01T00:00:00",
          "2023-06-02T00:00:00",
          "2023-06-03T00:00:00",
          "2023-06-04T00:00:00",
          "2023-06-05T00:00:00",
          "2023-06-06T00:00:00",
          "2023-06-07T00:00:00",
          "2023-06-08T00:00:00",
          "2023-06-09T00:00:00",
          "2023-06-10T00:00:00",
          "2023-06-11T00:00:00",
          "2023-06-12T00:00:00",
          "2023-06-13T00:00:00",
          "2023-06-14T00:00:00",
          "2023-06-15T00:00:00",
          "2023-06-16T00:00:00",
          "2023-06-17T00:00:00",
          "2023-06-18T00:00:00",
          "2023-06-19T00:00:00",
          "2023-06-20T00:00:00",
          "2023-06-21T00:00:00",
          "2023-06-22T00:00:00",
          "2023-06-23T00:00:00",
          "2023-06-24T00:00:00",
          "2023-06-25T00:00:00",
          "2023-06-26T00:00:00",
          "2023-06-27T00:00:00",
          "2023-06-28T00:00:00",
          "2023-06-29T00:00:00",
          "2023-06-30T00:00:00",
          "2023-07-01T00:00:00",
          "2023-07-02T00:00:00",
          "2023-07-03T00:00:00",
          "2023-07-04T00:00:00",
          "2023-07-05T00:00:00",
          "2023-07-06T00:00:00",
          "2023-07-07T00:00:00",
          "2023-07-08T00:00:00",
          "2023-07-09T00:00:00",
          "2023-07-10T00:00:00",
          "2023-07-11T00:00:00",
          "2023-07-12T00:00:00",
          "2023-07-13T00:00:00",
          "2023-07-14T00:00:00",
          "2023-07-15T00:00:00",
          "2023-07-16T00:00:00",
          "2023-07-17T00:00:00",
          "2023-07-18T00:00:00",
          "2023-07-19T00:00:00",
          "2023-07-20T00:00:00",
          "2023-07-21T00:00:00",
          "2023-07-22T00:00:00",
          "2023-07-23T00:00:00",
          "2023-07-24T00:00:00",
          "2023-07-25T00:00:00",
          "2023-07-26T00:00:00",
          "2023-07-27T00:00:00",
          "2023-07-28T00:00:00",
          "2023-07-29T00:00:00",
          "2023-07-30T00:00:00",
          "2023-07-31T00:00:00",
          "2023-08-01T00:00:00",
          "2023-08-02T00:00:00",
          "2023-08-03T00:00:00",
          "2023-08-04T00:00:00",
          "2023-08-05T00:00:00",
          "2023-08-06T00:00:00",
          "2023-08-07T00:00:00",
          "2023-08-08T00:00:00",
          "2023-08-09T00:00:00",
          "2023-08-10T00:00:00",
          "2023-08-11T00:00:00",
          "2023-08-12T00:00:00",
          "2023-08-13T00:00:00",
          "2023-08-14T00:00:00",
          "2023-08-15T00:00:00",
          "2023-08-16T00:00:00",
          "2023-08-17T00:00:00",
          "2023-08-18T00:00:00",
          "2023-08-19T00:00:00",
          "2023-08-20T00:00:00",
          "2023-08-21T00:00:00",
          "2023-08-22T00:00:00",
          "2023-08-23T00:00:00",
          "2023-08-24T00:00:00",
          "2023-08-25T00:00:00",
          "2023-08-26T00:00:00",
          "2023-08-27T00:00:00",
          "2023-08-28T00:00:00",
          "2023-08-29T00:00:00",
          "2023-08-30T00:00:00",
          "2023-08-31T00:00:00",
          "2023-09-01T00:00:00",
          "2023-09-02T00:00:00",
          "2023-09-03T00:00:00",
          "2023-09-04T00:00:00",
          "2023-09-05T00:00:00",
          "2023-09-06T00:00:00",
          "2023-09-07T00:00:00",
          "2023-09-08T00:00:00",
          "2023-09-09T00:00:00",
          "2023-09-10T00:00:00",
          "2023-09-11T00:00:00",
          "2023-09-12T00:00:00",
          "2023-09-13T00:00:00",
          "2023-09-14T00:00:00",
          "2023-09-15T00:00:00",
          "2023-09-16T00:00:00",
          "2023-09-17T00:00:00",
          "2023-09-18T00:00:00",
          "2023-09-19T00:00:00",
          "2023-09-20T00:00:00",
          "2023-09-21T00:00:00",
          "2023-09-22T00:00:00",
          "2023-09-23T00:00:00",
          "2023-09-24T00:00:00",
          "2023-09-25T00:00:00",
          "2023-09-26T00:00:00",
          "2023-09-27T00:00:00",
          "2023-09-28T00:00:00",
          "2023-09-29T00:00:00",
          "2023-09-30T00:00:00",
          "2023-10-01T00:00:00",
          "2023-10-02T00:00:00",
          "2023-10-03T00:00:00",
          "2023-10-04T00:00:00",
          "2023-10-05T00:00:00",
          "2023-10-06T00:00:00",
          "2023-10-07T00:00:00",
          "2023-10-08T00:00:00",
          "2023-10-09T00:00:00",
          "2023-10-10T00:00:00",
          "2023-10-11T00:00:00",
          "2023-10-12T00:00:00",
          "2023-10-13T00:00:00",
          "2023-10-14T00:00:00",
          "2023-10-15T00:00:00",
          "2023-10-16T00:00:00",
          "2023-10-17T00:00:00",
          "2023-10-18T00:00:00",
          "2023-10-19T00:00:00",
          "2023-10-20T00:00:00",
          "2023-10-21T00:00:00",
          "2023-10-22T00:00:00",
          "2023-10-23T00:00:00",
          "2023-10-24T00:00:00",
          "2023-10-25T00:00:00",
          "2023-10-26T00:00:00",
          "2023-10-27T00:00:00",
          "2023-10-28T00:00:00",
          "2023-10-29T00:00:00",
          "2023-10-30T00:00:00",
          "2023-10-31T00:00:00",
          "2023-11-01T00:00:00",
          "2023-11-02T00:00:00",
          "2023-11-03T00:00:00",
          "2023-11-04T00:00:00",
          "2023-11-05T00:00:00",
          "2023-11-06T00:00:00",
          "2023-11-07T00:00:00",
          "2023-11-08T00:00:00"
         ],
         "xaxis": "x2",
         "y": [
          27694.2734375,
          27658.775390625,
          27621.755859375,
          27000.7890625,
          26804.990234375,
          26784.078125,
          26930.638671875,
          27192.693359375,
          27036.650390625,
          27398.802734375,
          26832.208984375,
          26890.12890625,
          27129.5859375,
          26753.826171875,
          26851.27734375,
          27225.7265625,
          26334.818359375,
          26476.20703125,
          26719.291015625,
          26868.353515625,
          28085.646484375,
          27745.884765625,
          27702.349609375,
          27219.658203125,
          26819.97265625,
          27249.58984375,
          27075.12890625,
          27119.06640625,
          25760.09765625,
          27238.783203125,
          26345.998046875,
          26508.216796875,
          26480.375,
          25851.240234375,
          25940.16796875,
          25902.5,
          25918.728515625,
          25124.67578125,
          25576.39453125,
          26327.462890625,
          26510.67578125,
          26336.212890625,
          26851.029296875,
          28327.48828125,
          30027.296875,
          29912.28125,
          30695.46875,
          30548.6953125,
          30480.26171875,
          30271.130859375,
          30688.1640625,
          30086.24609375,
          30445.3515625,
          30477.251953125,
          30590.078125,
          30620.76953125,
          31156.439453125,
          30777.58203125,
          30514.166015625,
          29909.337890625,
          30342.265625,
          30292.541015625,
          30171.234375,
          30414.470703125,
          30620.951171875,
          30391.646484375,
          31476.048828125,
          30334.068359375,
          30295.806640625,
          30249.1328125,
          30145.888671875,
          29856.5625,
          29913.923828125,
          29792.015625,
          29908.744140625,
          29771.802734375,
          30084.5390625,
          29176.916015625,
          29227.390625,
          29354.97265625,
          29210.689453125,
          29319.24609375,
          29356.91796875,
          29275.30859375,
          29230.111328125,
          29675.732421875,
          29151.958984375,
          29178.6796875,
          29074.091796875,
          29042.126953125,
          29041.85546875,
          29180.578125,
          29765.4921875,
          29561.494140625,
          29429.591796875,
          29397.71484375,
          29415.96484375,
          29282.9140625,
          29408.443359375,
          29170.34765625,
          28701.779296875,
          26664.55078125,
          26049.556640625,
          26096.205078125,
          26189.583984375,
          26124.140625,
          26031.65625,
          26431.640625,
          26162.373046875,
          26047.66796875,
          26008.462890625,
          26089.693359375,
          26106.150390625,
          27727.392578125,
          27297.265625,
          25931.47265625,
          25800.724609375,
          25868.798828125,
          25969.56640625,
          25812.416015625,
          25779.982421875,
          25753.236328125,
          26240.1953125,
          25905.654296875,
          25895.677734375,
          25832.2265625,
          25162.654296875,
          25833.34375,
          26228.32421875,
          26539.673828125,
          26608.693359375,
          26568.28125,
          26534.1875,
          26754.28125,
          27211.1171875,
          27132.0078125,
          26567.6328125,
          26579.568359375,
          26579.390625,
          26256.826171875,
          26298.48046875,
          26217.25,
          26352.716796875,
          27021.546875,
          26911.720703125,
          26967.916015625,
          27983.75,
          27530.78515625,
          27429.978515625,
          27799.39453125,
          27415.912109375,
          27946.59765625,
          27968.83984375,
          27935.08984375,
          27583.677734375,
          27391.01953125,
          26873.3203125,
          26756.798828125,
          26862.375,
          26861.70703125,
          27159.65234375,
          28519.466796875,
          28415.748046875,
          28328.341796875,
          28719.806640625,
          29682.94921875,
          29918.412109375,
          29993.896484375,
          33086.234375,
          33901.52734375,
          34502.8203125,
          34156.6484375,
          33909.80078125,
          34089.57421875,
          34538.48046875,
          34502.36328125,
          34667.78125,
          35437.25390625,
          34938.2421875,
          34732.32421875,
          35082.1953125,
          35049.35546875,
          35037.37109375,
          35443.5625,
          35652.76171875
         ],
         "yaxis": "y2"
        },
        {
         "line": {
          "color": "rgb(158, 58, 171)"
         },
         "mode": "lines",
         "name": "Média Móvel",
         "type": "scatter",
         "x": [
          "2023-05-08T00:00:00",
          "2023-05-09T00:00:00",
          "2023-05-10T00:00:00",
          "2023-05-11T00:00:00",
          "2023-05-12T00:00:00",
          "2023-05-13T00:00:00",
          "2023-05-14T00:00:00",
          "2023-05-15T00:00:00",
          "2023-05-16T00:00:00",
          "2023-05-17T00:00:00",
          "2023-05-18T00:00:00",
          "2023-05-19T00:00:00",
          "2023-05-20T00:00:00",
          "2023-05-21T00:00:00",
          "2023-05-22T00:00:00",
          "2023-05-23T00:00:00",
          "2023-05-24T00:00:00",
          "2023-05-25T00:00:00",
          "2023-05-26T00:00:00",
          "2023-05-27T00:00:00",
          "2023-05-28T00:00:00",
          "2023-05-29T00:00:00",
          "2023-05-30T00:00:00",
          "2023-05-31T00:00:00",
          "2023-06-01T00:00:00",
          "2023-06-02T00:00:00",
          "2023-06-03T00:00:00",
          "2023-06-04T00:00:00",
          "2023-06-05T00:00:00",
          "2023-06-06T00:00:00",
          "2023-06-07T00:00:00",
          "2023-06-08T00:00:00",
          "2023-06-09T00:00:00",
          "2023-06-10T00:00:00",
          "2023-06-11T00:00:00",
          "2023-06-12T00:00:00",
          "2023-06-13T00:00:00",
          "2023-06-14T00:00:00",
          "2023-06-15T00:00:00",
          "2023-06-16T00:00:00",
          "2023-06-17T00:00:00",
          "2023-06-18T00:00:00",
          "2023-06-19T00:00:00",
          "2023-06-20T00:00:00",
          "2023-06-21T00:00:00",
          "2023-06-22T00:00:00",
          "2023-06-23T00:00:00",
          "2023-06-24T00:00:00",
          "2023-06-25T00:00:00",
          "2023-06-26T00:00:00",
          "2023-06-27T00:00:00",
          "2023-06-28T00:00:00",
          "2023-06-29T00:00:00",
          "2023-06-30T00:00:00",
          "2023-07-01T00:00:00",
          "2023-07-02T00:00:00",
          "2023-07-03T00:00:00",
          "2023-07-04T00:00:00",
          "2023-07-05T00:00:00",
          "2023-07-06T00:00:00",
          "2023-07-07T00:00:00",
          "2023-07-08T00:00:00",
          "2023-07-09T00:00:00",
          "2023-07-10T00:00:00",
          "2023-07-11T00:00:00",
          "2023-07-12T00:00:00",
          "2023-07-13T00:00:00",
          "2023-07-14T00:00:00",
          "2023-07-15T00:00:00",
          "2023-07-16T00:00:00",
          "2023-07-17T00:00:00",
          "2023-07-18T00:00:00",
          "2023-07-19T00:00:00",
          "2023-07-20T00:00:00",
          "2023-07-21T00:00:00",
          "2023-07-22T00:00:00",
          "2023-07-23T00:00:00",
          "2023-07-24T00:00:00",
          "2023-07-25T00:00:00",
          "2023-07-26T00:00:00",
          "2023-07-27T00:00:00",
          "2023-07-28T00:00:00",
          "2023-07-29T00:00:00",
          "2023-07-30T00:00:00",
          "2023-07-31T00:00:00",
          "2023-08-01T00:00:00",
          "2023-08-02T00:00:00",
          "2023-08-03T00:00:00",
          "2023-08-04T00:00:00",
          "2023-08-05T00:00:00",
          "2023-08-06T00:00:00",
          "2023-08-07T00:00:00",
          "2023-08-08T00:00:00",
          "2023-08-09T00:00:00",
          "2023-08-10T00:00:00",
          "2023-08-11T00:00:00",
          "2023-08-12T00:00:00",
          "2023-08-13T00:00:00",
          "2023-08-14T00:00:00",
          "2023-08-15T00:00:00",
          "2023-08-16T00:00:00",
          "2023-08-17T00:00:00",
          "2023-08-18T00:00:00",
          "2023-08-19T00:00:00",
          "2023-08-20T00:00:00",
          "2023-08-21T00:00:00",
          "2023-08-22T00:00:00",
          "2023-08-23T00:00:00",
          "2023-08-24T00:00:00",
          "2023-08-25T00:00:00",
          "2023-08-26T00:00:00",
          "2023-08-27T00:00:00",
          "2023-08-28T00:00:00",
          "2023-08-29T00:00:00",
          "2023-08-30T00:00:00",
          "2023-08-31T00:00:00",
          "2023-09-01T00:00:00",
          "2023-09-02T00:00:00",
          "2023-09-03T00:00:00",
          "2023-09-04T00:00:00",
          "2023-09-05T00:00:00",
          "2023-09-06T00:00:00",
          "2023-09-07T00:00:00",
          "2023-09-08T00:00:00",
          "2023-09-09T00:00:00",
          "2023-09-10T00:00:00",
          "2023-09-11T00:00:00",
          "2023-09-12T00:00:00",
          "2023-09-13T00:00:00",
          "2023-09-14T00:00:00",
          "2023-09-15T00:00:00",
          "2023-09-16T00:00:00",
          "2023-09-17T00:00:00",
          "2023-09-18T00:00:00",
          "2023-09-19T00:00:00",
          "2023-09-20T00:00:00",
          "2023-09-21T00:00:00",
          "2023-09-22T00:00:00",
          "2023-09-23T00:00:00",
          "2023-09-24T00:00:00",
          "2023-09-25T00:00:00",
          "2023-09-26T00:00:00",
          "2023-09-27T00:00:00",
          "2023-09-28T00:00:00",
          "2023-09-29T00:00:00",
          "2023-09-30T00:00:00",
          "2023-10-01T00:00:00",
          "2023-10-02T00:00:00",
          "2023-10-03T00:00:00",
          "2023-10-04T00:00:00",
          "2023-10-05T00:00:00",
          "2023-10-06T00:00:00",
          "2023-10-07T00:00:00",
          "2023-10-08T00:00:00",
          "2023-10-09T00:00:00",
          "2023-10-10T00:00:00",
          "2023-10-11T00:00:00",
          "2023-10-12T00:00:00",
          "2023-10-13T00:00:00",
          "2023-10-14T00:00:00",
          "2023-10-15T00:00:00",
          "2023-10-16T00:00:00",
          "2023-10-17T00:00:00",
          "2023-10-18T00:00:00",
          "2023-10-19T00:00:00",
          "2023-10-20T00:00:00",
          "2023-10-21T00:00:00",
          "2023-10-22T00:00:00",
          "2023-10-23T00:00:00",
          "2023-10-24T00:00:00",
          "2023-10-25T00:00:00",
          "2023-10-26T00:00:00",
          "2023-10-27T00:00:00",
          "2023-10-28T00:00:00",
          "2023-10-29T00:00:00",
          "2023-10-30T00:00:00",
          "2023-10-31T00:00:00",
          "2023-11-01T00:00:00",
          "2023-11-02T00:00:00",
          "2023-11-03T00:00:00",
          "2023-11-04T00:00:00",
          "2023-11-05T00:00:00",
          "2023-11-06T00:00:00",
          "2023-11-07T00:00:00",
          "2023-11-08T00:00:00"
         ],
         "xaxis": "x2",
         "y": [
          null,
          null,
          null,
          null,
          27356.116796875,
          27174.077734375,
          27028.450390625,
          26942.637890625,
          26949.81015625,
          27068.57265625,
          27078.198828125,
          27070.096875,
          27057.475390625,
          27000.910546875,
          26891.40546875,
          26970.108984375,
          26859.046875,
          26728.37109375,
          26721.4640625,
          26724.879296875,
          26896.86328125,
          27179.0765625,
          27424.305078125,
          27524.378515625,
          27514.70234375,
          27347.491015625,
          27213.33984375,
          27096.683203125,
          26804.77109375,
          26888.533203125,
          26707.81484375,
          26594.432421875,
          26466.694140625,
          26484.92265625,
          26225.199609375,
          26136.5,
          26018.60234375,
          25747.4625,
          25692.493359375,
          25769.95234375,
          25891.5875,
          25975.084375,
          26320.355078125,
          26870.573828125,
          27610.540625,
          28290.86171875,
          29162.712890625,
          29902.24609375,
          30332.80078125,
          30381.567578125,
          30536.744140625,
          30414.899609375,
          30394.230859375,
          30393.62890625,
          30457.418359375,
          30443.939453125,
          30657.978125,
          30724.42421875,
          30731.80703125,
          30595.658984375,
          30539.958203125,
          30367.178515625,
          30245.908984375,
          30225.969921875,
          30368.292578125,
          30378.16875,
          30614.8703125,
          30647.437109375,
          30623.704296875,
          30549.340625,
          30500.1890625,
          30176.291796875,
          30092.262890625,
          29991.5046875,
          29923.426953125,
          29848.609765625,
          29894.205078125,
          29746.803515625,
          29633.878515625,
          29523.12421875,
          29410.9015625,
          29257.84296875,
          29293.843359375,
          29303.426953125,
          29278.4546875,
          29371.46328125,
          29338.005859375,
          29302.358203125,
          29262.11484375,
          29224.51796875,
          29097.742578125,
          29103.46640625,
          29220.82890625,
          29318.309375,
          29395.80234375,
          29466.97421875,
          29514.0515625,
          29417.5359375,
          29386.92578125,
          29335.076953125,
          29195.88984375,
          28645.60703125,
          27998.935546875,
          27336.487890625,
          26740.33515625,
          26224.807421875,
          26098.228515625,
          26174.6453125,
          26187.87890625,
          26159.495703125,
          26136.36015625,
          26147.967578125,
          26082.86953125,
          26395.8734375,
          26645.79296875,
          26630.394921875,
          26572.601171875,
          26525.130859375,
          26173.565625,
          25876.595703125,
          25846.29765625,
          25836.8,
          25911.079296875,
          25898.296875,
          25914.94921875,
          25925.398046875,
          25807.281640625,
          25725.911328125,
          25790.4453125,
          25919.24453125,
          26074.537890625,
          26355.66328125,
          26495.83203125,
          26601.0234375,
          26735.312109375,
          26839.975,
          26839.8453125,
          26848.921484375,
          26813.943359375,
          26623.08515625,
          26456.3796875,
          26386.303125,
          26340.9328125,
          26429.3640625,
          26560.34296875,
          26694.230078125,
          27047.530078125,
          27283.14375,
          27364.830078125,
          27542.36484375,
          27631.9640625,
          27624.53359375,
          27712.14453125,
          27813.166796875,
          27770.0234375,
          27765.044921875,
          27550.389453125,
          27307.98125,
          27093.43828125,
          26949.044140625,
          26902.770703125,
          27232,
          27563.78984375,
          27856.983203125,
          28228.603125,
          28733.2625,
          29013.0515625,
          29328.68125,
          30280.259765625,
          31316.60390625,
          32280.578125,
          33128.225390625,
          33911.40625,
          34112.07421875,
          34239.46484375,
          34239.3734375,
          34341.6,
          34647.090625,
          34816.82421875,
          34855.59296875,
          34971.559375,
          35047.87421875,
          34967.89765625,
          35068.96171875,
          35253.04921875
         ],
         "yaxis": "y2"
        }
       ],
       "layout": {
        "annotations": [
         {
          "font": {
           "size": 16
          },
          "showarrow": false,
          "text": "Cotação",
          "x": 0.5,
          "xanchor": "center",
          "xref": "paper",
          "y": 1,
          "yanchor": "bottom",
          "yref": "paper"
         },
         {
          "font": {
           "size": 16
          },
          "showarrow": false,
          "text": "Fechamento",
          "x": 0.5,
          "xanchor": "center",
          "xref": "paper",
          "y": 0.46,
          "yanchor": "bottom",
          "yref": "paper"
         }
        ],
        "font": {
         "color": "white",
         "size": 16
        },
        "height": 800,
        "legend": {
         "font": {
          "size": 9
         },
         "orientation": "h",
         "x": 1,
         "xanchor": "right",
         "y": 1.02,
         "yanchor": "bottom"
        },
        "paper_bgcolor": "rgb(0, 0, 0)",
        "plot_bgcolor": "rgb(10, 10, 10)",
        "template": {
         "data": {
          "bar": [
           {
            "error_x": {
             "color": "#f2f5fa"
            },
            "error_y": {
             "color": "#f2f5fa"
            },
            "marker": {
             "line": {
              "color": "rgb(17,17,17)",
              "width": 0.5
             },
             "pattern": {
              "fillmode": "overlay",
              "size": 10,
              "solidity": 0.2
             }
            },
            "type": "bar"
           }
          ],
          "barpolar": [
           {
            "marker": {
             "line": {
              "color": "rgb(17,17,17)",
              "width": 0.5
             },
             "pattern": {
              "fillmode": "overlay",
              "size": 10,
              "solidity": 0.2
             }
            },
            "type": "barpolar"
           }
          ],
          "carpet": [
           {
            "aaxis": {
             "endlinecolor": "#A2B1C6",
             "gridcolor": "#506784",
             "linecolor": "#506784",
             "minorgridcolor": "#506784",
             "startlinecolor": "#A2B1C6"
            },
            "baxis": {
             "endlinecolor": "#A2B1C6",
             "gridcolor": "#506784",
             "linecolor": "#506784",
             "minorgridcolor": "#506784",
             "startlinecolor": "#A2B1C6"
            },
            "type": "carpet"
           }
          ],
          "choropleth": [
           {
            "colorbar": {
             "outlinewidth": 0,
             "ticks": ""
            },
            "type": "choropleth"
           }
          ],
          "contour": [
           {
            "colorbar": {
             "outlinewidth": 0,
             "ticks": ""
            },
            "colorscale": [
             [
              0,
              "#0d0887"
             ],
             [
              0.1111111111111111,
              "#46039f"
             ],
             [
              0.2222222222222222,
              "#7201a8"
             ],
             [
              0.3333333333333333,
              "#9c179e"
             ],
             [
              0.4444444444444444,
              "#bd3786"
             ],
             [
              0.5555555555555556,
              "#d8576b"
             ],
             [
              0.6666666666666666,
              "#ed7953"
             ],
             [
              0.7777777777777778,
              "#fb9f3a"
             ],
             [
              0.8888888888888888,
              "#fdca26"
             ],
             [
              1,
              "#f0f921"
             ]
            ],
            "type": "contour"
           }
          ],
          "contourcarpet": [
           {
            "colorbar": {
             "outlinewidth": 0,
             "ticks": ""
            },
            "type": "contourcarpet"
           }
          ],
          "heatmap": [
           {
            "colorbar": {
             "outlinewidth": 0,
             "ticks": ""
            },
            "colorscale": [
             [
              0,
              "#0d0887"
             ],
             [
              0.1111111111111111,
              "#46039f"
             ],
             [
              0.2222222222222222,
              "#7201a8"
             ],
             [
              0.3333333333333333,
              "#9c179e"
             ],
             [
              0.4444444444444444,
              "#bd3786"
             ],
             [
              0.5555555555555556,
              "#d8576b"
             ],
             [
              0.6666666666666666,
              "#ed7953"
             ],
             [
              0.7777777777777778,
              "#fb9f3a"
             ],
             [
              0.8888888888888888,
              "#fdca26"
             ],
             [
              1,
              "#f0f921"
             ]
            ],
            "type": "heatmap"
           }
          ],
          "heatmapgl": [
           {
            "colorbar": {
             "outlinewidth": 0,
             "ticks": ""
            },
            "colorscale": [
             [
              0,
              "#0d0887"
             ],
             [
              0.1111111111111111,
              "#46039f"
             ],
             [
              0.2222222222222222,
              "#7201a8"
             ],
             [
              0.3333333333333333,
              "#9c179e"
             ],
             [
              0.4444444444444444,
              "#bd3786"
             ],
             [
              0.5555555555555556,
              "#d8576b"
             ],
             [
              0.6666666666666666,
              "#ed7953"
             ],
             [
              0.7777777777777778,
              "#fb9f3a"
             ],
             [
              0.8888888888888888,
              "#fdca26"
             ],
             [
              1,
              "#f0f921"
             ]
            ],
            "type": "heatmapgl"
           }
          ],
          "histogram": [
           {
            "marker": {
             "pattern": {
              "fillmode": "overlay",
              "size": 10,
              "solidity": 0.2
             }
            },
            "type": "histogram"
           }
          ],
          "histogram2d": [
           {
            "colorbar": {
             "outlinewidth": 0,
             "ticks": ""
            },
            "colorscale": [
             [
              0,
              "#0d0887"
             ],
             [
              0.1111111111111111,
              "#46039f"
             ],
             [
              0.2222222222222222,
              "#7201a8"
             ],
             [
              0.3333333333333333,
              "#9c179e"
             ],
             [
              0.4444444444444444,
              "#bd3786"
             ],
             [
              0.5555555555555556,
              "#d8576b"
             ],
             [
              0.6666666666666666,
              "#ed7953"
             ],
             [
              0.7777777777777778,
              "#fb9f3a"
             ],
             [
              0.8888888888888888,
              "#fdca26"
             ],
             [
              1,
              "#f0f921"
             ]
            ],
            "type": "histogram2d"
           }
          ],
          "histogram2dcontour": [
           {
            "colorbar": {
             "outlinewidth": 0,
             "ticks": ""
            },
            "colorscale": [
             [
              0,
              "#0d0887"
             ],
             [
              0.1111111111111111,
              "#46039f"
             ],
             [
              0.2222222222222222,
              "#7201a8"
             ],
             [
              0.3333333333333333,
              "#9c179e"
             ],
             [
              0.4444444444444444,
              "#bd3786"
             ],
             [
              0.5555555555555556,
              "#d8576b"
             ],
             [
              0.6666666666666666,
              "#ed7953"
             ],
             [
              0.7777777777777778,
              "#fb9f3a"
             ],
             [
              0.8888888888888888,
              "#fdca26"
             ],
             [
              1,
              "#f0f921"
             ]
            ],
            "type": "histogram2dcontour"
           }
          ],
          "mesh3d": [
           {
            "colorbar": {
             "outlinewidth": 0,
             "ticks": ""
            },
            "type": "mesh3d"
           }
          ],
          "parcoords": [
           {
            "line": {
             "colorbar": {
              "outlinewidth": 0,
              "ticks": ""
             }
            },
            "type": "parcoords"
           }
          ],
          "pie": [
           {
            "automargin": true,
            "type": "pie"
           }
          ],
          "scatter": [
           {
            "marker": {
             "line": {
              "color": "#283442"
             }
            },
            "type": "scatter"
           }
          ],
          "scatter3d": [
           {
            "line": {
             "colorbar": {
              "outlinewidth": 0,
              "ticks": ""
             }
            },
            "marker": {
             "colorbar": {
              "outlinewidth": 0,
              "ticks": ""
             }
            },
            "type": "scatter3d"
           }
          ],
          "scattercarpet": [
           {
            "marker": {
             "colorbar": {
              "outlinewidth": 0,
              "ticks": ""
             }
            },
            "type": "scattercarpet"
           }
          ],
          "scattergeo": [
           {
            "marker": {
             "colorbar": {
              "outlinewidth": 0,
              "ticks": ""
             }
            },
            "type": "scattergeo"
           }
          ],
          "scattergl": [
           {
            "marker": {
             "line": {
              "color": "#283442"
             }
            },
            "type": "scattergl"
           }
          ],
          "scattermapbox": [
           {
            "marker": {
             "colorbar": {
              "outlinewidth": 0,
              "ticks": ""
             }
            },
            "type": "scattermapbox"
           }
          ],
          "scatterpolar": [
           {
            "marker": {
             "colorbar": {
              "outlinewidth": 0,
              "ticks": ""
             }
            },
            "type": "scatterpolar"
           }
          ],
          "scatterpolargl": [
           {
            "marker": {
             "colorbar": {
              "outlinewidth": 0,
              "ticks": ""
             }
            },
            "type": "scatterpolargl"
           }
          ],
          "scatterternary": [
           {
            "marker": {
             "colorbar": {
              "outlinewidth": 0,
              "ticks": ""
             }
            },
            "type": "scatterternary"
           }
          ],
          "surface": [
           {
            "colorbar": {
             "outlinewidth": 0,
             "ticks": ""
            },
            "colorscale": [
             [
              0,
              "#0d0887"
             ],
             [
              0.1111111111111111,
              "#46039f"
             ],
             [
              0.2222222222222222,
              "#7201a8"
             ],
             [
              0.3333333333333333,
              "#9c179e"
             ],
             [
              0.4444444444444444,
              "#bd3786"
             ],
             [
              0.5555555555555556,
              "#d8576b"
             ],
             [
              0.6666666666666666,
              "#ed7953"
             ],
             [
              0.7777777777777778,
              "#fb9f3a"
             ],
             [
              0.8888888888888888,
              "#fdca26"
             ],
             [
              1,
              "#f0f921"
             ]
            ],
            "type": "surface"
           }
          ],
          "table": [
           {
            "cells": {
             "fill": {
              "color": "#506784"
             },
             "line": {
              "color": "rgb(17,17,17)"
             }
            },
            "header": {
             "fill": {
              "color": "#2a3f5f"
             },
             "line": {
              "color": "rgb(17,17,17)"
             }
            },
            "type": "table"
           }
          ]
         },
         "layout": {
          "annotationdefaults": {
           "arrowcolor": "#f2f5fa",
           "arrowhead": 0,
           "arrowwidth": 1
          },
          "autotypenumbers": "strict",
          "coloraxis": {
           "colorbar": {
            "outlinewidth": 0,
            "ticks": ""
           }
          },
          "colorscale": {
           "diverging": [
            [
             0,
             "#8e0152"
            ],
            [
             0.1,
             "#c51b7d"
            ],
            [
             0.2,
             "#de77ae"
            ],
            [
             0.3,
             "#f1b6da"
            ],
            [
             0.4,
             "#fde0ef"
            ],
            [
             0.5,
             "#f7f7f7"
            ],
            [
             0.6,
             "#e6f5d0"
            ],
            [
             0.7,
             "#b8e186"
            ],
            [
             0.8,
             "#7fbc41"
            ],
            [
             0.9,
             "#4d9221"
            ],
            [
             1,
             "#276419"
            ]
           ],
           "sequential": [
            [
             0,
             "#0d0887"
            ],
            [
             0.1111111111111111,
             "#46039f"
            ],
            [
             0.2222222222222222,
             "#7201a8"
            ],
            [
             0.3333333333333333,
             "#9c179e"
            ],
            [
             0.4444444444444444,
             "#bd3786"
            ],
            [
             0.5555555555555556,
             "#d8576b"
            ],
            [
             0.6666666666666666,
             "#ed7953"
            ],
            [
             0.7777777777777778,
             "#fb9f3a"
            ],
            [
             0.8888888888888888,
             "#fdca26"
            ],
            [
             1,
             "#f0f921"
            ]
           ],
           "sequentialminus": [
            [
             0,
             "#0d0887"
            ],
            [
             0.1111111111111111,
             "#46039f"
            ],
            [
             0.2222222222222222,
             "#7201a8"
            ],
            [
             0.3333333333333333,
             "#9c179e"
            ],
            [
             0.4444444444444444,
             "#bd3786"
            ],
            [
             0.5555555555555556,
             "#d8576b"
            ],
            [
             0.6666666666666666,
             "#ed7953"
            ],
            [
             0.7777777777777778,
             "#fb9f3a"
            ],
            [
             0.8888888888888888,
             "#fdca26"
            ],
            [
             1,
             "#f0f921"
            ]
           ]
          },
          "colorway": [
           "#636efa",
           "#EF553B",
           "#00cc96",
           "#ab63fa",
           "#FFA15A",
           "#19d3f3",
           "#FF6692",
           "#B6E880",
           "#FF97FF",
           "#FECB52"
          ],
          "font": {
           "color": "#f2f5fa"
          },
          "geo": {
           "bgcolor": "rgb(17,17,17)",
           "lakecolor": "rgb(17,17,17)",
           "landcolor": "rgb(17,17,17)",
           "showlakes": true,
           "showland": true,
           "subunitcolor": "#506784"
          },
          "hoverlabel": {
           "align": "left"
          },
          "hovermode": "closest",
          "mapbox": {
           "style": "dark"
          },
          "paper_bgcolor": "rgb(17,17,17)",
          "plot_bgcolor": "rgb(17,17,17)",
          "polar": {
           "angularaxis": {
            "gridcolor": "#506784",
            "linecolor": "#506784",
            "ticks": ""
           },
           "bgcolor": "rgb(17,17,17)",
           "radialaxis": {
            "gridcolor": "#506784",
            "linecolor": "#506784",
            "ticks": ""
           }
          },
          "scene": {
           "xaxis": {
            "backgroundcolor": "rgb(17,17,17)",
            "gridcolor": "#506784",
            "gridwidth": 2,
            "linecolor": "#506784",
            "showbackground": true,
            "ticks": "",
            "zerolinecolor": "#C8D4E3"
           },
           "yaxis": {
            "backgroundcolor": "rgb(17,17,17)",
            "gridcolor": "#506784",
            "gridwidth": 2,
            "linecolor": "#506784",
            "showbackground": true,
            "ticks": "",
            "zerolinecolor": "#C8D4E3"
           },
           "zaxis": {
            "backgroundcolor": "rgb(17,17,17)",
            "gridcolor": "#506784",
            "gridwidth": 2,
            "linecolor": "#506784",
            "showbackground": true,
            "ticks": "",
            "zerolinecolor": "#C8D4E3"
           }
          },
          "shapedefaults": {
           "line": {
            "color": "#f2f5fa"
           }
          },
          "sliderdefaults": {
           "bgcolor": "#C8D4E3",
           "bordercolor": "rgb(17,17,17)",
           "borderwidth": 1,
           "tickwidth": 0
          },
          "ternary": {
           "aaxis": {
            "gridcolor": "#506784",
            "linecolor": "#506784",
            "ticks": ""
           },
           "baxis": {
            "gridcolor": "#506784",
            "linecolor": "#506784",
            "ticks": ""
           },
           "bgcolor": "rgb(17,17,17)",
           "caxis": {
            "gridcolor": "#506784",
            "linecolor": "#506784",
            "ticks": ""
           }
          },
          "title": {
           "x": 0.05
          },
          "updatemenudefaults": {
           "bgcolor": "#506784",
           "borderwidth": 0
          },
          "xaxis": {
           "automargin": true,
           "gridcolor": "#283442",
           "linecolor": "#506784",
           "ticks": "",
           "title": {
            "standoff": 15
           },
           "zerolinecolor": "#283442",
           "zerolinewidth": 2
          },
          "yaxis": {
           "automargin": true,
           "gridcolor": "#283442",
           "linecolor": "#506784",
           "ticks": "",
           "title": {
            "standoff": 15
           },
           "zerolinecolor": "#283442",
           "zerolinewidth": 2
          }
         }
        },
        "title": {
         "text": "<b>Cotação do Bitcoin<b>"
        },
        "width": 1000,
        "xaxis": {
         "anchor": "y",
         "domain": [
          0,
          1
         ],
         "matches": "x2",
         "rangeslider": {
          "visible": false
         },
         "showticklabels": false
        },
        "xaxis2": {
         "anchor": "y2",
         "domain": [
          0,
          1
         ]
        },
        "yaxis": {
         "anchor": "x",
         "domain": [
          0.54,
          1
         ]
        },
        "yaxis2": {
         "anchor": "x2",
         "domain": [
          0,
          0.46
         ]
        }
       }
      }
     },
     "metadata": {},
     "output_type": "display_data"
    }
   ],
   "source": [
    "# definindo como será o relatório\n",
    "relatorio = make_subplots(\n",
    "    rows = 2,                                       # definindo o número de linhas do relatório\n",
    "    cols = 1,                                       # definindo o número de colunas do relatório\n",
    "    specs = [\n",
    "        [{'type':'scatter'}],\n",
    "        [{'type':'scatter'}],\n",
    "    ],\n",
    "    subplot_titles = ('Cotação', 'Fechamento'),     # definindo o título de cada gráfico\n",
    "    shared_xaxes = True,                            # argumento para que ambos os gráficos compartilhem o mesmo eixo x\n",
    "    vertical_spacing = 0.08                         # definindo a distância vertical entre os gráficos\n",
    ")\n",
    "\n",
    "# ajuste do Layout\n",
    "relatorio.update_layout(\n",
    "    width = 1000, height = 800,                                         # definindo a dimensão\n",
    "    title_text = '<b>Cotação do Bitcoin<b>',                            # título do relatório\n",
    "    template = 'plotly_dark',                                           # definindo o estilo\n",
    "    paper_bgcolor = 'rgb(0, 0, 0)', plot_bgcolor = 'rgb(10, 10, 10)',   # ajuste de layout gráficos\n",
    "    font = dict(color = 'white', size = 16)                             # ajustando a cor do título e o tamanho da fonte\n",
    ")\n",
    "\n",
    "# definindo o gráfico candlestick na primeira linha do relatório\n",
    "relatorio.add_trace(\n",
    "    go.Candlestick(\n",
    "        x = dados.index,\n",
    "        open = dados['Open'],\n",
    "        high = dados['High'],\n",
    "        low = dados['Low'],\n",
    "        close = dados['Close']\n",
    "    ), \n",
    "    row = 1, col = 1            # ajustando a posição do gráfico no relatório\n",
    ")\n",
    "\n",
    "# retirando a barra visivel\n",
    "relatorio.update_layout(\n",
    "    xaxis_rangeslider_visible=False\n",
    ")\n",
    "\n",
    "# definindo o gráfico dos preços de fechamento na segunda linha do relatório\n",
    "relatorio.add_trace(\n",
    "    go.Scatter(\n",
    "        x = dados.index,\n",
    "        y = dados['Close'],\n",
    "        name = 'Fechamento',\n",
    "        line = dict(color = 'green')    # definindo a cor da linha do gráfico\n",
    "    ),\n",
    "    row = 2, col = 1                    # ajustando a posição do gráfico no relatório\n",
    ")\n",
    "\n",
    "# adicionando no gráfico de fechamento definido acima, a linha com os dados das médias móveis de fechamento\n",
    "relatorio.add_trace(\n",
    "    go.Scatter(\n",
    "        x = dados.index,\n",
    "        y = dados['Media_movel'],\n",
    "        mode = 'lines',\n",
    "        name = 'Média Móvel',\n",
    "        line = dict(color = 'rgb(158, 58, 171)')    # definindo a cor da linha do gráfico\n",
    "    ),\n",
    "    row = 2, col = 1                                # é a mesma posição do gráfico acima, justamente para ambos\n",
    ")                                                   # pertencerem ao mesmo gráfico\n",
    "\n",
    "# ajuste da posição da legenda\n",
    "relatorio.update_layout(\n",
    "    legend = dict(\n",
    "        orientation = 'h',\n",
    "        yanchor = 'bottom',\n",
    "        y = 1.02,\n",
    "        xanchor = 'right',\n",
    "        x = 1,\n",
    "        font = dict(size = 9)\n",
    "    )\n",
    ")\n",
    "\n",
    "# exibindo o relatório\n",
    "relatorio.show()"
   ]
  },
  {
   "cell_type": "markdown",
   "metadata": {},
   "source": [
    "### Exportando em pdf"
   ]
  },
  {
   "cell_type": "markdown",
   "metadata": {},
   "source": [
    "Por último, para exportar o relatório criado acima em um arquivo pdf, utilizou-se a função write_image( ), passando o nome do arquivo e o formato dele, conforme demonstrado abaixo."
   ]
  },
  {
   "cell_type": "code",
   "execution_count": 17,
   "metadata": {},
   "outputs": [],
   "source": [
    "relatorio.write_image('Report_Financeiro.pdf')"
   ]
  }
 ],
 "metadata": {
  "kernelspec": {
   "display_name": "Python 3",
   "language": "python",
   "name": "python3"
  },
  "language_info": {
   "codemirror_mode": {
    "name": "ipython",
    "version": 3
   },
   "file_extension": ".py",
   "mimetype": "text/x-python",
   "name": "python",
   "nbconvert_exporter": "python",
   "pygments_lexer": "ipython3",
   "version": "3.11.2"
  }
 },
 "nbformat": 4,
 "nbformat_minor": 2
}
